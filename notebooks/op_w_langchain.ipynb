{
 "cells": [
  {
   "cell_type": "markdown",
   "id": "1eeeb556-fdc2-45b3-86fc-7d0aab44ef8c",
   "metadata": {},
   "source": [
    "# LLM and RAGs with Langchain"
   ]
  },
  {
   "cell_type": "markdown",
   "id": "b6494b55-e529-4179-9072-aa1e02e6432b",
   "metadata": {},
   "source": [
    "# Code Starts here"
   ]
  },
  {
   "cell_type": "code",
   "execution_count": 2,
   "id": "5812a783-e4f0-4b89-b4b5-cb785cdd9748",
   "metadata": {},
   "outputs": [],
   "source": [
    "from codes.utils import set_ipynb_config, time_it"
   ]
  },
  {
   "cell_type": "code",
   "execution_count": 3,
   "id": "3e0042c9-0caf-4482-81ea-021cd4ead078",
   "metadata": {},
   "outputs": [],
   "source": [
    "set_ipynb_config()"
   ]
  },
  {
   "cell_type": "code",
   "execution_count": 12,
   "id": "7fe82df1-5c0b-4359-89dc-cf9d4c8f4786",
   "metadata": {},
   "outputs": [],
   "source": [
    "from dotenv import load_dotenv"
   ]
  },
  {
   "cell_type": "code",
   "execution_count": 13,
   "id": "914ec5f0-8ab3-40b6-8c04-ee92ed86e325",
   "metadata": {},
   "outputs": [
    {
     "data": {
      "text/plain": [
       "True"
      ]
     },
     "execution_count": 13,
     "metadata": {},
     "output_type": "execute_result"
    }
   ],
   "source": [
    "load_dotenv()"
   ]
  },
  {
   "cell_type": "code",
   "execution_count": 6,
   "id": "73219928-93ea-46f6-b842-400b9923976d",
   "metadata": {},
   "outputs": [],
   "source": [
    "import os"
   ]
  },
  {
   "cell_type": "code",
   "execution_count": null,
   "id": "2fabf785-c5bb-4191-a20f-7a6037b1b236",
   "metadata": {},
   "outputs": [],
   "source": []
  },
  {
   "cell_type": "raw",
   "id": "2cccaee0-5bf4-4b44-a1c5-d2ad80e96c0e",
   "metadata": {},
   "source": [
    "from codes.llm_gateway import (\n",
    "    openAI_wo_api, \n",
    ")"
   ]
  },
  {
   "cell_type": "code",
   "execution_count": 69,
   "id": "ebfd8841-6e24-484b-bb9a-b79014dfc0cc",
   "metadata": {},
   "outputs": [
    {
     "data": {
      "text/plain": [
       "'gpt-3.5-turbo-1106'"
      ]
     },
     "execution_count": 69,
     "metadata": {},
     "output_type": "execute_result"
    }
   ],
   "source": [
    "model_names = [\"gpt-3.5-turbo-instruct\", \"gpt-3.5-turbo-1106\", \"gpt-4\", \"gpt-4o\"]\n",
    "model = model_names[1]\n",
    "model"
   ]
  },
  {
   "cell_type": "code",
   "execution_count": 70,
   "id": "d5f8bc2a-a886-4a98-8bf6-7a4166aee589",
   "metadata": {},
   "outputs": [],
   "source": [
    "from langchain.llms.openai import OpenAI\n",
    "from langchain_community.chat_models import ChatOpenAI"
   ]
  },
  {
   "cell_type": "code",
   "execution_count": 70,
   "id": "eb787e2e-5458-437f-8bad-6c7747c0a476",
   "metadata": {},
   "outputs": [
    {
     "name": "stdout",
     "output_type": "stream",
     "text": [
      "content='The Presidents of India have been:\\n\\n1. Dr. Rajendra Prasad (1950-1962)\\n2. Dr. Sarvepalli Radhakrishnan (1962-1967)\\n3. Dr. Zakir Husain (1967-1969)\\n4. V. V. Giri (1969-1974)\\n5. Fakhruddin Ali Ahmed (1974-1977)\\n6. Neelam Sanjiva Reddy (1977-1982)\\n7. Giani Zail Singh (1982-1987)\\n8. R. Venkataraman (1987-1992)\\n9. Dr. Shankar Dayal Sharma (1992-1997)\\n10. K. R. Narayanan (1997-2002)\\n11. Dr. A. P. J. Abdul Kalam (2002-2007)\\n12. Pratibha Patil (2007-2012)\\n13. Pranab Mukherjee (2012-2017)\\n14. Ram Nath Kovind (2017-present)' response_metadata={'token_usage': {'completion_tokens': 227, 'prompt_tokens': 15, 'total_tokens': 242}, 'model_name': 'gpt-3.5-turbo-1106', 'system_fingerprint': None, 'finish_reason': 'stop', 'logprobs': None} id='run-4c33c0c8-f39f-4179-8384-eaafa93914bc-0'\n"
     ]
    }
   ],
   "source": [
    "query = \"Who have been the Presidents of India?\"\n",
    "\n",
    "if model == \"gpt-3.5-turbo-instruct\":\n",
    "    llm = OpenAI(model_name=model, temperature=0.)\n",
    "    response = llm.invoke(query)  # response --> output as str\n",
    "    print(response)\n",
    "    \n",
    "elif model == \"gpt-3.5-turbo-1106\":\n",
    "    llm = ChatOpenAI(model_name=model, temperature=0.)\n",
    "    response = llm.invoke(query)  # response.content --> output as str\n",
    "    print(response)\n",
    "    \n",
    "elif model == \"gpt-4\":\n",
    "    llm = ChatOpenAI(model_name=model, temperature=0.)\n",
    "    response = llm.invoke(query)  # response.content --> output as str\n",
    "    print(response)\n",
    "    \n",
    "elif model == \"gpt-4o\":\n",
    "    llm = ChatOpenAI(model_name=model, temperature=0.)\n",
    "    response = llm.invoke(query)  # response.content --> output as str\n",
    "    print(response)\n",
    "    \n",
    "else:\n",
    "    raise NotImplementedError"
   ]
  },
  {
   "cell_type": "code",
   "execution_count": 71,
   "id": "d20a1dc1-8b78-4bd0-a621-9be37cac45e1",
   "metadata": {},
   "outputs": [
    {
     "name": "stdout",
     "output_type": "stream",
     "text": [
      "The Presidents of India have been:\n",
      "\n",
      "1. Dr. Rajendra Prasad (1950-1962)\n",
      "2. Dr. Sarvepalli Radhakrishnan (1962-1967)\n",
      "3. Dr. Zakir Husain (1967-1969)\n",
      "4. V. V. Giri (1969-1974)\n",
      "5. Fakhruddin Ali Ahmed (1974-1977)\n",
      "6. Neelam Sanjiva Reddy (1977-1982)\n",
      "7. Giani Zail Singh (1982-1987)\n",
      "8. R. Venkataraman (1987-1992)\n",
      "9. Dr. Shankar Dayal Sharma (1992-1997)\n",
      "10. K. R. Narayanan (1997-2002)\n",
      "11. Dr. A. P. J. Abdul Kalam (2002-2007)\n",
      "12. Pratibha Patil (2007-2012)\n",
      "13. Pranab Mukherjee (2012-2017)\n",
      "14. Ram Nath Kovind (2017-present)\n"
     ]
    }
   ],
   "source": [
    "print(response.content)"
   ]
  },
  {
   "cell_type": "code",
   "execution_count": 46,
   "id": "1efe520e-7d11-4430-b9cb-22f2720c244c",
   "metadata": {},
   "outputs": [
    {
     "name": "stdout",
     "output_type": "stream",
     "text": [
      "content='The Presidents of India have been:\\n\\n1. Dr. Rajendra Prasad (1950-1962)\\n2. Dr. Sarvepalli Radhakrishnan (1962-1967)\\n3. Dr. Zakir Husain (1967-1969)\\n4. V. V. Giri (1969-1974)\\n5. Fakhruddin Ali Ahmed (1974-1977)\\n6. Neelam Sanjiva Reddy (1977-1982)\\n7. Giani Zail Singh (1982-1987)\\n8. R. Venkataraman (1987-1992)\\n9. Dr. Shankar Dayal Sharma (1992-1997)\\n10. K. R. Narayanan (1997-2002)\\n11. Dr. A. P. J. Abdul Kalam (2002-2007)\\n12. Pratibha Patil (2007-2012)\\n13. Pranab Mukherjee (2012-2017)\\n14. Ram Nath Kovind (2017-present)' response_metadata={'token_usage': {'completion_tokens': 227, 'prompt_tokens': 15, 'total_tokens': 242}, 'model_name': 'gpt-3.5-turbo-1106', 'system_fingerprint': None, 'finish_reason': 'stop', 'logprobs': None} id='run-565cadbd-fa0d-4c2d-b2b2-c80e5909963a-0'\n"
     ]
    }
   ],
   "source": [
    "print(response)"
   ]
  },
  {
   "cell_type": "code",
   "execution_count": null,
   "id": "51e9e901-4fb9-4e27-aa09-fbfacd43cfc3",
   "metadata": {},
   "outputs": [],
   "source": []
  },
  {
   "cell_type": "code",
   "execution_count": 18,
   "id": "123e6d97-43e6-4a9c-bf9a-ed9ba9ec4649",
   "metadata": {},
   "outputs": [],
   "source": [
    "from langchain.text_splitter import RecursiveCharacterTextSplitter\n",
    "from langchain.document_loaders import PyPDFLoader, TextLoader, CSVLoader"
   ]
  },
  {
   "cell_type": "code",
   "execution_count": null,
   "id": "88153778-2b3e-445c-bfb0-e3be7d0dfe6d",
   "metadata": {},
   "outputs": [],
   "source": []
  },
  {
   "cell_type": "markdown",
   "id": "513a27c8-bd7c-4059-a804-dbd11bbafa92",
   "metadata": {},
   "source": [
    "## Load data"
   ]
  },
  {
   "cell_type": "code",
   "execution_count": 21,
   "id": "12c4bff7-9e89-4608-b482-fad483864672",
   "metadata": {},
   "outputs": [],
   "source": [
    "path_data = 'data/'"
   ]
  },
  {
   "cell_type": "code",
   "execution_count": 20,
   "id": "16bd3ad8-155a-475e-8b23-769faa90d576",
   "metadata": {},
   "outputs": [
    {
     "data": {
      "text/plain": [
       "'/Users/pinaki/Downloads/models/vector-dbs/'"
      ]
     },
     "execution_count": 20,
     "metadata": {},
     "output_type": "execute_result"
    }
   ],
   "source": [
    "persist_directory = '/Users/pinaki/Downloads/models/vector-dbs/'\n",
    "persist_directory"
   ]
  },
  {
   "cell_type": "code",
   "execution_count": null,
   "id": "2350b300-4926-45e9-860a-d955a39c68bf",
   "metadata": {},
   "outputs": [],
   "source": []
  },
  {
   "cell_type": "code",
   "execution_count": 22,
   "id": "dc11b472-1f40-4596-945f-82bf2769c29c",
   "metadata": {},
   "outputs": [],
   "source": [
    "def get_document_from_directory(path):\n",
    "    loader = TextLoader(path)\n",
    "    docs = loader.load()\n",
    "    \n",
    "    splitter = RecursiveCharacterTextSplitter(\n",
    "        chunk_size=200,\n",
    "        chunk_overlap=10,\n",
    "        length_function=len\n",
    "    )\n",
    "    splitDocs = splitter.split_documents(docs)\n",
    "    l_splitDocs = [str(doc.page_content) for doc in splitDocs]\n",
    "    return l_splitDocs"
   ]
  },
  {
   "cell_type": "markdown",
   "id": "e090502e-b36c-4136-af6d-8d4c201d3a96",
   "metadata": {},
   "source": [
    "## Embeddings"
   ]
  },
  {
   "cell_type": "code",
   "execution_count": 23,
   "id": "25cc471e-9430-4c6c-a39f-3bedc9082247",
   "metadata": {},
   "outputs": [],
   "source": [
    "from langchain.embeddings import SentenceTransformerEmbeddings"
   ]
  },
  {
   "cell_type": "code",
   "execution_count": 24,
   "id": "0a9cf67d-9ea4-4b97-93ab-82b91af432bb",
   "metadata": {},
   "outputs": [],
   "source": [
    "def get_embedding_func():\n",
    "    embedder = SentenceTransformerEmbeddings(\n",
    "        model_name=\"all-MiniLM-L6-v2\", \n",
    "    )\n",
    "    return embedder"
   ]
  },
  {
   "cell_type": "code",
   "execution_count": null,
   "id": "ad74f9b9-53c6-4253-8929-1a8e7c3d63fd",
   "metadata": {},
   "outputs": [],
   "source": []
  },
  {
   "cell_type": "markdown",
   "id": "129aa4cc-0e66-4f37-bef9-bef46ec1682b",
   "metadata": {},
   "source": [
    "## Vector DB"
   ]
  },
  {
   "cell_type": "code",
   "execution_count": 25,
   "id": "41592b53-a4a7-4795-b450-8e4ceebbf2ef",
   "metadata": {},
   "outputs": [],
   "source": [
    "from langchain_community.vectorstores.chroma import Chroma\n"
   ]
  },
  {
   "cell_type": "code",
   "execution_count": 26,
   "id": "79c4574d-1d0d-4c69-8b8b-b7801a8e9278",
   "metadata": {},
   "outputs": [],
   "source": [
    "def create_db(docs):\n",
    "    embedding = SentenceTransformerEmbeddings(model_name=\"all-MiniLM-L6-v2\")\n",
    "    l_docs = [str(doc.page_content) for doc in docs]\n",
    "    docs_embedded = embedding.encode(l_docs)\n",
    "    vectorStore = Chroma.from_documents(docs_embedded)\n",
    "    # vectorStore = Chroma.from_documents(docs, embedding=embedding)\n",
    "    return vectorStore\n"
   ]
  },
  {
   "cell_type": "markdown",
   "id": "e48e05cc-f80e-4961-a1a1-64a0fb94f1d7",
   "metadata": {},
   "source": [
    "## Chain"
   ]
  },
  {
   "cell_type": "code",
   "execution_count": 27,
   "id": "e0258a23-94c0-4041-aab3-d0d2cd84436c",
   "metadata": {},
   "outputs": [],
   "source": [
    "from langchain_core.prompts import ChatPromptTemplate\n",
    "from langchain.chains.combine_documents import create_stuff_documents_chain\n",
    "from langchain.chains import create_retrieval_chain"
   ]
  },
  {
   "cell_type": "code",
   "execution_count": 37,
   "id": "695adc4f-883f-4004-84fa-4e228c649d02",
   "metadata": {},
   "outputs": [],
   "source": [
    "def create_chain(retriever):\n",
    "    model = OpenAI(model_name=\"gpt-3.5-turbo-instruct\", temperature=0.)\n",
    "\n",
    "    prompt = ChatPromptTemplate.from_template(\"\"\"\n",
    "    Answer the question based only on the context provided. Keep the answer crisp and clear.\n",
    "    Do not use your outside knowledge to answer the question.\n",
    "    When you do not know an answer, just mention you do not know.\n",
    "    Context: {context}\n",
    "    Question: {input}                                       \n",
    "    \"\"\")\n",
    "\n",
    "    chain = create_stuff_documents_chain(\n",
    "        llm=model,\n",
    "        prompt=prompt\n",
    "    )\n",
    "\n",
    "    retrieval_chain = create_retrieval_chain(\n",
    "        retriever,\n",
    "        chain\n",
    "    )\n",
    "\n",
    "    return retrieval_chain"
   ]
  },
  {
   "cell_type": "code",
   "execution_count": null,
   "id": "7cb8bd3b-0cac-47e2-8492-e46a35282c06",
   "metadata": {},
   "outputs": [],
   "source": []
  },
  {
   "cell_type": "raw",
   "id": "6d576300-d7a9-4268-ab72-e08f2320f009",
   "metadata": {},
   "source": [
    "docs = get_document_from_directory(file_text)"
   ]
  },
  {
   "cell_type": "raw",
   "id": "ea46af51-5f73-40f4-a4e9-eb6f4a8dacc6",
   "metadata": {},
   "source": [
    "type(docs)\n",
    "len(docs)\n",
    "len(docs[0])"
   ]
  },
  {
   "cell_type": "raw",
   "id": "4c2587f0-6785-4dcc-8543-705ac047b7d6",
   "metadata": {},
   "source": [
    "vectorStore = Chroma.from_texts(docs, get_embedding_func(), persist_directory=persist_directory)"
   ]
  },
  {
   "cell_type": "raw",
   "id": "9ecf0fe2-bd09-4751-bb2b-6a6edb598bf3",
   "metadata": {},
   "source": [
    "# test retriever\n",
    "test_retriever = vectorStore.as_retriever(\n",
    "    # search_type='similarity', # \"similarity\" (default), \"mmr\", or \"similarity_score_threshold\"\n",
    "    search_type='mmr', # \"similarity\" (default), \"mmr\", or \"similarity_score_threshold\"\n",
    "    # search_type='similarity_score_threshold', # \"similarity\" (default), \"mmr\", or \"similarity_score_threshold\"\n",
    "    search_kwargs={\n",
    "        'k': 5,\n",
    "        'fetch_k': 20,\n",
    "        # 'score_threshold': 0.7,\n",
    "        # 'filter': ''\n",
    "    }\n",
    ")"
   ]
  },
  {
   "cell_type": "raw",
   "id": "57ab7656-dc76-4c05-99d4-f4a12a3a9db1",
   "metadata": {},
   "source": [
    "query = \"What is cold calling\"\n",
    "test_retriever.invoke(query)"
   ]
  },
  {
   "cell_type": "raw",
   "id": "a2f0827b-fc01-4aa5-a7c0-19da2b58e3f3",
   "metadata": {},
   "source": [
    "chain = create_chain(test_retriever)"
   ]
  },
  {
   "cell_type": "markdown",
   "id": "ea915652-3b98-424c-a802-b5236d8da6ad",
   "metadata": {},
   "source": [
    "# Queries & Responses"
   ]
  },
  {
   "cell_type": "raw",
   "id": "77c6327c-8b97-4eba-bd3b-db8cd4051162",
   "metadata": {},
   "source": [
    "def format_output_for_debugging(query):\n",
    "    retrieved_docs = test_retriever.invoke(query)\n",
    "    for retrv in retrieved_docs:\n",
    "        print(retrv.page_content, '\\n')\n",
    "\n",
    "    print(\"-\"*30, \"\\n\")\n",
    "    response = chain.invoke({\n",
    "        \"input\": query,\n",
    "    })\n",
    "    # print(response[\"context\"])\n",
    "    print(response[\"answer\"])"
   ]
  },
  {
   "cell_type": "raw",
   "id": "19c82119-5166-4d62-b26e-c736e5c5491a",
   "metadata": {},
   "source": [
    "query = \"What is cold calling\"\n",
    "format_output_for_debugging(query)"
   ]
  },
  {
   "cell_type": "raw",
   "id": "6179548a-1a9c-44e3-add4-ea8f17cd3ad6",
   "metadata": {},
   "source": []
  },
  {
   "cell_type": "raw",
   "id": "7e920836-0798-41a6-8949-441f5d0bc7b9",
   "metadata": {},
   "source": [
    "query = \"How many others were participating in the Executive Leadership Program?\"\n",
    "format_output_for_debugging(query)"
   ]
  },
  {
   "cell_type": "raw",
   "id": "3b895b60-f3d7-4679-bb8f-c92371a51d64",
   "metadata": {},
   "source": []
  },
  {
   "cell_type": "raw",
   "id": "b81a0f99-efce-4dda-b08b-42d29784bb49",
   "metadata": {},
   "source": [
    "query = \"As per me, which was the most important session in the executive leadership program\"\n",
    "format_output_for_debugging(query)"
   ]
  },
  {
   "cell_type": "raw",
   "id": "3e8f86f3-4e8e-4572-a0be-e2b079773964",
   "metadata": {},
   "source": []
  },
  {
   "cell_type": "raw",
   "id": "25b9c79e-e457-4741-8a0d-7416aa84a5b7",
   "metadata": {},
   "source": [
    "query = \"What was the revenue for Apple products?\"\n",
    "format_output_for_debugging(query)"
   ]
  },
  {
   "cell_type": "code",
   "execution_count": null,
   "id": "7d65da9e-32e9-4dc5-a781-d2c5a84a53f3",
   "metadata": {},
   "outputs": [],
   "source": []
  },
  {
   "cell_type": "code",
   "execution_count": null,
   "id": "26b4ddf7-af1c-4e9a-b959-fb0ea759b700",
   "metadata": {},
   "outputs": [],
   "source": []
  },
  {
   "cell_type": "markdown",
   "id": "b6ef94b1-cc8b-4db3-8c5e-9e221d60a9ea",
   "metadata": {},
   "source": [
    "# Multiple Documents"
   ]
  },
  {
   "cell_type": "code",
   "execution_count": 28,
   "id": "f1490595-f095-4e99-ab6f-ff6a5c6b4643",
   "metadata": {},
   "outputs": [
    {
     "data": {
      "text/plain": [
       "'data/'"
      ]
     },
     "execution_count": 28,
     "metadata": {},
     "output_type": "execute_result"
    }
   ],
   "source": [
    "path_docs = path_data\n",
    "path_docs"
   ]
  },
  {
   "cell_type": "code",
   "execution_count": 29,
   "id": "003358e5-29bc-48c3-8a1d-3a94221d5a8b",
   "metadata": {},
   "outputs": [],
   "source": [
    "marketing_docs = get_document_from_directory(path_docs + 'marketing.txt')"
   ]
  },
  {
   "cell_type": "code",
   "execution_count": 30,
   "id": "9f6f391e-6f4c-4344-ba0c-3e1d99c30505",
   "metadata": {},
   "outputs": [],
   "source": [
    "finance_docs = get_document_from_directory(path_docs + 'personal_finance.txt')"
   ]
  },
  {
   "cell_type": "code",
   "execution_count": null,
   "id": "5a09ec3a-1f8c-4122-aa53-0c2f87b73a08",
   "metadata": {},
   "outputs": [],
   "source": []
  },
  {
   "cell_type": "code",
   "execution_count": 32,
   "id": "27368ef9-e2d5-440f-bde3-112e230db884",
   "metadata": {},
   "outputs": [
    {
     "name": "stderr",
     "output_type": "stream",
     "text": [
      "/Library/Frameworks/Python.framework/Versions/3.10/lib/python3.10/site-packages/huggingface_hub/file_download.py:1132: FutureWarning: `resume_download` is deprecated and will be removed in version 1.0.0. Downloads always resume when possible. If you want to force a new download, use `force_download=True`.\n",
      "  warnings.warn(\n"
     ]
    }
   ],
   "source": [
    "vectorStore_multi = Chroma.from_texts(\n",
    "    marketing_docs, \n",
    "    get_embedding_func(), \n",
    "    metadatas=[{'topics': 'marketing, sales'}],\n",
    "    collection_name='multiple_docs',\n",
    "    persist_directory=persist_directory\n",
    ")"
   ]
  },
  {
   "cell_type": "code",
   "execution_count": 33,
   "id": "60788f94-5762-4e94-a750-518da63a01fa",
   "metadata": {},
   "outputs": [],
   "source": [
    "_ = vectorStore_multi.add_texts(\n",
    "    finance_docs,\n",
    "    metadatas=[{'topics': 'finance, money'}],\n",
    ")"
   ]
  },
  {
   "cell_type": "code",
   "execution_count": 35,
   "id": "be2d0651-ac4d-4846-9683-9609c9ab1f5d",
   "metadata": {},
   "outputs": [],
   "source": [
    "# test retriever\n",
    "\n",
    "# options: \n",
    "# search_type='similarity', # \"similarity\" (default), \"mmr\", or \"similarity_score_threshold\"\n",
    "# search_kwargs={\n",
    "#     # 'k': 5,\n",
    "#     # 'fetch_k': 20,\n",
    "#     # 'score_threshold': 0.7,\n",
    "#     # 'filter': ''\n",
    "# }\n",
    "\n",
    "test_retriever_multi = vectorStore_multi.as_retriever(\n",
    "    search_type='mmr',\n",
    "    search_kwargs={\n",
    "        'k': 5,\n",
    "        'fetch_k': 20,\n",
    "    }\n",
    ")"
   ]
  },
  {
   "cell_type": "code",
   "execution_count": 38,
   "id": "d30121cf-2712-4dff-9855-17e72ec3f85c",
   "metadata": {},
   "outputs": [],
   "source": [
    "chain_multi_docs = create_chain(test_retriever_multi)"
   ]
  },
  {
   "cell_type": "code",
   "execution_count": 39,
   "id": "8bec181b-c9af-482f-adf6-31b4550a78c7",
   "metadata": {},
   "outputs": [],
   "source": [
    "def format_output_for_debugging_multi(query, test_wo_rag:bool=False):\n",
    "    retrieved_docs = test_retriever_multi.invoke(query)\n",
    "    for retrv in retrieved_docs:\n",
    "        print(retrv.page_content, '\\n')\n",
    "\n",
    "    print(\"-\"*30, \"\\n\")\n",
    "    response = chain_multi_docs.invoke({\n",
    "        \"input\": query,\n",
    "    })\n",
    "    print(\"-\"*30)\n",
    "    print(\"Output using RAG\")\n",
    "    print(\"-\"*30)\n",
    "    print(response[\"answer\"])\n",
    "    \n",
    "    # use llm without rag\n",
    "    if test_wo_rag:\n",
    "        print('\\n')\n",
    "        print(\"-\"*30)\n",
    "        print(\"Output without using RAG\")\n",
    "        print(\"-\"*30, '\\n')\n",
    "        query_upd = f\"\"\"\n",
    "        Keep the answer crisp and clear. Keep the answer to less than 200 words.\n",
    "        When you do not know an answer, just mention you do not know.\n",
    "        {query}\n",
    "        \"\"\"\n",
    "        response_wo_rag = llm.invoke(query_upd)\n",
    "        print(response_wo_rag.content)"
   ]
  },
  {
   "cell_type": "code",
   "execution_count": 72,
   "id": "72353643-b8b9-4679-ae10-f7e2eea93e90",
   "metadata": {
    "scrolled": true,
    "tags": []
   },
   "outputs": [
    {
     "name": "stdout",
     "output_type": "stream",
     "text": [
      "But the reality is, gender-inclusive products and marketing strategies for toys still tend to be the exception rather than the rule. \n",
      "\n",
      "That’s also the finding of the latest study on this topic done in collaboration between the Geena Davis Institute on Gender in Media and two chairs of the first North American Toy Association DEI, \n",
      "\n",
      "well — is still gendered, too. Actually, according to a new analysis of over 10,000 globally run ads, gender-stereotypical advertising has only become more prevalent in recent years. \n",
      "\n",
      "targeted toward girls and cars, sporting equipment and toy weapons targeted toward boys, and only around 23% falling into the gender-neutral category. \n",
      "\n",
      "sports equipment. Meanwhile, girls got dolls, dollhouses, beauty sets and… toy kitchen appliances. \n",
      "\n",
      "------------------------------ \n",
      "\n",
      "------------------------------\n",
      "Output using RAG\n",
      "------------------------------\n",
      "\n",
      "Answer: Gender-inclusive products are products that are designed and marketed in a way that does not conform to traditional gender stereotypes. This means that they are not specifically targeted towards either boys or girls, but rather can be enjoyed by anyone regardless of their gender. However, these types of products are still not very common and are often the exception rather than the rule in the toy industry.\n",
      "\n",
      "\n",
      "------------------------------\n",
      "Output without using RAG\n",
      "------------------------------ \n",
      "\n",
      "Gender inclusive products are items that are designed and marketed in a way that is not specific to any one gender. This means that the products are created with the intention of being accessible and appealing to people of all genders. This can include clothing, personal care products, and other items that are traditionally marketed as being for either men or women. Gender inclusive products aim to break down traditional gender stereotypes and provide options that are inclusive and diverse. This can be achieved through the use of neutral colors, sizing options that accommodate a range of body types, and marketing that is inclusive of all genders. Overall, gender inclusive products seek to create a more inclusive and diverse marketplace that is accessible to everyone, regardless of their gender identity.\n"
     ]
    }
   ],
   "source": [
    "# query = \"Write a short note on `gender inclusive products`\"\n",
    "query = \"Tell me about `gender inclusive products`\"\n",
    "# query = \"Tell me about gender inclusive products\" # I do not know.\n",
    "format_output_for_debugging_multi(query, True)"
   ]
  },
  {
   "cell_type": "code",
   "execution_count": null,
   "id": "b4e359ca-f84a-476e-9b6e-d68117a1f6f4",
   "metadata": {},
   "outputs": [],
   "source": []
  },
  {
   "cell_type": "code",
   "execution_count": 73,
   "id": "d5c108ab-986a-491b-8084-441df96405a7",
   "metadata": {},
   "outputs": [
    {
     "name": "stdout",
     "output_type": "stream",
     "text": [
      "If you’re uncomfortable asking for money directly, try getting a loan and paying them back over time. It’s also okay to ask for non-monetary help, such as coming over for a home-cooked meal or asking \n",
      "\n",
      "- The general good advice is generally explained in an overly complex manner, too complicated for the average Joe or the old-school, cash holding relatives \n",
      "\n",
      "in the right direction towards your financial goals. \n",
      "\n",
      "FAQs\n",
      "What if I’m in debt? \n",
      "\n",
      "You can find many resources online to help you better understand personal finance. Books, articles, and online courses cover topics such as budgeting, saving, and investing. \n",
      "\n",
      "------------------------------ \n",
      "\n",
      "------------------------------\n",
      "Output using RAG\n",
      "------------------------------\n",
      "\n",
      "Answer: Some ways to ask for financial help include getting a loan and paying it back over time, asking for non-monetary help, and seeking resources online to better understand personal finance.\n",
      "\n",
      "\n",
      "------------------------------\n",
      "Output without using RAG\n",
      "------------------------------ \n",
      "\n",
      "1. Requesting a loan from a bank or financial institution.\n",
      "2. Seeking assistance from family or friends.\n",
      "3. Applying for government assistance or grants.\n",
      "4. Crowdfunding through online platforms.\n",
      "5. Seeking help from non-profit organizations or charities.\n",
      "6. Asking for a salary advance or financial support from employer.\n",
      "7. Exploring options for peer-to-peer lending.\n",
      "8. Seeking assistance from religious or community organizations.\n",
      "9. Exploring options for personal lines of credit or credit cards.\n",
      "10. Seeking financial counseling or advice from a professional.\n"
     ]
    }
   ],
   "source": [
    "query = \"What are the different ways to ask for financial help\"\n",
    "format_output_for_debugging_multi(query, True)"
   ]
  },
  {
   "cell_type": "code",
   "execution_count": 74,
   "id": "3f5eb0d7-256b-41da-8893-2fd6f1d95f94",
   "metadata": {},
   "outputs": [
    {
     "name": "stdout",
     "output_type": "stream",
     "text": [
      "Real estate is finite. You can’t create more of it. In high-demand areas, real estate goes for top dollar. Investors and developers have an incentive to earn the maximum return on their investment — \n",
      "\n",
      "financial hardships. \n",
      "\n",
      "wage income, much less own a home with a white picket fence and raise 2.4 children. Now that isn’t even possible for dual-income households with advanced degrees. \n",
      "\n",
      "“When the rich and the poor compete for housing on the open market, the poor don’t stand a chance.” (202) \n",
      "\n",
      "Choose an investment budget out of those saved money. I usually go for no more than 50% of the saved ones.\n",
      "50% goes into a long-term ISA \n",
      "\n",
      "------------------------------ \n",
      "\n",
      "------------------------------\n",
      "Output using RAG\n",
      "------------------------------\n",
      "\n",
      "Answer: The top challenges in investing in real estate are limited availability of properties, high demand in certain areas leading to high prices, and financial hardships for those with lower income or savings.\n",
      "\n",
      "\n",
      "------------------------------\n",
      "Output without using RAG\n",
      "------------------------------ \n",
      "\n",
      "The top challenges in investing in real estate include finding the right property at the right price, securing financing, dealing with market fluctuations, managing property maintenance and tenants, and navigating legal and regulatory requirements. Additionally, staying informed about market trends and staying ahead of competition can also be challenging. It's important to conduct thorough research and due diligence before making any investment decisions in real estate.\n"
     ]
    }
   ],
   "source": [
    "query = \"What are the top challenges in investing in real estate?\"\n",
    "# query = \"What are the top problems in investing in real estate?\"  # I do not know.\n",
    "format_output_for_debugging_multi(query, True)"
   ]
  },
  {
   "cell_type": "code",
   "execution_count": null,
   "id": "44040680-ad6c-4cad-a669-4d22e9f5857e",
   "metadata": {},
   "outputs": [],
   "source": []
  },
  {
   "cell_type": "code",
   "execution_count": null,
   "id": "725b0c53-174d-42a2-8a80-291c47dd7b5c",
   "metadata": {},
   "outputs": [],
   "source": []
  },
  {
   "cell_type": "code",
   "execution_count": null,
   "id": "62a6613f-61a8-4781-bc9a-31d84fb32777",
   "metadata": {},
   "outputs": [],
   "source": []
  }
 ],
 "metadata": {
  "kernelspec": {
   "display_name": "Python 3 (ipykernel)",
   "language": "python",
   "name": "python3"
  },
  "language_info": {
   "codemirror_mode": {
    "name": "ipython",
    "version": 3
   },
   "file_extension": ".py",
   "mimetype": "text/x-python",
   "name": "python",
   "nbconvert_exporter": "python",
   "pygments_lexer": "ipython3",
   "version": "3.10.4"
  }
 },
 "nbformat": 4,
 "nbformat_minor": 5
}
