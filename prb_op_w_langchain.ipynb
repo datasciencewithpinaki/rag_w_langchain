{
 "cells": [
  {
   "cell_type": "markdown",
   "id": "1eeeb556-fdc2-45b3-86fc-7d0aab44ef8c",
   "metadata": {},
   "source": [
    "# LLM and RAGs with Langchain"
   ]
  },
  {
   "cell_type": "markdown",
   "id": "b6494b55-e529-4179-9072-aa1e02e6432b",
   "metadata": {},
   "source": [
    "# Code Starts here"
   ]
  },
  {
   "cell_type": "code",
   "execution_count": 1,
   "id": "5812a783-e4f0-4b89-b4b5-cb785cdd9748",
   "metadata": {},
   "outputs": [],
   "source": [
    "from codes.utils import set_ipynb_config, time_it"
   ]
  },
  {
   "cell_type": "code",
   "execution_count": 2,
   "id": "3e0042c9-0caf-4482-81ea-021cd4ead078",
   "metadata": {},
   "outputs": [],
   "source": [
    "set_ipynb_config()"
   ]
  },
  {
   "cell_type": "code",
   "execution_count": 3,
   "id": "8e223007-8d67-4238-83b1-8f3d50e9f139",
   "metadata": {},
   "outputs": [],
   "source": [
    "from codes.llm_gateway import (\n",
    "    openAI_wo_api, \n",
    ")"
   ]
  },
  {
   "cell_type": "code",
   "execution_count": 4,
   "id": "7b168f90-64cf-46de-97ae-9e3755dc9c9c",
   "metadata": {},
   "outputs": [],
   "source": [
    "from langchain.schema import HumanMessage, SystemMessage"
   ]
  },
  {
   "cell_type": "code",
   "execution_count": 5,
   "id": "09072010-07e6-49ae-98f9-7b7e38426180",
   "metadata": {},
   "outputs": [
    {
     "name": "stderr",
     "output_type": "stream",
     "text": [
      "/Library/Frameworks/Python.framework/Versions/3.9/lib/python3.9/site-packages/langchain_core/_api/deprecation.py:119: LangChainDeprecationWarning: The class `AzureChatOpenAI` was deprecated in LangChain 0.0.10 and will be removed in 0.3.0. An updated version of the class exists in the langchain-openai package and should be used instead. To use it run `pip install -U langchain-openai` and import as `from langchain_openai import AzureChatOpenAI`.\n",
      "  warn_deprecated(\n"
     ]
    }
   ],
   "source": [
    "llm = openAI_wo_api()"
   ]
  },
  {
   "cell_type": "code",
   "execution_count": 6,
   "id": "123e6d97-43e6-4a9c-bf9a-ed9ba9ec4649",
   "metadata": {},
   "outputs": [],
   "source": [
    "from langchain.text_splitter import RecursiveCharacterTextSplitter\n",
    "from langchain.document_loaders import PyPDFLoader, TextLoader, CSVLoader"
   ]
  },
  {
   "cell_type": "code",
   "execution_count": null,
   "id": "88153778-2b3e-445c-bfb0-e3be7d0dfe6d",
   "metadata": {},
   "outputs": [],
   "source": []
  },
  {
   "cell_type": "markdown",
   "id": "513a27c8-bd7c-4059-a804-dbd11bbafa92",
   "metadata": {},
   "source": [
    "## Load data"
   ]
  },
  {
   "cell_type": "code",
   "execution_count": 7,
   "id": "12c4bff7-9e89-4608-b482-fad483864672",
   "metadata": {},
   "outputs": [
    {
     "data": {
      "text/plain": [
       "'data/test_doc.txt'"
      ]
     },
     "execution_count": 7,
     "metadata": {},
     "output_type": "execute_result"
    }
   ],
   "source": [
    "path_data = 'data/'\n",
    "file_text = path_data + 'test_doc.txt'\n",
    "file_text"
   ]
  },
  {
   "cell_type": "code",
   "execution_count": 8,
   "id": "16bd3ad8-155a-475e-8b23-769faa90d576",
   "metadata": {},
   "outputs": [],
   "source": [
    "persist_directory = '/Users/prb000j/Downloads/downloaded_models/vector_dbs/'"
   ]
  },
  {
   "cell_type": "code",
   "execution_count": null,
   "id": "2350b300-4926-45e9-860a-d955a39c68bf",
   "metadata": {},
   "outputs": [],
   "source": []
  },
  {
   "cell_type": "code",
   "execution_count": 9,
   "id": "dc11b472-1f40-4596-945f-82bf2769c29c",
   "metadata": {},
   "outputs": [],
   "source": [
    "def get_document_from_directory(path):\n",
    "    loader = TextLoader(path)\n",
    "    docs = loader.load()\n",
    "    \n",
    "    splitter = RecursiveCharacterTextSplitter(\n",
    "        chunk_size=200,\n",
    "        chunk_overlap=10,\n",
    "        length_function=len\n",
    "    )\n",
    "    splitDocs = splitter.split_documents(docs)\n",
    "    l_splitDocs = [str(doc.page_content) for doc in splitDocs]\n",
    "    return l_splitDocs"
   ]
  },
  {
   "cell_type": "markdown",
   "id": "e090502e-b36c-4136-af6d-8d4c201d3a96",
   "metadata": {},
   "source": [
    "## Embeddings"
   ]
  },
  {
   "cell_type": "code",
   "execution_count": 10,
   "id": "25cc471e-9430-4c6c-a39f-3bedc9082247",
   "metadata": {},
   "outputs": [],
   "source": [
    "from langchain.embeddings import SentenceTransformerEmbeddings"
   ]
  },
  {
   "cell_type": "code",
   "execution_count": 11,
   "id": "0a9cf67d-9ea4-4b97-93ab-82b91af432bb",
   "metadata": {},
   "outputs": [],
   "source": [
    "def get_embedding_func():\n",
    "    embedder = SentenceTransformerEmbeddings(\n",
    "        model_name=\"all-MiniLM-L6-v2\", \n",
    "    )\n",
    "    return embedder"
   ]
  },
  {
   "cell_type": "code",
   "execution_count": null,
   "id": "ad74f9b9-53c6-4253-8929-1a8e7c3d63fd",
   "metadata": {},
   "outputs": [],
   "source": []
  },
  {
   "cell_type": "markdown",
   "id": "129aa4cc-0e66-4f37-bef9-bef46ec1682b",
   "metadata": {},
   "source": [
    "## Vector DB"
   ]
  },
  {
   "cell_type": "code",
   "execution_count": 12,
   "id": "41592b53-a4a7-4795-b450-8e4ceebbf2ef",
   "metadata": {},
   "outputs": [],
   "source": [
    "from langchain_community.vectorstores.chroma import Chroma\n"
   ]
  },
  {
   "cell_type": "code",
   "execution_count": 13,
   "id": "79c4574d-1d0d-4c69-8b8b-b7801a8e9278",
   "metadata": {},
   "outputs": [],
   "source": [
    "def create_db(docs):\n",
    "    embedding = SentenceTransformerEmbeddings(model_name=\"all-MiniLM-L6-v2\")\n",
    "    l_docs = [str(doc.page_content) for doc in docs]\n",
    "    docs_embedded = embedding.encode(l_docs)\n",
    "    vectorStore = Chroma.from_documents(docs_embedded)\n",
    "    # vectorStore = Chroma.from_documents(docs, embedding=embedding)\n",
    "    return vectorStore\n"
   ]
  },
  {
   "cell_type": "markdown",
   "id": "e48e05cc-f80e-4961-a1a1-64a0fb94f1d7",
   "metadata": {},
   "source": [
    "## Chain"
   ]
  },
  {
   "cell_type": "code",
   "execution_count": 14,
   "id": "e0258a23-94c0-4041-aab3-d0d2cd84436c",
   "metadata": {},
   "outputs": [],
   "source": [
    "from langchain_core.prompts import ChatPromptTemplate\n",
    "from langchain.chains.combine_documents import create_stuff_documents_chain\n",
    "from langchain.chains import create_retrieval_chain"
   ]
  },
  {
   "cell_type": "code",
   "execution_count": 15,
   "id": "b6f26db0-68a8-40a6-983e-4df17b038ba8",
   "metadata": {},
   "outputs": [],
   "source": [
    "def create_chain(retriever):\n",
    "    model = openAI_wo_api()\n",
    "\n",
    "    prompt = ChatPromptTemplate.from_template(\"\"\"\n",
    "    Answer the question based only on the context provided. Keep the answer crisp and clear.\n",
    "    Do not use your outside knowledge to answer the question.\n",
    "    When you do not know an answer, just mention you do not know.\n",
    "    Context: {context}\n",
    "    Question: {input}                                       \n",
    "    \"\"\")\n",
    "\n",
    "    # chain = prompt | model\n",
    "    chain = create_stuff_documents_chain(\n",
    "        llm=model,\n",
    "        prompt=prompt\n",
    "    )\n",
    "\n",
    "    # retriever = vectorStore.as_retriever(search_kwargs={\"k\": 3})\n",
    "\n",
    "    retrieval_chain = create_retrieval_chain(\n",
    "        retriever,\n",
    "        chain\n",
    "    )\n",
    "\n",
    "    return retrieval_chain"
   ]
  },
  {
   "cell_type": "code",
   "execution_count": null,
   "id": "7cb8bd3b-0cac-47e2-8492-e46a35282c06",
   "metadata": {},
   "outputs": [],
   "source": []
  },
  {
   "cell_type": "code",
   "execution_count": 16,
   "id": "d67e3d27-2ed2-4707-848a-f1c59426855f",
   "metadata": {},
   "outputs": [],
   "source": [
    "docs = get_document_from_directory(file_text)"
   ]
  },
  {
   "cell_type": "code",
   "execution_count": 17,
   "id": "77c9a2ae-f462-4c85-bd87-4dc931c683c0",
   "metadata": {},
   "outputs": [
    {
     "data": {
      "text/plain": [
       "list"
      ]
     },
     "execution_count": 17,
     "metadata": {},
     "output_type": "execute_result"
    },
    {
     "data": {
      "text/plain": [
       "201"
      ]
     },
     "execution_count": 17,
     "metadata": {},
     "output_type": "execute_result"
    },
    {
     "data": {
      "text/plain": [
       "65"
      ]
     },
     "execution_count": 17,
     "metadata": {},
     "output_type": "execute_result"
    }
   ],
   "source": [
    "type(docs)\n",
    "len(docs)\n",
    "len(docs[0])"
   ]
  },
  {
   "cell_type": "code",
   "execution_count": 18,
   "id": "91df07f9-130b-4107-a6fb-27ad62744e98",
   "metadata": {},
   "outputs": [],
   "source": [
    "vectorStore = Chroma.from_texts(docs, get_embedding_func(), persist_directory=persist_directory)"
   ]
  },
  {
   "cell_type": "code",
   "execution_count": 19,
   "id": "fe53d8af-1e71-471e-ba73-5dd04b87efe6",
   "metadata": {},
   "outputs": [],
   "source": [
    "# test retriever\n",
    "test_retriever = vectorStore.as_retriever(\n",
    "    # search_type='similarity', # \"similarity\" (default), \"mmr\", or \"similarity_score_threshold\"\n",
    "    search_type='mmr', # \"similarity\" (default), \"mmr\", or \"similarity_score_threshold\"\n",
    "    # search_type='similarity_score_threshold', # \"similarity\" (default), \"mmr\", or \"similarity_score_threshold\"\n",
    "    search_kwargs={\n",
    "        'k': 5,\n",
    "        'fetch_k': 20,\n",
    "        # 'score_threshold': 0.7,\n",
    "        # 'filter': ''\n",
    "    }\n",
    ")"
   ]
  },
  {
   "cell_type": "code",
   "execution_count": 20,
   "id": "8e6a1fc8-b9b3-4400-934f-95bafe2bd099",
   "metadata": {},
   "outputs": [
    {
     "data": {
      "text/plain": [
       "[Document(page_content='3. You need to get better at “cold calling”'),\n",
       " Document(page_content='3. You need to get better at “cold calling”'),\n",
       " Document(page_content='3. You need to get better at “cold calling”'),\n",
       " Document(page_content='By cold calling, I try to capture cold emails, cold intro at a party, or, why not, cold calling. This is how you can get new people in your network. The first step is to introduce yourself and get a'),\n",
       " Document(page_content='as oppose to the other types which require calls to an LLM.')]"
      ]
     },
     "execution_count": 20,
     "metadata": {},
     "output_type": "execute_result"
    }
   ],
   "source": [
    "query = \"What is cold calling\"\n",
    "test_retriever.invoke(query)"
   ]
  },
  {
   "cell_type": "code",
   "execution_count": 21,
   "id": "e143602a-c2d4-47dc-9998-e773e7606970",
   "metadata": {},
   "outputs": [],
   "source": [
    "chain = create_chain(test_retriever)"
   ]
  },
  {
   "cell_type": "markdown",
   "id": "ea915652-3b98-424c-a802-b5236d8da6ad",
   "metadata": {},
   "source": [
    "# Queries & Responses"
   ]
  },
  {
   "cell_type": "code",
   "execution_count": 22,
   "id": "e7d09b37-28a3-482d-9604-dbab3bb3b530",
   "metadata": {},
   "outputs": [],
   "source": [
    "def format_output_for_debugging(query):\n",
    "    retrieved_docs = test_retriever.invoke(query)\n",
    "    for retrv in retrieved_docs:\n",
    "        print(retrv.page_content, '\\n')\n",
    "\n",
    "    print(\"-\"*30, \"\\n\")\n",
    "    response = chain.invoke({\n",
    "        \"input\": query,\n",
    "    })\n",
    "    # print(response[\"context\"])\n",
    "    print(response[\"answer\"])"
   ]
  },
  {
   "cell_type": "code",
   "execution_count": 23,
   "id": "63a1a37c-3cfc-4e64-8f9c-733763416163",
   "metadata": {},
   "outputs": [
    {
     "name": "stdout",
     "output_type": "stream",
     "text": [
      "3. You need to get better at “cold calling” \n",
      "\n",
      "3. You need to get better at “cold calling” \n",
      "\n",
      "3. You need to get better at “cold calling” \n",
      "\n",
      "By cold calling, I try to capture cold emails, cold intro at a party, or, why not, cold calling. This is how you can get new people in your network. The first step is to introduce yourself and get a \n",
      "\n",
      "as oppose to the other types which require calls to an LLM. \n",
      "\n",
      "------------------------------ \n",
      "\n",
      "huggingface/tokenizers: The current process just got forked, after parallelism has already been used. Disabling parallelism to avoid deadlocks...\n",
      "To disable this warning, you can either:\n",
      "\t- Avoid using `tokenizers` before the fork if possible\n",
      "\t- Explicitly set the environment variable TOKENIZERS_PARALLELISM=(true | false)\n",
      "Cold calling is the practice of contacting individuals who have not previously expressed interest in the products or services you offer, typically over the phone, with the aim of making a sale or establishing a new business relationship.\n"
     ]
    }
   ],
   "source": [
    "query = \"What is cold calling\"\n",
    "format_output_for_debugging(query)"
   ]
  },
  {
   "cell_type": "code",
   "execution_count": null,
   "id": "9abfe40d-2521-4dcf-8891-bda07275b4a6",
   "metadata": {},
   "outputs": [],
   "source": []
  },
  {
   "cell_type": "code",
   "execution_count": 24,
   "id": "86ffddab-0ced-4538-b582-a236266b03d8",
   "metadata": {},
   "outputs": [
    {
     "name": "stdout",
     "output_type": "stream",
     "text": [
      "A couple of days ago, I finished an Executive Leadership program alongside 100 other participants who wanted to explore how to become better, more effective leaders by increasing their influence and \n",
      "\n",
      "A couple of days ago, I finished an Executive Leadership program alongside 100 other participants who wanted to explore how to become better, more effective leaders by increasing their influence and \n",
      "\n",
      "A couple of days ago, I finished an Executive Leadership program alongside 100 other participants who wanted to explore how to become better, more effective leaders by increasing their influence and \n",
      "\n",
      "with how many people. \n",
      "\n",
      "If you launch work to nurture your community, who in your company or group will need time to do this work well?\n",
      "If your community are important external stakeholders, who are the internal versions? \n",
      "\n",
      "------------------------------ \n",
      "\n",
      "There were 100 other participants in the Executive Leadership Program.\n"
     ]
    }
   ],
   "source": [
    "query = \"How many others were participating in the Executive Leadership Program?\"\n",
    "format_output_for_debugging(query)"
   ]
  },
  {
   "cell_type": "code",
   "execution_count": null,
   "id": "be7f3d96-b078-4a39-9934-e6adc2a55268",
   "metadata": {},
   "outputs": [],
   "source": []
  },
  {
   "cell_type": "code",
   "execution_count": 25,
   "id": "f3dc37d3-c1da-4df0-92ea-ca919eaa2c4b",
   "metadata": {},
   "outputs": [
    {
     "name": "stdout",
     "output_type": "stream",
     "text": [
      "A couple of days ago, I finished an Executive Leadership program alongside 100 other participants who wanted to explore how to become better, more effective leaders by increasing their influence and \n",
      "\n",
      "A couple of days ago, I finished an Executive Leadership program alongside 100 other participants who wanted to explore how to become better, more effective leaders by increasing their influence and \n",
      "\n",
      "A couple of days ago, I finished an Executive Leadership program alongside 100 other participants who wanted to explore how to become better, more effective leaders by increasing their influence and \n",
      "\n",
      "and impact. There were a lot of exciting sessions, but the one on networking struck me as the most important. \n",
      "\n",
      "What it means for someone to be elevated into a power user or ambassador role\n",
      "And moments could include: \n",
      "\n",
      "------------------------------ \n",
      "\n",
      "As per you, the most important session in the executive leadership program was the one on networking.\n"
     ]
    }
   ],
   "source": [
    "query = \"As per me, which was the most important session in the executive leadership program\"\n",
    "format_output_for_debugging(query)"
   ]
  },
  {
   "cell_type": "code",
   "execution_count": null,
   "id": "1de65185-fdb5-4e61-9931-4a4f6537635a",
   "metadata": {},
   "outputs": [],
   "source": []
  },
  {
   "cell_type": "code",
   "execution_count": 26,
   "id": "19c6cb94-bc8f-4f21-a234-c05b64d55f99",
   "metadata": {},
   "outputs": [
    {
     "name": "stdout",
     "output_type": "stream",
     "text": [
      "iPhone revenue: $43.81 billion | Mac revenue: $7.61 billion | iPad revenue: $6.44 billion | Wearable revenue: $9.32 billion | Services revenue: $22.31 billion \n",
      "\n",
      "iPhone revenue: $43.81 billion | Mac revenue: $7.61 billion | iPad revenue: $6.44 billion | Wearable revenue: $9.32 billion | Services revenue: $22.31 billion \n",
      "\n",
      "iPhone revenue: $43.81 billion | Mac revenue: $7.61 billion | iPad revenue: $6.44 billion | Wearable revenue: $9.32 billion | Services revenue: $22.31 billion \n",
      "\n",
      "Continuous revenue from products and services\n",
      "Complementary product and pricing in services\n",
      "Apple’s Q4 2023 Services revenue: $22.31 billion \n",
      "\n",
      "Willingness to pay, demand and revenue maximization\n",
      "Apple’s Q4 2023 — Revenue: $89.5 billion | Gross margin: 45.2% (link) \n",
      "\n",
      "------------------------------ \n",
      "\n",
      "The revenue for Apple products in Q4 2023 was $67.18 billion. This is calculated by adding the iPhone, Mac, iPad, and Wearable revenues ($43.81 billion + $7.61 billion + $6.44 billion + $9.32 billion).\n"
     ]
    }
   ],
   "source": [
    "query = \"What was the revenue for Apple products?\"\n",
    "format_output_for_debugging(query)"
   ]
  },
  {
   "cell_type": "code",
   "execution_count": null,
   "id": "7d65da9e-32e9-4dc5-a781-d2c5a84a53f3",
   "metadata": {},
   "outputs": [],
   "source": []
  },
  {
   "cell_type": "code",
   "execution_count": null,
   "id": "26b4ddf7-af1c-4e9a-b959-fb0ea759b700",
   "metadata": {},
   "outputs": [],
   "source": []
  },
  {
   "cell_type": "markdown",
   "id": "b6ef94b1-cc8b-4db3-8c5e-9e221d60a9ea",
   "metadata": {},
   "source": [
    "# Multiple Documents"
   ]
  },
  {
   "cell_type": "code",
   "execution_count": 16,
   "id": "f1490595-f095-4e99-ab6f-ff6a5c6b4643",
   "metadata": {},
   "outputs": [
    {
     "data": {
      "text/plain": [
       "'data/multi_docs/'"
      ]
     },
     "execution_count": 16,
     "metadata": {},
     "output_type": "execute_result"
    }
   ],
   "source": [
    "path_docs = path_data + 'multi_docs/'\n",
    "path_docs"
   ]
  },
  {
   "cell_type": "code",
   "execution_count": 17,
   "id": "003358e5-29bc-48c3-8a1d-3a94221d5a8b",
   "metadata": {},
   "outputs": [],
   "source": [
    "marketing_docs = get_document_from_directory(path_docs + 'marketing.txt')"
   ]
  },
  {
   "cell_type": "code",
   "execution_count": 18,
   "id": "9f6f391e-6f4c-4344-ba0c-3e1d99c30505",
   "metadata": {},
   "outputs": [],
   "source": [
    "finance_docs = get_document_from_directory(path_docs + 'personal_finance.txt')"
   ]
  },
  {
   "cell_type": "code",
   "execution_count": null,
   "id": "5a09ec3a-1f8c-4122-aa53-0c2f87b73a08",
   "metadata": {},
   "outputs": [],
   "source": []
  },
  {
   "cell_type": "code",
   "execution_count": 19,
   "id": "27368ef9-e2d5-440f-bde3-112e230db884",
   "metadata": {},
   "outputs": [],
   "source": [
    "vectorStore_multi = Chroma.from_texts(\n",
    "    marketing_docs, \n",
    "    get_embedding_func(), \n",
    "    metadatas=[{'topics': 'marketing, sales'}],\n",
    "    collection_name='multiple_docs',\n",
    "    persist_directory=persist_directory\n",
    ")"
   ]
  },
  {
   "cell_type": "code",
   "execution_count": 20,
   "id": "60788f94-5762-4e94-a750-518da63a01fa",
   "metadata": {},
   "outputs": [],
   "source": [
    "_ = vectorStore_multi.add_texts(\n",
    "    finance_docs,\n",
    "    metadatas=[{'topics': 'finance, money'}],\n",
    ")"
   ]
  },
  {
   "cell_type": "code",
   "execution_count": 21,
   "id": "be2d0651-ac4d-4846-9683-9609c9ab1f5d",
   "metadata": {},
   "outputs": [],
   "source": [
    "# test retriever\n",
    "test_retriever_multi = vectorStore_multi.as_retriever(\n",
    "    # search_type='similarity', # \"similarity\" (default), \"mmr\", or \"similarity_score_threshold\"\n",
    "    search_type='mmr', # \"similarity\" (default), \"mmr\", or \"similarity_score_threshold\"\n",
    "    # search_type='similarity_score_threshold', # \"similarity\" (default), \"mmr\", or \"similarity_score_threshold\"\n",
    "    search_kwargs={\n",
    "        'k': 5,\n",
    "        'fetch_k': 20,\n",
    "        # 'score_threshold': 0.7,\n",
    "        # 'filter': ''\n",
    "    }\n",
    ")"
   ]
  },
  {
   "cell_type": "code",
   "execution_count": 22,
   "id": "d30121cf-2712-4dff-9855-17e72ec3f85c",
   "metadata": {},
   "outputs": [],
   "source": [
    "chain_multi_docs = create_chain(test_retriever_multi)"
   ]
  },
  {
   "cell_type": "code",
   "execution_count": 23,
   "id": "8bec181b-c9af-482f-adf6-31b4550a78c7",
   "metadata": {},
   "outputs": [],
   "source": [
    "def format_output_for_debugging_multi(query, test_wo_rag:bool=False):\n",
    "    retrieved_docs = test_retriever_multi.invoke(query)\n",
    "    for retrv in retrieved_docs:\n",
    "        print(retrv.page_content, '\\n')\n",
    "\n",
    "    print(\"-\"*30, \"\\n\")\n",
    "    response = chain_multi_docs.invoke({\n",
    "        \"input\": query,\n",
    "    })\n",
    "    print(\"-\"*30)\n",
    "    print(\"Output using RAG\")\n",
    "    print(\"-\"*30)\n",
    "    print(response[\"answer\"])\n",
    "    \n",
    "    # use llm without rag\n",
    "    if test_wo_rag:\n",
    "        print('\\n')\n",
    "        print(\"-\"*30)\n",
    "        print(\"Output without using RAG\")\n",
    "        print(\"-\"*30, '\\n')\n",
    "        query_upd = f\"\"\"\n",
    "        Keep the answer crisp and clear. Keep the answer to less than 200 words.\n",
    "        When you do not know an answer, just mention you do not know.\n",
    "        {query}\n",
    "        \"\"\"\n",
    "        response_wo_rag = llm.invoke(query_upd)\n",
    "        print(response_wo_rag.content)"
   ]
  },
  {
   "cell_type": "code",
   "execution_count": 24,
   "id": "72353643-b8b9-4679-ae10-f7e2eea93e90",
   "metadata": {
    "scrolled": true,
    "tags": []
   },
   "outputs": [
    {
     "name": "stdout",
     "output_type": "stream",
     "text": [
      "But the reality is, gender-inclusive products and marketing strategies for toys still tend to be the exception rather than the rule. \n",
      "\n",
      "That’s also the finding of the latest study on this topic done in collaboration between the Geena Davis Institute on Gender in Media and two chairs of the first North American Toy Association DEI, \n",
      "\n",
      "well — is still gendered, too. Actually, according to a new analysis of over 10,000 globally run ads, gender-stereotypical advertising has only become more prevalent in recent years. \n",
      "\n",
      "targeted toward girls and cars, sporting equipment and toy weapons targeted toward boys, and only around 23% falling into the gender-neutral category. \n",
      "\n",
      "sports equipment. Meanwhile, girls got dolls, dollhouses, beauty sets and… toy kitchen appliances. \n",
      "\n",
      "------------------------------ \n",
      "\n",
      "huggingface/tokenizers: The current process just got forked, after parallelism has already been used. Disabling parallelism to avoid deadlocks...\n",
      "To disable this warning, you can either:\n",
      "\t- Avoid using `tokenizers` before the fork if possible\n",
      "\t- Explicitly set the environment variable TOKENIZERS_PARALLELISM=(true | false)\n",
      "------------------------------\n",
      "Output using RAG\n",
      "------------------------------\n",
      "Gender-inclusive products are items designed and marketed to be suitable and appealing to all genders, without reinforcing traditional gender stereotypes. They are intended to be more universal and not targeted specifically at boys or girls.\n",
      "\n",
      "\n",
      "------------------------------\n",
      "Output without using RAG\n",
      "------------------------------ \n",
      "\n",
      "Gender inclusive products are items designed to be used by all genders without enforcing traditional gender stereotypes or norms. These products aim to cater to a broad spectrum of users, regardless of their gender identity or expression. The concept is part of a larger movement towards inclusivity and diversity in consumer goods, acknowledging that preferences and needs are not strictly determined by binary gender distinctions. Examples include unisex clothing, gender-neutral toys, personal care items, and fragrances that don't subscribe to \"for men\" or \"for women\" labels. The development of gender inclusive products reflects a societal shift towards recognizing and valuing a range of gender identities beyond the male/female binary.\n"
     ]
    }
   ],
   "source": [
    "# query = \"Write a short note on `gender inclusive products`\"\n",
    "query = \"Tell me about `gender inclusive products`\"\n",
    "# query = \"Tell me about gender inclusive products\" # I do not know.\n",
    "format_output_for_debugging_multi(query, True)"
   ]
  },
  {
   "cell_type": "code",
   "execution_count": null,
   "id": "b4e359ca-f84a-476e-9b6e-d68117a1f6f4",
   "metadata": {},
   "outputs": [],
   "source": []
  },
  {
   "cell_type": "code",
   "execution_count": 25,
   "id": "d5c108ab-986a-491b-8084-441df96405a7",
   "metadata": {},
   "outputs": [
    {
     "name": "stdout",
     "output_type": "stream",
     "text": [
      "If you’re uncomfortable asking for money directly, try getting a loan and paying them back over time. It’s also okay to ask for non-monetary help, such as coming over for a home-cooked meal or asking \n",
      "\n",
      "- The general good advice is generally explained in an overly complex manner, too complicated for the average Joe or the old-school, cash holding relatives \n",
      "\n",
      "in the right direction towards your financial goals. \n",
      "\n",
      "FAQs\n",
      "What if I’m in debt? \n",
      "\n",
      "You can find many resources online to help you better understand personal finance. Books, articles, and online courses cover topics such as budgeting, saving, and investing. \n",
      "\n",
      "------------------------------ \n",
      "\n",
      "------------------------------\n",
      "Output using RAG\n",
      "------------------------------\n",
      "The different ways to ask for financial help include asking for a loan and repaying it over time, and requesting non-monetary assistance like having meals with friends or family, or seeking advice and guidance on financial matters.\n",
      "\n",
      "\n",
      "------------------------------\n",
      "Output without using RAG\n",
      "------------------------------ \n",
      "\n",
      "There are several ways to ask for financial help:\n",
      "\n",
      "1. Personal Loans: Approach a bank or financial institution for a loan.\n",
      "2. Crowdfunding: Use online platforms to request funds for specific causes or projects.\n",
      "3. Friends and Family: Ask for a loan or gift from people you know personally.\n",
      "4. Government Assistance: Apply for government grants, subsidies, or welfare programs.\n",
      "5. Community Organizations: Seek out local nonprofits or charities that offer financial aid.\n",
      "6. Employer Advance: Request a paycheck advance from your employer.\n",
      "7. Financial Aid: For educational purposes, apply for scholarships, grants, or student loans.\n",
      "8. Payment Plans: Negotiate payment plans or financial assistance directly with service providers or creditors.\n",
      "9. Online Fundraising: Utilize social media and fundraising websites to solicit donations.\n",
      "10. Professional Advisors: Consult with financial advisors or credit counselors for guidance and potential resources.\n"
     ]
    }
   ],
   "source": [
    "query = \"What are the different ways to ask for financial help\"\n",
    "format_output_for_debugging_multi(query, True)"
   ]
  },
  {
   "cell_type": "code",
   "execution_count": 26,
   "id": "3f5eb0d7-256b-41da-8893-2fd6f1d95f94",
   "metadata": {},
   "outputs": [
    {
     "name": "stdout",
     "output_type": "stream",
     "text": [
      "Real estate is finite. You can’t create more of it. In high-demand areas, real estate goes for top dollar. Investors and developers have an incentive to earn the maximum return on their investment — \n",
      "\n",
      "financial hardships. \n",
      "\n",
      "“When the rich and the poor compete for housing on the open market, the poor don’t stand a chance.” (202) \n",
      "\n",
      "Invest\n",
      "Once you know what you spend on, strategically plan it so that you can still continue saving and pay off your debts correctly, you are ready to invest. \n",
      "\n",
      "25% into certain stocks and ETFs that I consider huge potential\n",
      "25% into Crypto ( I know this is controversial but to each their own ) it can also be wines, whisky or towards a Berkin bag \n",
      "\n",
      "------------------------------ \n",
      "\n",
      "------------------------------\n",
      "Output using RAG\n",
      "------------------------------\n",
      "Based on the context provided, the top challenges in investing in real estate include:\n",
      "\n",
      "1. High Costs: Real estate in high-demand areas is expensive.\n",
      "2. Competition: The market is competitive, especially between different income groups.\n",
      "3. Financial Hardships: The need to manage finances effectively to continue saving and paying off debts while investing.\n",
      "\n",
      "(Note: Other challenges not mentioned in the context, but common in real estate investing, such as market volatility, property management, and regulatory issues, are not listed as the instruction was to rely solely on the provided context.)\n",
      "\n",
      "\n",
      "------------------------------\n",
      "Output without using RAG\n",
      "------------------------------ \n",
      "\n",
      "The top challenges in investing in real estate include:\n",
      "\n",
      "1. Capital Requirement: Significant upfront capital is needed to purchase property.\n",
      "2. Market Volatility: Real estate markets can fluctuate, influenced by economic conditions, interest rates, and government policies.\n",
      "3. Liquidity: Real estate is not a liquid asset, meaning it can take time to sell a property.\n",
      "4. Property Management: Ongoing maintenance, dealing with tenants, and managing property-related issues require time and resources.\n",
      "5. Legal and Regulatory Issues: Navigating zoning laws, building codes, and other regulations can be complex and costly.\n",
      "6. Location Risks: Location is key in real estate, and choosing the wrong area can affect property values and rental potential.\n",
      "7. Economic Factors: Changes in the economy, like job growth or recessions, can impact real estate values and occupancy rates.\n",
      "8. Tenant Risks: Problematic tenants can result in lost income and legal disputes.\n",
      "9. Market Knowledge: Understanding local market conditions and trends is crucial for successful investment decisions.\n",
      "10. Interest Rate Risk: Rising interest rates can increase borrowing costs and decrease property values.\n"
     ]
    }
   ],
   "source": [
    "query = \"What are the top challenges in investing in real estate?\"\n",
    "# query = \"What are the top problems in investing in real estate?\"  # I do not know.\n",
    "format_output_for_debugging_multi(query, True)"
   ]
  },
  {
   "cell_type": "code",
   "execution_count": null,
   "id": "44040680-ad6c-4cad-a669-4d22e9f5857e",
   "metadata": {},
   "outputs": [],
   "source": []
  },
  {
   "cell_type": "code",
   "execution_count": null,
   "id": "725b0c53-174d-42a2-8a80-291c47dd7b5c",
   "metadata": {},
   "outputs": [],
   "source": []
  },
  {
   "cell_type": "code",
   "execution_count": null,
   "id": "62a6613f-61a8-4781-bc9a-31d84fb32777",
   "metadata": {},
   "outputs": [],
   "source": []
  }
 ],
 "metadata": {
  "kernelspec": {
   "display_name": "Python 3 (ipykernel)",
   "language": "python",
   "name": "python3"
  },
  "language_info": {
   "codemirror_mode": {
    "name": "ipython",
    "version": 3
   },
   "file_extension": ".py",
   "mimetype": "text/x-python",
   "name": "python",
   "nbconvert_exporter": "python",
   "pygments_lexer": "ipython3",
   "version": "3.9.1"
  }
 },
 "nbformat": 4,
 "nbformat_minor": 5
}
