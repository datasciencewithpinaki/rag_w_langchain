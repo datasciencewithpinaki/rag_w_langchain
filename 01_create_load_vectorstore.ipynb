{
 "cells": [
  {
   "cell_type": "code",
   "execution_count": 1,
   "id": "da1c350a-4d2f-40dc-8baa-afbd831a6d38",
   "metadata": {},
   "outputs": [],
   "source": [
    "from codes.utils import set_ipynb_config, time_it\n",
    "set_ipynb_config()"
   ]
  },
  {
   "cell_type": "code",
   "execution_count": 2,
   "id": "7cc18c63-651c-4060-a342-9f58ef45d0b7",
   "metadata": {},
   "outputs": [
    {
     "data": {
      "text/plain": [
       "True"
      ]
     },
     "execution_count": 2,
     "metadata": {},
     "output_type": "execute_result"
    }
   ],
   "source": [
    "from dotenv import load_dotenv\n",
    "load_dotenv()"
   ]
  },
  {
   "cell_type": "code",
   "execution_count": 3,
   "id": "f70508d6-624f-485d-b3e5-74572a20935c",
   "metadata": {},
   "outputs": [],
   "source": [
    "import os"
   ]
  },
  {
   "cell_type": "code",
   "execution_count": 4,
   "id": "82e66792-5627-4f6c-a308-652aee8351f7",
   "metadata": {},
   "outputs": [
    {
     "data": {
      "text/plain": [
       "'data/'"
      ]
     },
     "execution_count": 4,
     "metadata": {},
     "output_type": "execute_result"
    }
   ],
   "source": [
    "path_data = os.getenv('PATH_DATA')\n",
    "path_data"
   ]
  },
  {
   "cell_type": "code",
   "execution_count": 5,
   "id": "a63b3bc4-52ed-40f1-9984-d90c74c86fdc",
   "metadata": {},
   "outputs": [
    {
     "data": {
      "text/plain": [
       "'/Users/pinaki/Downloads/models/vector-dbs/'"
      ]
     },
     "execution_count": 5,
     "metadata": {},
     "output_type": "execute_result"
    }
   ],
   "source": [
    "path_persist_db = os.getenv('PATH_PERSIST_DB')\n",
    "path_persist_db"
   ]
  },
  {
   "cell_type": "code",
   "execution_count": null,
   "id": "f5371adb-b89f-45c5-a53e-28991e3a444e",
   "metadata": {},
   "outputs": [],
   "source": []
  },
  {
   "cell_type": "markdown",
   "id": "450e740e-8117-417b-94c0-806fb04d31a4",
   "metadata": {},
   "source": [
    "## A. Data Processing\n",
    "**Expected Input:** New Data as txt, csv, etc.\n",
    "\n",
    "```python\n",
    "data_load(file) -> raw_doc\n",
    "data_preprocess(raw_doc) -> clean_doc\n",
    "doc_chunk(clean_doc) -> chunks\n",
    "add_metadata() -> dictionary of metadata\n",
    "```\n",
    "**Expected Output:** List of Docs and their respective metadata"
   ]
  },
  {
   "cell_type": "code",
   "execution_count": 6,
   "id": "34dca513-0cb5-4e07-b179-d528ecbc6a02",
   "metadata": {},
   "outputs": [],
   "source": [
    "from codes.file_to_docs import Data2Docs"
   ]
  },
  {
   "cell_type": "code",
   "execution_count": 7,
   "id": "fe9aca4a-b48a-4f59-84ce-5b9e7b545dc9",
   "metadata": {
    "scrolled": true
   },
   "outputs": [
    {
     "data": {
      "text/plain": [
       "53"
      ]
     },
     "execution_count": 7,
     "metadata": {},
     "output_type": "execute_result"
    },
    {
     "data": {
      "text/plain": [
       "[Document(page_content='In the quiet town of Eldoria,', metadata={'source': 'data/garb_in_garb_out.pdf', 'page': 0, 'title': 'garb_in_garb_out.pdf', 'topic': 'philosophy', 'data_type': 'pdf'}),\n",
       " Document(page_content='an old tailor named Ethan ran', metadata={'source': 'data/garb_in_garb_out.pdf', 'page': 0, 'title': 'garb_in_garb_out.pdf', 'topic': 'philosophy', 'data_type': 'pdf'}),\n",
       " Document(page_content='ran a small, dimly lit shop.', metadata={'source': 'data/garb_in_garb_out.pdf', 'page': 0, 'title': 'garb_in_garb_out.pdf', 'topic': 'philosophy', 'data_type': 'pdf'}),\n",
       " Document(page_content='The sign above his door read', metadata={'source': 'data/garb_in_garb_out.pdf', 'page': 0, 'title': 'garb_in_garb_out.pdf', 'topic': 'philosophy', 'data_type': 'pdf'})]"
      ]
     },
     "execution_count": 7,
     "metadata": {},
     "output_type": "execute_result"
    },
    {
     "data": {
      "text/plain": [
       "[Document(page_content='a reminder that every action,', metadata={'source': 'data/garb_in_garb_out.pdf', 'page': 0, 'title': 'garb_in_garb_out.pdf', 'topic': 'philosophy', 'data_type': 'pdf'}),\n",
       " Document(page_content='like every thread, wove the', metadata={'source': 'data/garb_in_garb_out.pdf', 'page': 0, 'title': 'garb_in_garb_out.pdf', 'topic': 'philosophy', 'data_type': 'pdf'}),\n",
       " Document(page_content='the fabric of their', metadata={'source': 'data/garb_in_garb_out.pdf', 'page': 0, 'title': 'garb_in_garb_out.pdf', 'topic': 'philosophy', 'data_type': 'pdf'}),\n",
       " Document(page_content='collective existence.', metadata={'source': 'data/garb_in_garb_out.pdf', 'page': 0, 'title': 'garb_in_garb_out.pdf', 'topic': 'philosophy', 'data_type': 'pdf'})]"
      ]
     },
     "execution_count": 7,
     "metadata": {},
     "output_type": "execute_result"
    }
   ],
   "source": [
    "filename = 'garb_in_garb_out.pdf'\n",
    "file_path = path_data + filename\n",
    "\n",
    "metadata_test = {\n",
    "    'title': filename,\n",
    "    'topic': 'philosophy', \n",
    "    'data_type': 'pdf',\n",
    "}\n",
    "\n",
    "chunking_strategy = {\n",
    "    'key1': 'bla bla bla',\n",
    "    'chunk_size': 30,\n",
    "    'chunk_overlap': 5,\n",
    "}\n",
    "\n",
    "doc_w_md = Data2Docs.main(file_path, metadata_test, **chunking_strategy)\n",
    "len(doc_w_md)\n",
    "doc_w_md[0:4]\n",
    "doc_w_md[-4:]"
   ]
  },
  {
   "cell_type": "code",
   "execution_count": null,
   "id": "ccd9be97-470d-446f-a117-09d053e9b41a",
   "metadata": {},
   "outputs": [],
   "source": []
  },
  {
   "cell_type": "markdown",
   "id": "488949a5-9e31-462b-a424-22f40b17d680",
   "metadata": {},
   "source": [
    "## B. Docs to Vector DB\n",
    "**Expected Input:** List of Docs with metadata (from single or multiple document)\n",
    "\n",
    "```python\n",
    "embed_docs(chunk) -> embedding\n",
    "add_docs_to_vdb(embedding, index) -> none\n",
    "```\n",
    "**Expected Output:** None (Just a confirmation msg that docs have been added to vector db)"
   ]
  },
  {
   "cell_type": "code",
   "execution_count": 8,
   "id": "4e4356cb-6a34-4744-a359-0461755bf596",
   "metadata": {},
   "outputs": [],
   "source": [
    "from codes.file_to_docs import Docs2VectorDb"
   ]
  },
  {
   "cell_type": "markdown",
   "id": "17224b4f-9d91-4467-9ed5-e37aff5f222e",
   "metadata": {},
   "source": [
    "### If vector store needs to be:\n",
    "- created from scratch (`True`)\n",
    "- loaded from directory (`False`)"
   ]
  },
  {
   "cell_type": "code",
   "execution_count": 9,
   "id": "7d2a50ae-958e-425b-8199-c79ca4ef2522",
   "metadata": {},
   "outputs": [],
   "source": [
    "create_vector_db = True"
   ]
  },
  {
   "cell_type": "code",
   "execution_count": 10,
   "id": "9c049372-86bd-4773-93b0-ed4cf93f7ed4",
   "metadata": {},
   "outputs": [],
   "source": [
    "import os, shutil"
   ]
  },
  {
   "cell_type": "code",
   "execution_count": 11,
   "id": "16b8fe7e-fdb1-4d90-abb9-a9cbd2b2e1eb",
   "metadata": {},
   "outputs": [
    {
     "name": "stdout",
     "output_type": "stream",
     "text": [
      "vector store deleted from:\n",
      "/Users/pinaki/Downloads/models/vector-dbs/\n"
     ]
    },
    {
     "name": "stderr",
     "output_type": "stream",
     "text": [
      "/Library/Frameworks/Python.framework/Versions/3.10/lib/python3.10/site-packages/huggingface_hub/file_download.py:1132: FutureWarning: `resume_download` is deprecated and will be removed in version 1.0.0. Downloads always resume when possible. If you want to force a new download, use `force_download=True`.\n",
      "  warnings.warn(\n"
     ]
    },
    {
     "name": "stdout",
     "output_type": "stream",
     "text": [
      "vector store created and persists here:\n",
      "/Users/pinaki/Downloads/models/vector-dbs/\n"
     ]
    }
   ],
   "source": [
    "# deletes the vector store and creates the path again\n",
    "if create_vector_db:  # create vector store from scratch\n",
    "    shutil.rmtree(path_persist_db, ignore_errors=True)\n",
    "    os.mkdir(path_persist_db)\n",
    "    print(f'vector store deleted from:\\n{path_persist_db}')\n",
    "    vector_store_multi = Docs2VectorDb.main(doc_w_md, path_persist_db)\n",
    "    print(f'vector store created and persists here:\\n{path_persist_db}')\n",
    "else:  # load vector store\n",
    "    vector_store_multi = Docs2VectorDb.load_vector_store(path_persist_db)\n",
    "    print(f'vector store loaded and persists here:\\n{path_persist_db}')"
   ]
  },
  {
   "cell_type": "code",
   "execution_count": null,
   "id": "5e697674-83aa-43e4-b613-8b7c202d95b1",
   "metadata": {},
   "outputs": [],
   "source": []
  },
  {
   "cell_type": "code",
   "execution_count": null,
   "id": "e024185a-1990-46cc-931a-ad71e5b89969",
   "metadata": {},
   "outputs": [],
   "source": []
  },
  {
   "cell_type": "code",
   "execution_count": null,
   "id": "cb0e4568-d104-46c0-868a-3a00589fa8d2",
   "metadata": {},
   "outputs": [],
   "source": []
  },
  {
   "cell_type": "code",
   "execution_count": null,
   "id": "3610a095-6a00-473d-9058-5f143029a82d",
   "metadata": {},
   "outputs": [],
   "source": []
  },
  {
   "cell_type": "markdown",
   "id": "059564f6-22ce-4a50-b2c9-affcbf1dd8c4",
   "metadata": {},
   "source": [
    "### Add one file"
   ]
  },
  {
   "cell_type": "code",
   "execution_count": 12,
   "id": "f03130c8-9516-4fcd-b7e8-8badb4602d26",
   "metadata": {
    "scrolled": true
   },
   "outputs": [
    {
     "data": {
      "text/plain": [
       "131"
      ]
     },
     "execution_count": 12,
     "metadata": {},
     "output_type": "execute_result"
    },
    {
     "data": {
      "text/plain": [
       "[Document(page_content='questions,answers,level', metadata={'source': 'data/qna_table.csv', 'title': 'qna_table.csv', 'topic': 'qna on topics like RB, luminate', 'data_type': 'dataframe'}),\n",
       " Document(page_content='What is the difference', metadata={'source': 'data/qna_table.csv', 'title': 'qna_table.csv', 'topic': 'qna on topics like RB, luminate', 'data_type': 'dataframe'}),\n",
       " Document(page_content='between supervised and', metadata={'source': 'data/qna_table.csv', 'title': 'qna_table.csv', 'topic': 'qna on topics like RB, luminate', 'data_type': 'dataframe'}),\n",
       " Document(page_content='and unsupervised', metadata={'source': 'data/qna_table.csv', 'title': 'qna_table.csv', 'topic': 'qna on topics like RB, luminate', 'data_type': 'dataframe'})]"
      ]
     },
     "execution_count": 12,
     "metadata": {},
     "output_type": "execute_result"
    },
    {
     "data": {
      "text/plain": [
       "[Document(page_content='overfitting. The goal is to', metadata={'source': 'data/qna_table.csv', 'title': 'qna_table.csv', 'topic': 'qna on topics like RB, luminate', 'data_type': 'dataframe'}),\n",
       " Document(page_content='to find a model with low bias', metadata={'source': 'data/qna_table.csv', 'title': 'qna_table.csv', 'topic': 'qna on topics like RB, luminate', 'data_type': 'dataframe'}),\n",
       " Document(page_content='bias and variance to achieve', metadata={'source': 'data/qna_table.csv', 'title': 'qna_table.csv', 'topic': 'qna on topics like RB, luminate', 'data_type': 'dataframe'}),\n",
       " Document(page_content='good generalization.\",l1', metadata={'source': 'data/qna_table.csv', 'title': 'qna_table.csv', 'topic': 'qna on topics like RB, luminate', 'data_type': 'dataframe'})]"
      ]
     },
     "execution_count": 12,
     "metadata": {},
     "output_type": "execute_result"
    }
   ],
   "source": [
    "filename = 'qna_table.csv'\n",
    "file_path = path_data + filename\n",
    "\n",
    "metadata_file = {\n",
    "    'title': filename,\n",
    "    'topic': 'qna on topics like RB, luminate', \n",
    "    'data_type': 'dataframe',\n",
    "}\n",
    "\n",
    "chunking_strategy = {\n",
    "    'key1': 'bla bla bla',\n",
    "    'chunk_size': 30,\n",
    "    'chunk_overlap': 5,\n",
    "}\n",
    "\n",
    "doc_w_md = Data2Docs.main(file_path, metadata_file, **chunking_strategy)\n",
    "len(doc_w_md)\n",
    "doc_w_md[0:4]\n",
    "doc_w_md[-4:]"
   ]
  },
  {
   "cell_type": "code",
   "execution_count": 13,
   "id": "ed48767a-3f3c-432e-9ffc-adfc735d2cd8",
   "metadata": {},
   "outputs": [
    {
     "name": "stdout",
     "output_type": "stream",
     "text": [
      "added 131 indices to vector store\n",
      "sources available after insertion:\n",
      "{'source': {'data/garb_in_garb_out.pdf', 'data/qna_table.csv'}}\n"
     ]
    }
   ],
   "source": [
    "vector_store_multi = Docs2VectorDb.add_docs_to_vector_db(vector_store_multi, doc_w_md)"
   ]
  },
  {
   "cell_type": "code",
   "execution_count": null,
   "id": "d2fce37c-daae-41d5-bd2a-47aa578a2c63",
   "metadata": {},
   "outputs": [],
   "source": []
  },
  {
   "cell_type": "markdown",
   "id": "b80fa836-67ea-47b8-9402-c5a87b5b72ce",
   "metadata": {},
   "source": [
    "### Add one file"
   ]
  },
  {
   "cell_type": "code",
   "execution_count": 14,
   "id": "dcfe87f2-906a-46e9-89e1-a87a187724f9",
   "metadata": {},
   "outputs": [
    {
     "data": {
      "text/plain": [
       "144"
      ]
     },
     "execution_count": 14,
     "metadata": {},
     "output_type": "execute_result"
    },
    {
     "data": {
      "text/plain": [
       "[Document(page_content='Girls Are Caring, Boys Are Violent: How Toys’ Marketing Reinforces Gender Norms\\nAnd why its impact on children’s development shouldn’t be dismissed', metadata={'source': 'data/marketing.txt', 'title': 'marketing.txt', 'topic': 'marketing, toys', 'data_type': 'txt'}),\n",
       " Document(page_content='One recurring critique of my articles on gender norms and how they’re mostly learned, not innate, comes from parents with young kids.', metadata={'source': 'data/marketing.txt', 'title': 'marketing.txt', 'topic': 'marketing, toys', 'data_type': 'txt'}),\n",
       " Document(page_content='If these norms are really learned, how come little girls and boys often gravitate to gender-typical toys anyway, even when raised in mostly gender-neutral environments with full freedom to choose', metadata={'source': 'data/marketing.txt', 'title': 'marketing.txt', 'topic': 'marketing, toys', 'data_type': 'txt'}),\n",
       " Document(page_content='freedom to choose their toys?', metadata={'source': 'data/marketing.txt', 'title': 'marketing.txt', 'topic': 'marketing, toys', 'data_type': 'txt'})]"
      ]
     },
     "execution_count": 14,
     "metadata": {},
     "output_type": "execute_result"
    },
    {
     "data": {
      "text/plain": [
       "[Document(page_content='and use your energy somewhere else.', metadata={'source': 'data/marketing.txt', 'title': 'marketing.txt', 'topic': 'marketing, toys', 'data_type': 'txt'}),\n",
       " Document(page_content='Just like you have to sell your resume and experience to a potential employer to land a job, the same applies to your writing.', metadata={'source': 'data/marketing.txt', 'title': 'marketing.txt', 'topic': 'marketing, toys', 'data_type': 'txt'}),\n",
       " Document(page_content='Either sell your writing, or stay at a job and keep selling your resume to earn a non-writing salary. There’s no in-between.', metadata={'source': 'data/marketing.txt', 'title': 'marketing.txt', 'topic': 'marketing, toys', 'data_type': 'txt'}),\n",
       " Document(page_content='Looking to grow online with writing? You could try trial and error. Or you could join 200K+ people who get the shortcuts from me.', metadata={'source': 'data/marketing.txt', 'title': 'marketing.txt', 'topic': 'marketing, toys', 'data_type': 'txt'})]"
      ]
     },
     "execution_count": 14,
     "metadata": {},
     "output_type": "execute_result"
    }
   ],
   "source": [
    "filename = 'marketing.txt'\n",
    "file_path = path_data + filename\n",
    "\n",
    "metadata_file = {\n",
    "    'title': filename,\n",
    "    'topic': 'marketing, toys', \n",
    "    'data_type': 'txt',\n",
    "}\n",
    "\n",
    "chunking_strategy = {\n",
    "    'key1': 'bla bla bla',\n",
    "    'chunk_size': 200,\n",
    "    'chunk_overlap': 20,\n",
    "}\n",
    "\n",
    "doc_w_md = Data2Docs.main(file_path, metadata_file, **chunking_strategy)\n",
    "len(doc_w_md)\n",
    "doc_w_md[0:4]\n",
    "doc_w_md[-4:]"
   ]
  },
  {
   "cell_type": "code",
   "execution_count": 15,
   "id": "d83e7191-0679-4ccc-8909-ec9a722d2233",
   "metadata": {},
   "outputs": [
    {
     "name": "stdout",
     "output_type": "stream",
     "text": [
      "added 144 indices to vector store\n",
      "sources available after insertion:\n",
      "{'source': {'data/garb_in_garb_out.pdf', 'data/qna_table.csv', 'data/marketing.txt'}}\n"
     ]
    }
   ],
   "source": [
    "vector_store_multi = Docs2VectorDb.add_docs_to_vector_db(vector_store_multi, doc_w_md)"
   ]
  },
  {
   "cell_type": "code",
   "execution_count": null,
   "id": "4f4383c6-6559-4980-9e44-57b62574fc53",
   "metadata": {},
   "outputs": [],
   "source": []
  },
  {
   "cell_type": "markdown",
   "id": "d15719b4-5076-4a49-8226-7b9fbf6d750f",
   "metadata": {},
   "source": [
    "### Update Doc from a Source\n",
    "- Create new docs from updated source\n",
    "- Delete all docs from the source in vector store\n",
    "- Ingest new docs to vector store"
   ]
  },
  {
   "cell_type": "code",
   "execution_count": 16,
   "id": "06723774-169f-4697-9511-e7b0afb66e14",
   "metadata": {},
   "outputs": [
    {
     "data": {
      "text/plain": [
       "{'source': {'data/garb_in_garb_out.pdf',\n",
       "  'data/marketing.txt',\n",
       "  'data/qna_table.csv'}}"
      ]
     },
     "execution_count": 16,
     "metadata": {},
     "output_type": "execute_result"
    }
   ],
   "source": [
    "sources = Docs2VectorDb.sources_from_vdb(vector_store_multi)\n",
    "sources"
   ]
  },
  {
   "cell_type": "markdown",
   "id": "80acf823-a64b-44f6-b8b1-58654b0e0bd2",
   "metadata": {},
   "source": [
    "#### Add a test file"
   ]
  },
  {
   "cell_type": "code",
   "execution_count": 17,
   "id": "e096f847-8e02-4a1a-a1bc-4f0fcf790c6a",
   "metadata": {},
   "outputs": [
    {
     "data": {
      "text/plain": [
       "53"
      ]
     },
     "execution_count": 17,
     "metadata": {},
     "output_type": "execute_result"
    },
    {
     "data": {
      "text/plain": [
       "[Document(page_content='In the quiet town of Eldoria,', metadata={'source': 'data/garb_in_garb_out.txt', 'title': 'garb_in_garb_out.txt', 'topic': 'philosophy', 'data_type': 'txt'}),\n",
       " Document(page_content='an old tailor named Ethan ran', metadata={'source': 'data/garb_in_garb_out.txt', 'title': 'garb_in_garb_out.txt', 'topic': 'philosophy', 'data_type': 'txt'}),\n",
       " Document(page_content='ran a small, dimly lit shop.', metadata={'source': 'data/garb_in_garb_out.txt', 'title': 'garb_in_garb_out.txt', 'topic': 'philosophy', 'data_type': 'txt'}),\n",
       " Document(page_content='The sign above his door read', metadata={'source': 'data/garb_in_garb_out.txt', 'title': 'garb_in_garb_out.txt', 'topic': 'philosophy', 'data_type': 'txt'})]"
      ]
     },
     "execution_count": 17,
     "metadata": {},
     "output_type": "execute_result"
    },
    {
     "data": {
      "text/plain": [
       "[Document(page_content='a reminder that every action,', metadata={'source': 'data/garb_in_garb_out.txt', 'title': 'garb_in_garb_out.txt', 'topic': 'philosophy', 'data_type': 'txt'}),\n",
       " Document(page_content='like every thread, wove the', metadata={'source': 'data/garb_in_garb_out.txt', 'title': 'garb_in_garb_out.txt', 'topic': 'philosophy', 'data_type': 'txt'}),\n",
       " Document(page_content='the fabric of their', metadata={'source': 'data/garb_in_garb_out.txt', 'title': 'garb_in_garb_out.txt', 'topic': 'philosophy', 'data_type': 'txt'}),\n",
       " Document(page_content='collective existence.', metadata={'source': 'data/garb_in_garb_out.txt', 'title': 'garb_in_garb_out.txt', 'topic': 'philosophy', 'data_type': 'txt'})]"
      ]
     },
     "execution_count": 17,
     "metadata": {},
     "output_type": "execute_result"
    }
   ],
   "source": [
    "filename = 'garb_in_garb_out.txt'\n",
    "file_path = path_data + filename\n",
    "\n",
    "metadata_file = {\n",
    "    'title': filename,\n",
    "    'topic': 'philosophy', \n",
    "    'data_type': 'txt',\n",
    "}\n",
    "\n",
    "chunking_strategy = {\n",
    "    'key1': 'bla bla bla',\n",
    "    'chunk_size': 30,\n",
    "    'chunk_overlap': 5,\n",
    "}\n",
    "\n",
    "doc_w_md = Data2Docs.main(file_path, metadata_file, **chunking_strategy)\n",
    "len(doc_w_md)\n",
    "doc_w_md[0:4]\n",
    "doc_w_md[-4:]"
   ]
  },
  {
   "cell_type": "code",
   "execution_count": 18,
   "id": "cf58ccc1-1d39-4707-8535-2857b103775a",
   "metadata": {},
   "outputs": [
    {
     "name": "stdout",
     "output_type": "stream",
     "text": [
      "added 53 indices to vector store\n",
      "sources available after insertion:\n",
      "{'source': {'data/garb_in_garb_out.pdf', 'data/garb_in_garb_out.txt', 'data/qna_table.csv', 'data/marketing.txt'}}\n"
     ]
    }
   ],
   "source": [
    "vector_store_multi = Docs2VectorDb.add_docs_to_vector_db(vector_store_multi, doc_w_md)"
   ]
  },
  {
   "cell_type": "code",
   "execution_count": null,
   "id": "5ace9f05-ab3a-41b1-a3fb-b1ba69ee68db",
   "metadata": {},
   "outputs": [],
   "source": []
  },
  {
   "cell_type": "markdown",
   "id": "b08e3fa5-0966-48dc-988d-09266171e84f",
   "metadata": {},
   "source": [
    "#### Delete docs from existing source"
   ]
  },
  {
   "cell_type": "raw",
   "id": "a7a9018e-3273-4242-a7f1-588f5427dd82",
   "metadata": {},
   "source": [
    "metadata_file = {\n",
    "    'data_type': 'txt',\n",
    "    'topic': 'philosophy',\n",
    "}\n",
    "\n",
    "vector_store_multi = Docs2VectorDb.update_docs_using_metadata(vector_store_multi, doc_w_md, metadata_file)"
   ]
  },
  {
   "cell_type": "code",
   "execution_count": 22,
   "id": "6216894c-6119-453c-8593-3afaf1c5c508",
   "metadata": {},
   "outputs": [
    {
     "name": "stdout",
     "output_type": "stream",
     "text": [
      "deleted 53 indices from vector store\n",
      "sources available after deletion:\n",
      "{'source': {'data/garb_in_garb_out.txt', 'data/qna_table.csv', 'data/marketing.txt'}}\n",
      "added 53 indices to vector store\n",
      "sources available after insertion:\n",
      "{'source': {'data/garb_in_garb_out.txt', 'data/qna_table.csv', 'data/marketing.txt'}}\n"
     ]
    }
   ],
   "source": [
    "metadata_file = {'$and': [\n",
    "    {'data_type': {'$eq': 'pdf'}},\n",
    "    {'topic': {'$eq': 'philosophy'}},\n",
    "    ]\n",
    "                 }\n",
    "\n",
    "vector_store_multi = Docs2VectorDb.update_docs_using_metadata(vector_store_multi, doc_w_md, metadata_file)"
   ]
  },
  {
   "cell_type": "code",
   "execution_count": null,
   "id": "082bffe2-503c-4498-b8be-fb49ab8a0030",
   "metadata": {},
   "outputs": [],
   "source": []
  },
  {
   "cell_type": "code",
   "execution_count": null,
   "id": "f789558c-fb70-4bc7-8ece-bfa25e8474d8",
   "metadata": {},
   "outputs": [],
   "source": []
  },
  {
   "cell_type": "markdown",
   "id": "bf1555b7-5311-4f54-8513-0fb88e09fe9f",
   "metadata": {},
   "source": [
    "### What you can do with the vector store\n",
    "\n",
    "- get all documents\n",
    "- filter some documents based on a condition\n",
    "- add documents\n",
    "- delete documents\n",
    "- update documents"
   ]
  },
  {
   "cell_type": "code",
   "execution_count": null,
   "id": "5ca9ff96-1a14-445f-9acf-52a8457a02f6",
   "metadata": {},
   "outputs": [],
   "source": []
  },
  {
   "cell_type": "code",
   "execution_count": null,
   "id": "2ce3fedb-15eb-4dc1-a81b-41ed3eac052b",
   "metadata": {},
   "outputs": [],
   "source": []
  }
 ],
 "metadata": {
  "kernelspec": {
   "display_name": "Python 3 (ipykernel)",
   "language": "python",
   "name": "python3"
  },
  "language_info": {
   "codemirror_mode": {
    "name": "ipython",
    "version": 3
   },
   "file_extension": ".py",
   "mimetype": "text/x-python",
   "name": "python",
   "nbconvert_exporter": "python",
   "pygments_lexer": "ipython3",
   "version": "3.10.4"
  }
 },
 "nbformat": 4,
 "nbformat_minor": 5
}
