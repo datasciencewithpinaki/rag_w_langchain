{
 "cells": [
  {
   "cell_type": "code",
   "execution_count": 1,
   "id": "da1c350a-4d2f-40dc-8baa-afbd831a6d38",
   "metadata": {},
   "outputs": [],
   "source": [
    "from codes.utils import set_ipynb_config, time_it\n",
    "set_ipynb_config()"
   ]
  },
  {
   "cell_type": "code",
   "execution_count": 2,
   "id": "7e13280e-a7c2-498d-a9ba-8bb040e6f026",
   "metadata": {},
   "outputs": [],
   "source": [
    "path_data = 'data/multi_docs/'"
   ]
  },
  {
   "cell_type": "code",
   "execution_count": 3,
   "id": "11d9d5dc-710a-4bff-a0ac-a2b0756877b0",
   "metadata": {},
   "outputs": [],
   "source": [
    "path_persist_db = '/Users/prb000j/Downloads/downloaded_models/vector_dbs/'"
   ]
  },
  {
   "cell_type": "code",
   "execution_count": null,
   "id": "f5371adb-b89f-45c5-a53e-28991e3a444e",
   "metadata": {},
   "outputs": [],
   "source": []
  },
  {
   "cell_type": "markdown",
   "id": "450e740e-8117-417b-94c0-806fb04d31a4",
   "metadata": {},
   "source": [
    "## A. Data Processing\n",
    "**Expected Input:** New Data as txt, csv, etc.\n",
    "\n",
    "```python\n",
    "data_load(file) -> raw_doc\n",
    "data_preprocess(raw_doc) -> clean_doc\n",
    "doc_chunk(clean_doc) -> chunks\n",
    "add_metadata() -> dictionary of metadata\n",
    "```\n",
    "**Expected Output:** List of Docs and their respective metadata"
   ]
  },
  {
   "cell_type": "code",
   "execution_count": 4,
   "id": "34dca513-0cb5-4e07-b179-d528ecbc6a02",
   "metadata": {},
   "outputs": [],
   "source": [
    "from codes.file_to_docs import Data2Docs"
   ]
  },
  {
   "cell_type": "code",
   "execution_count": 5,
   "id": "fe9aca4a-b48a-4f59-84ce-5b9e7b545dc9",
   "metadata": {
    "scrolled": true
   },
   "outputs": [
    {
     "data": {
      "text/plain": [
       "28"
      ]
     },
     "execution_count": 5,
     "metadata": {},
     "output_type": "execute_result"
    },
    {
     "data": {
      "text/plain": [
       "[Document(page_content='Luminate Report Builder', metadata={'source': 'data/multi_docs/Luminate Report Builder.docx', 'title': 'Luminate Report Builder.docx', 'topic': 'RB, Luminate', 'data_type': 'word document'}),\n",
       " Document(page_content='Introduction', metadata={'source': 'data/multi_docs/Luminate Report Builder.docx', 'title': 'Luminate Report Builder.docx', 'topic': 'RB, Luminate', 'data_type': 'word document'}),\n",
       " Document(page_content='Report Builder is a tool that', metadata={'source': 'data/multi_docs/Luminate Report Builder.docx', 'title': 'Luminate Report Builder.docx', 'topic': 'RB, Luminate', 'data_type': 'word document'}),\n",
       " Document(page_content='that is part of the Luminate', metadata={'source': 'data/multi_docs/Luminate Report Builder.docx', 'title': 'Luminate Report Builder.docx', 'topic': 'RB, Luminate', 'data_type': 'word document'})]"
      ]
     },
     "execution_count": 5,
     "metadata": {},
     "output_type": "execute_result"
    },
    {
     "data": {
      "text/plain": [
       "[Document(page_content='Timeline', metadata={'source': 'data/multi_docs/Luminate Report Builder.docx', 'title': 'Luminate Report Builder.docx', 'topic': 'RB, Luminate', 'data_type': 'word document'}),\n",
       " Document(page_content='We will be rolling out the', metadata={'source': 'data/multi_docs/Luminate Report Builder.docx', 'title': 'Luminate Report Builder.docx', 'topic': 'RB, Luminate', 'data_type': 'word document'}),\n",
       " Document(page_content='the first version by the end', metadata={'source': 'data/multi_docs/Luminate Report Builder.docx', 'title': 'Luminate Report Builder.docx', 'topic': 'RB, Luminate', 'data_type': 'word document'}),\n",
       " Document(page_content='end of July, 2024.', metadata={'source': 'data/multi_docs/Luminate Report Builder.docx', 'title': 'Luminate Report Builder.docx', 'topic': 'RB, Luminate', 'data_type': 'word document'})]"
      ]
     },
     "execution_count": 5,
     "metadata": {},
     "output_type": "execute_result"
    }
   ],
   "source": [
    "filename = 'Luminate Report Builder.docx'\n",
    "file_path = path_data + filename\n",
    "\n",
    "metadata_test = {\n",
    "    'title': filename,\n",
    "    'topic': 'RB, Luminate', \n",
    "    'data_type': 'word document',\n",
    "}\n",
    "\n",
    "chunking_strategy = {\n",
    "    'key1': 'bla bla bla',\n",
    "    'chunk_size': 30,\n",
    "    'chunk_overlap': 5,\n",
    "}\n",
    "\n",
    "doc_w_md = Data2Docs.main(file_path, metadata_test, **chunking_strategy)\n",
    "len(doc_w_md)\n",
    "doc_w_md[0:4]\n",
    "doc_w_md[-4:]"
   ]
  },
  {
   "cell_type": "code",
   "execution_count": null,
   "id": "ccd9be97-470d-446f-a117-09d053e9b41a",
   "metadata": {},
   "outputs": [],
   "source": []
  },
  {
   "cell_type": "markdown",
   "id": "488949a5-9e31-462b-a424-22f40b17d680",
   "metadata": {},
   "source": [
    "## B. Docs to Vector DB\n",
    "**Expected Input:** List of Docs with metadata (from single or multiple document)\n",
    "\n",
    "```python\n",
    "embed_docs(chunk) -> embedding\n",
    "add_docs_to_vdb(embedding, index) -> none\n",
    "```\n",
    "**Expected Output:** None (Just a confirmation msg that docs have been added to vector db)"
   ]
  },
  {
   "cell_type": "code",
   "execution_count": 6,
   "id": "4e4356cb-6a34-4744-a359-0461755bf596",
   "metadata": {},
   "outputs": [],
   "source": [
    "from codes.file_to_docs import Docs2VectorDb"
   ]
  },
  {
   "cell_type": "markdown",
   "id": "17224b4f-9d91-4467-9ed5-e37aff5f222e",
   "metadata": {},
   "source": [
    "### If vector store needs to be:\n",
    "- created from scratch (`True`)\n",
    "- loaded from directory (`False`)"
   ]
  },
  {
   "cell_type": "code",
   "execution_count": 7,
   "id": "7d2a50ae-958e-425b-8199-c79ca4ef2522",
   "metadata": {},
   "outputs": [],
   "source": [
    "create_vector_db = True"
   ]
  },
  {
   "cell_type": "code",
   "execution_count": 8,
   "id": "9c049372-86bd-4773-93b0-ed4cf93f7ed4",
   "metadata": {},
   "outputs": [],
   "source": [
    "import os, shutil"
   ]
  },
  {
   "cell_type": "code",
   "execution_count": 9,
   "id": "16b8fe7e-fdb1-4d90-abb9-a9cbd2b2e1eb",
   "metadata": {},
   "outputs": [
    {
     "name": "stdout",
     "output_type": "stream",
     "text": [
      "vector store deleted from:\n",
      "/Users/prb000j/Downloads/downloaded_models/vector_dbs/\n"
     ]
    },
    {
     "name": "stderr",
     "output_type": "stream",
     "text": [
      "/opt/miniconda3/envs/suppbot-langchain/lib/python3.12/site-packages/tqdm/auto.py:21: TqdmWarning: IProgress not found. Please update jupyter and ipywidgets. See https://ipywidgets.readthedocs.io/en/stable/user_install.html\n",
      "  from .autonotebook import tqdm as notebook_tqdm\n",
      "/opt/miniconda3/envs/suppbot-langchain/lib/python3.12/site-packages/huggingface_hub/file_download.py:1132: FutureWarning: `resume_download` is deprecated and will be removed in version 1.0.0. Downloads always resume when possible. If you want to force a new download, use `force_download=True`.\n",
      "  warnings.warn(\n"
     ]
    },
    {
     "name": "stdout",
     "output_type": "stream",
     "text": [
      "vector store created and persists here:\n",
      "/Users/prb000j/Downloads/downloaded_models/vector_dbs/\n"
     ]
    }
   ],
   "source": [
    "# deletes the vector store and creates the path again\n",
    "if create_vector_db:  # create vector store from scratch\n",
    "    shutil.rmtree(path_persist_db, ignore_errors=True)\n",
    "    os.mkdir(path_persist_db)\n",
    "    print(f'vector store deleted from:\\n{path_persist_db}')\n",
    "    vector_store_multi = Docs2VectorDb.main(doc_w_md, path_persist_db)\n",
    "    print(f'vector store created and persists here:\\n{path_persist_db}')\n",
    "else:  # load vector store\n",
    "    vector_store_multi = Docs2VectorDb.load_vector_store(path_persist_db)\n",
    "    print(f'vector store loaded and persists here:\\n{path_persist_db}')"
   ]
  },
  {
   "cell_type": "code",
   "execution_count": null,
   "id": "5e697674-83aa-43e4-b613-8b7c202d95b1",
   "metadata": {},
   "outputs": [],
   "source": []
  },
  {
   "cell_type": "code",
   "execution_count": null,
   "id": "e024185a-1990-46cc-931a-ad71e5b89969",
   "metadata": {},
   "outputs": [],
   "source": []
  },
  {
   "cell_type": "code",
   "execution_count": null,
   "id": "cb0e4568-d104-46c0-868a-3a00589fa8d2",
   "metadata": {},
   "outputs": [],
   "source": []
  },
  {
   "cell_type": "code",
   "execution_count": null,
   "id": "3610a095-6a00-473d-9058-5f143029a82d",
   "metadata": {},
   "outputs": [],
   "source": []
  },
  {
   "cell_type": "markdown",
   "id": "059564f6-22ce-4a50-b2c9-affcbf1dd8c4",
   "metadata": {},
   "source": [
    "### Add one file"
   ]
  },
  {
   "cell_type": "code",
   "execution_count": 10,
   "id": "f03130c8-9516-4fcd-b7e8-8badb4602d26",
   "metadata": {
    "scrolled": true
   },
   "outputs": [
    {
     "data": {
      "text/plain": [
       "21"
      ]
     },
     "execution_count": 10,
     "metadata": {},
     "output_type": "execute_result"
    },
    {
     "data": {
      "text/plain": [
       "[Document(page_content='question,answer,source', metadata={'source': 'data/multi_docs/dataframe.csv', 'title': 'dataframe.csv', 'topic': 'qna on topics like RB, luminate', 'data_type': 'dataframe'}),\n",
       " Document(page_content='what is this tool,this tool', metadata={'source': 'data/multi_docs/dataframe.csv', 'title': 'dataframe.csv', 'topic': 'qna on topics like RB, luminate', 'data_type': 'dataframe'}),\n",
       " Document(page_content='tool is called report', metadata={'source': 'data/multi_docs/dataframe.csv', 'title': 'dataframe.csv', 'topic': 'qna on topics like RB, luminate', 'data_type': 'dataframe'}),\n",
       " Document(page_content='builder. It is part of', metadata={'source': 'data/multi_docs/dataframe.csv', 'title': 'dataframe.csv', 'topic': 'qna on topics like RB, luminate', 'data_type': 'dataframe'})]"
      ]
     },
     "execution_count": 10,
     "metadata": {},
     "output_type": "execute_result"
    },
    {
     "data": {
      "text/plain": [
       "[Document(page_content='on the top right corner of', metadata={'source': 'data/multi_docs/dataframe.csv', 'title': 'dataframe.csv', 'topic': 'qna on topics like RB, luminate', 'data_type': 'dataframe'}),\n",
       " Document(page_content='of the page. You will need to', metadata={'source': 'data/multi_docs/dataframe.csv', 'title': 'dataframe.csv', 'topic': 'qna on topics like RB, luminate', 'data_type': 'dataframe'}),\n",
       " Document(page_content='to follow along the', metadata={'source': 'data/multi_docs/dataframe.csv', 'title': 'dataframe.csv', 'topic': 'qna on topics like RB, luminate', 'data_type': 'dataframe'}),\n",
       " Document(page_content='the guidelines.,testsource2', metadata={'source': 'data/multi_docs/dataframe.csv', 'title': 'dataframe.csv', 'topic': 'qna on topics like RB, luminate', 'data_type': 'dataframe'})]"
      ]
     },
     "execution_count": 10,
     "metadata": {},
     "output_type": "execute_result"
    }
   ],
   "source": [
    "filename = 'dataframe.csv'\n",
    "file_path = path_data + filename\n",
    "\n",
    "metadata_file = {\n",
    "    'title': filename,\n",
    "    'topic': 'qna on topics like RB, luminate', \n",
    "    'data_type': 'dataframe',\n",
    "}\n",
    "\n",
    "chunking_strategy = {\n",
    "    'key1': 'bla bla bla',\n",
    "    'chunk_size': 30,\n",
    "    'chunk_overlap': 5,\n",
    "}\n",
    "\n",
    "doc_w_md = Data2Docs.main(file_path, metadata_file, **chunking_strategy)\n",
    "len(doc_w_md)\n",
    "doc_w_md[0:4]\n",
    "doc_w_md[-4:]"
   ]
  },
  {
   "cell_type": "code",
   "execution_count": 11,
   "id": "ed48767a-3f3c-432e-9ffc-adfc735d2cd8",
   "metadata": {},
   "outputs": [
    {
     "name": "stdout",
     "output_type": "stream",
     "text": [
      "added 21 indices to vector store\n",
      "sources available after insertion:\n",
      "{'source': {'data/multi_docs/dataframe.csv', 'data/multi_docs/Luminate Report Builder.docx'}}\n"
     ]
    }
   ],
   "source": [
    "vector_store_multi = Docs2VectorDb.add_docs_to_vector_db(vector_store_multi, doc_w_md)"
   ]
  },
  {
   "cell_type": "code",
   "execution_count": null,
   "id": "d2fce37c-daae-41d5-bd2a-47aa578a2c63",
   "metadata": {},
   "outputs": [],
   "source": []
  },
  {
   "cell_type": "markdown",
   "id": "b80fa836-67ea-47b8-9402-c5a87b5b72ce",
   "metadata": {},
   "source": [
    "### Add one file"
   ]
  },
  {
   "cell_type": "code",
   "execution_count": 12,
   "id": "dcfe87f2-906a-46e9-89e1-a87a187724f9",
   "metadata": {},
   "outputs": [
    {
     "data": {
      "text/plain": [
       "144"
      ]
     },
     "execution_count": 12,
     "metadata": {},
     "output_type": "execute_result"
    },
    {
     "data": {
      "text/plain": [
       "[Document(page_content='Girls Are Caring, Boys Are Violent: How Toys’ Marketing Reinforces Gender Norms\\nAnd why its impact on children’s development shouldn’t be dismissed', metadata={'source': 'data/multi_docs/marketing.txt', 'topic': 'marketing, toys', 'data_type': 'txt'}),\n",
       " Document(page_content='One recurring critique of my articles on gender norms and how they’re mostly learned, not innate, comes from parents with young kids.', metadata={'source': 'data/multi_docs/marketing.txt', 'topic': 'marketing, toys', 'data_type': 'txt'}),\n",
       " Document(page_content='If these norms are really learned, how come little girls and boys often gravitate to gender-typical toys anyway, even when raised in mostly gender-neutral environments with full freedom to choose', metadata={'source': 'data/multi_docs/marketing.txt', 'topic': 'marketing, toys', 'data_type': 'txt'}),\n",
       " Document(page_content='freedom to choose their toys?', metadata={'source': 'data/multi_docs/marketing.txt', 'topic': 'marketing, toys', 'data_type': 'txt'})]"
      ]
     },
     "execution_count": 12,
     "metadata": {},
     "output_type": "execute_result"
    },
    {
     "data": {
      "text/plain": [
       "[Document(page_content='and use your energy somewhere else.', metadata={'source': 'data/multi_docs/marketing.txt', 'topic': 'marketing, toys', 'data_type': 'txt'}),\n",
       " Document(page_content='Just like you have to sell your resume and experience to a potential employer to land a job, the same applies to your writing.', metadata={'source': 'data/multi_docs/marketing.txt', 'topic': 'marketing, toys', 'data_type': 'txt'}),\n",
       " Document(page_content='Either sell your writing, or stay at a job and keep selling your resume to earn a non-writing salary. There’s no in-between.', metadata={'source': 'data/multi_docs/marketing.txt', 'topic': 'marketing, toys', 'data_type': 'txt'}),\n",
       " Document(page_content='Looking to grow online with writing? You could try trial and error. Or you could join 200K+ people who get the shortcuts from me.', metadata={'source': 'data/multi_docs/marketing.txt', 'topic': 'marketing, toys', 'data_type': 'txt'})]"
      ]
     },
     "execution_count": 12,
     "metadata": {},
     "output_type": "execute_result"
    }
   ],
   "source": [
    "filename = 'marketing.txt'\n",
    "file_path = path_data + filename\n",
    "\n",
    "metadata_file = {\n",
    "    title = filename,\n",
    "    'topic': 'marketing, toys', \n",
    "    'data_type': 'txt',\n",
    "}\n",
    "\n",
    "chunking_strategy = {\n",
    "    'key1': 'bla bla bla',\n",
    "    'chunk_size': 200,\n",
    "    'chunk_overlap': 20,\n",
    "}\n",
    "\n",
    "doc_w_md = Data2Docs.main(file_path, metadata_file, **chunking_strategy)\n",
    "len(doc_w_md)\n",
    "doc_w_md[0:4]\n",
    "doc_w_md[-4:]"
   ]
  },
  {
   "cell_type": "code",
   "execution_count": 13,
   "id": "d83e7191-0679-4ccc-8909-ec9a722d2233",
   "metadata": {},
   "outputs": [
    {
     "name": "stdout",
     "output_type": "stream",
     "text": [
      "added 144 indices to vector store\n",
      "sources available after insertion:\n",
      "{'source': {'data/multi_docs/marketing.txt', 'data/multi_docs/dataframe.csv', 'data/multi_docs/Luminate Report Builder.docx'}}\n"
     ]
    }
   ],
   "source": [
    "vector_store_multi = Docs2VectorDb.add_docs_to_vector_db(vector_store_multi, doc_w_md)"
   ]
  },
  {
   "cell_type": "code",
   "execution_count": null,
   "id": "4f4383c6-6559-4980-9e44-57b62574fc53",
   "metadata": {},
   "outputs": [],
   "source": []
  },
  {
   "cell_type": "markdown",
   "id": "d15719b4-5076-4a49-8226-7b9fbf6d750f",
   "metadata": {},
   "source": [
    "### Update Doc from a Source\n",
    "- Create new docs from updated source\n",
    "- Delete all docs from the source in vector store\n",
    "- Ingest new docs to vector store"
   ]
  },
  {
   "cell_type": "code",
   "execution_count": 14,
   "id": "06723774-169f-4697-9511-e7b0afb66e14",
   "metadata": {},
   "outputs": [
    {
     "data": {
      "text/plain": [
       "{'source': {'data/multi_docs/Luminate Report Builder.docx',\n",
       "  'data/multi_docs/dataframe.csv',\n",
       "  'data/multi_docs/marketing.txt'}}"
      ]
     },
     "execution_count": 14,
     "metadata": {},
     "output_type": "execute_result"
    }
   ],
   "source": [
    "sources = Docs2VectorDb.sources_from_vdb(vector_store_multi)\n",
    "sources"
   ]
  },
  {
   "cell_type": "markdown",
   "id": "80acf823-a64b-44f6-b8b1-58654b0e0bd2",
   "metadata": {},
   "source": [
    "#### Add a test file"
   ]
  },
  {
   "cell_type": "code",
   "execution_count": 15,
   "id": "e096f847-8e02-4a1a-a1bc-4f0fcf790c6a",
   "metadata": {},
   "outputs": [
    {
     "name": "stderr",
     "output_type": "stream",
     "text": [
      "Ignoring wrong pointing object 6 0 (offset 0)\n",
      "Ignoring wrong pointing object 8 0 (offset 0)\n",
      "Ignoring wrong pointing object 10 0 (offset 0)\n"
     ]
    },
    {
     "data": {
      "text/plain": [
       "25"
      ]
     },
     "execution_count": 15,
     "metadata": {},
     "output_type": "execute_result"
    },
    {
     "data": {
      "text/plain": [
       "[Document(page_content='Luminate Report Builder', metadata={'source': 'data/multi_docs/Luminate Report Builder.pdf', 'page': 0, 'title': 'Luminate Report Builder.pdf', 'topic': 'marketing, toys', 'data_type': 'pdf'}),\n",
       " Document(page_content='Introduction Report Builder', metadata={'source': 'data/multi_docs/Luminate Report Builder.pdf', 'page': 0, 'title': 'Luminate Report Builder.pdf', 'topic': 'marketing, toys', 'data_type': 'pdf'}),\n",
       " Document(page_content='is a tool that is part of the', metadata={'source': 'data/multi_docs/Luminate Report Builder.pdf', 'page': 0, 'title': 'Luminate Report Builder.pdf', 'topic': 'marketing, toys', 'data_type': 'pdf'}),\n",
       " Document(page_content='the Luminate Suite. RB', metadata={'source': 'data/multi_docs/Luminate Report Builder.pdf', 'page': 0, 'title': 'Luminate Report Builder.pdf', 'topic': 'marketing, toys', 'data_type': 'pdf'})]"
      ]
     },
     "execution_count": 15,
     "metadata": {},
     "output_type": "execute_result"
    },
    {
     "data": {
      "text/plain": [
       "[Document(page_content='to create reports with ease.', metadata={'source': 'data/multi_docs/Luminate Report Builder.pdf', 'page': 0, 'title': 'Luminate Report Builder.pdf', 'topic': 'marketing, toys', 'data_type': 'pdf'}),\n",
       " Document(page_content='Timeline We will be rolling', metadata={'source': 'data/multi_docs/Luminate Report Builder.pdf', 'page': 0, 'title': 'Luminate Report Builder.pdf', 'topic': 'marketing, toys', 'data_type': 'pdf'}),\n",
       " Document(page_content='out the ﬁrst version by the', metadata={'source': 'data/multi_docs/Luminate Report Builder.pdf', 'page': 0, 'title': 'Luminate Report Builder.pdf', 'topic': 'marketing, toys', 'data_type': 'pdf'}),\n",
       " Document(page_content='the end of July, 2024.', metadata={'source': 'data/multi_docs/Luminate Report Builder.pdf', 'page': 0, 'title': 'Luminate Report Builder.pdf', 'topic': 'marketing, toys', 'data_type': 'pdf'})]"
      ]
     },
     "execution_count": 15,
     "metadata": {},
     "output_type": "execute_result"
    }
   ],
   "source": [
    "filename = 'Luminate Report Builder.pdf'\n",
    "file_path = path_data + filename\n",
    "\n",
    "metadata_file = {\n",
    "    'title': filename,\n",
    "    'topic': 'marketing, toys', \n",
    "    'data_type': 'pdf',\n",
    "}\n",
    "\n",
    "chunking_strategy = {\n",
    "    'key1': 'bla bla bla',\n",
    "    'chunk_size': 30,\n",
    "    'chunk_overlap': 5,\n",
    "}\n",
    "\n",
    "doc_w_md = Data2Docs.main(file_path, metadata_file, **chunking_strategy)\n",
    "len(doc_w_md)\n",
    "doc_w_md[0:4]\n",
    "doc_w_md[-4:]"
   ]
  },
  {
   "cell_type": "code",
   "execution_count": 16,
   "id": "cf58ccc1-1d39-4707-8535-2857b103775a",
   "metadata": {},
   "outputs": [
    {
     "name": "stdout",
     "output_type": "stream",
     "text": [
      "added 25 indices to vector store\n",
      "sources available after insertion:\n",
      "{'source': {'data/multi_docs/marketing.txt', 'data/multi_docs/Luminate Report Builder.pdf', 'data/multi_docs/dataframe.csv', 'data/multi_docs/Luminate Report Builder.docx'}}\n"
     ]
    }
   ],
   "source": [
    "vector_store_multi = Docs2VectorDb.add_docs_to_vector_db(vector_store_multi, doc_w_md)"
   ]
  },
  {
   "cell_type": "code",
   "execution_count": null,
   "id": "5ace9f05-ab3a-41b1-a3fb-b1ba69ee68db",
   "metadata": {},
   "outputs": [],
   "source": []
  },
  {
   "cell_type": "markdown",
   "id": "b08e3fa5-0966-48dc-988d-09266171e84f",
   "metadata": {},
   "source": [
    "#### Delete docs from existing source"
   ]
  },
  {
   "cell_type": "raw",
   "id": "230515dc-c1a7-48dc-8a68-21b88b4a3d92",
   "metadata": {},
   "source": [
    "from langchain_core.documents.base import Document\n",
    "from langchain_community.vectorstores.chroma import Chroma"
   ]
  },
  {
   "cell_type": "raw",
   "id": "d8ae7918-2844-4a99-94de-813614e9cc2b",
   "metadata": {},
   "source": [
    "def delete_docs_using_metadata(vector_store:Chroma, metadata_filter:dict)->Chroma:\n",
    "    docs_filtd = vector_store.get(where=metadata_filter, include=['metadatas'])\n",
    "    docs_filtd_id = docs_filtd['ids']\n",
    "    _ = vector_store.delete(docs_filtd_id)\n",
    "    return vector_store"
   ]
  },
  {
   "cell_type": "code",
   "execution_count": 17,
   "id": "e7357270-2aa4-4e7d-8a0c-57c75f94f3d1",
   "metadata": {},
   "outputs": [
    {
     "name": "stdout",
     "output_type": "stream",
     "text": [
      "deleted 25 indices from vector store\n",
      "sources available after deletion:\n",
      "{'source': {'data/multi_docs/marketing.txt', 'data/multi_docs/dataframe.csv', 'data/multi_docs/Luminate Report Builder.docx'}}\n",
      "added 25 indices to vector store\n",
      "sources available after insertion:\n",
      "{'source': {'data/multi_docs/marketing.txt', 'data/multi_docs/Luminate Report Builder.pdf', 'data/multi_docs/dataframe.csv', 'data/multi_docs/Luminate Report Builder.docx'}}\n"
     ]
    }
   ],
   "source": [
    "metadata_file = {\n",
    "    'data_type': 'pdf',\n",
    "    # 'topic': 'marketing, toys',\n",
    "}\n",
    "\n",
    "vector_store_multi = Docs2VectorDb.update_docs_using_metadata(vector_store_multi, doc_w_md, metadata_file)"
   ]
  },
  {
   "cell_type": "code",
   "execution_count": null,
   "id": "082bffe2-503c-4498-b8be-fb49ab8a0030",
   "metadata": {},
   "outputs": [],
   "source": []
  },
  {
   "cell_type": "code",
   "execution_count": null,
   "id": "f789558c-fb70-4bc7-8ece-bfa25e8474d8",
   "metadata": {},
   "outputs": [],
   "source": []
  },
  {
   "cell_type": "markdown",
   "id": "bf1555b7-5311-4f54-8513-0fb88e09fe9f",
   "metadata": {},
   "source": [
    "### What you can do with the vector store\n",
    "\n",
    "- get all documents\n",
    "- filter some documents based on a condition\n",
    "- add documents\n",
    "- delete documents\n",
    "- update documents"
   ]
  },
  {
   "cell_type": "code",
   "execution_count": null,
   "id": "5ca9ff96-1a14-445f-9acf-52a8457a02f6",
   "metadata": {},
   "outputs": [],
   "source": []
  },
  {
   "cell_type": "code",
   "execution_count": null,
   "id": "2ce3fedb-15eb-4dc1-a81b-41ed3eac052b",
   "metadata": {},
   "outputs": [],
   "source": []
  }
 ],
 "metadata": {
  "kernelspec": {
   "display_name": "Python 3 (ipykernel)",
   "language": "python",
   "name": "python3"
  },
  "language_info": {
   "codemirror_mode": {
    "name": "ipython",
    "version": 3
   },
   "file_extension": ".py",
   "mimetype": "text/x-python",
   "name": "python",
   "nbconvert_exporter": "python",
   "pygments_lexer": "ipython3",
   "version": "3.12.3"
  }
 },
 "nbformat": 4,
 "nbformat_minor": 5
}
