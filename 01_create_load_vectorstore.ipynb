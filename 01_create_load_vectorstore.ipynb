{
 "cells": [
  {
   "cell_type": "code",
   "execution_count": 1,
   "id": "da1c350a-4d2f-40dc-8baa-afbd831a6d38",
   "metadata": {},
   "outputs": [],
   "source": [
    "from codes.utils import set_ipynb_config, time_it\n",
    "set_ipynb_config()"
   ]
  },
  {
   "cell_type": "code",
   "execution_count": 4,
   "id": "a080d26d-a033-431c-ae7f-afb0d03a5a80",
   "metadata": {},
   "outputs": [],
   "source": [
    "import os\n",
    "from dotenv import load_dotenv"
   ]
  },
  {
   "cell_type": "code",
   "execution_count": 3,
   "id": "0fd3b931-cd76-4218-8ae1-70fda0d07154",
   "metadata": {},
   "outputs": [
    {
     "data": {
      "text/plain": [
       "True"
      ]
     },
     "execution_count": 3,
     "metadata": {},
     "output_type": "execute_result"
    }
   ],
   "source": [
    "load_dotenv()"
   ]
  },
  {
   "cell_type": "code",
   "execution_count": 2,
   "id": "7e13280e-a7c2-498d-a9ba-8bb040e6f026",
   "metadata": {},
   "outputs": [],
   "source": [
    "path_data = 'data/'"
   ]
  },
  {
   "cell_type": "code",
   "execution_count": 5,
   "id": "538c3e5c-8375-4537-bd9e-b37f87035015",
   "metadata": {},
   "outputs": [],
   "source": [
    "path_persist_db = os.getenv('PATH_PERSIST_DB')"
   ]
  },
  {
   "cell_type": "code",
   "execution_count": null,
   "id": "f5371adb-b89f-45c5-a53e-28991e3a444e",
   "metadata": {},
   "outputs": [],
   "source": []
  },
  {
   "cell_type": "markdown",
   "id": "450e740e-8117-417b-94c0-806fb04d31a4",
   "metadata": {},
   "source": [
    "## A. Data Processing\n",
    "**Expected Input:** New Data as txt, csv, etc.\n",
    "\n",
    "```python\n",
    "data_load(file) -> raw_doc\n",
    "data_preprocess(raw_doc) -> clean_doc\n",
    "doc_chunk(clean_doc) -> chunks\n",
    "add_metadata() -> dictionary of metadata\n",
    "```\n",
    "**Expected Output:** List of Docs and their respective metadata"
   ]
  },
  {
   "cell_type": "code",
   "execution_count": 4,
   "id": "34dca513-0cb5-4e07-b179-d528ecbc6a02",
   "metadata": {},
   "outputs": [],
   "source": [
    "from codes.file_to_docs import Data2Docs"
   ]
  },
  {
   "cell_type": "code",
   "execution_count": 5,
   "id": "fe9aca4a-b48a-4f59-84ce-5b9e7b545dc9",
   "metadata": {
    "scrolled": true
   },
   "outputs": [
    {
     "data": {
      "text/plain": [
       "144"
      ]
     },
     "execution_count": 5,
     "metadata": {},
     "output_type": "execute_result"
    },
    {
     "data": {
      "text/plain": [
       "[Document(page_content='Girls Are Caring, Boys Are Violent: How Toys’ Marketing Reinforces Gender Norms\\nAnd why its impact on children’s development shouldn’t be dismissed', metadata={'source': 'data/marketing.txt', 'title': 'marketing.txt', 'topic': 'toys, gender bias', 'data_type': 'txt'}),\n",
       " Document(page_content='One recurring critique of my articles on gender norms and how they’re mostly learned, not innate, comes from parents with young kids.', metadata={'source': 'data/marketing.txt', 'title': 'marketing.txt', 'topic': 'toys, gender bias', 'data_type': 'txt'}),\n",
       " Document(page_content='If these norms are really learned, how come little girls and boys often gravitate to gender-typical toys anyway, even when raised in mostly gender-neutral environments with full freedom to choose', metadata={'source': 'data/marketing.txt', 'title': 'marketing.txt', 'topic': 'toys, gender bias', 'data_type': 'txt'}),\n",
       " Document(page_content='freedom to choose their toys?', metadata={'source': 'data/marketing.txt', 'title': 'marketing.txt', 'topic': 'toys, gender bias', 'data_type': 'txt'})]"
      ]
     },
     "execution_count": 5,
     "metadata": {},
     "output_type": "execute_result"
    },
    {
     "data": {
      "text/plain": [
       "[Document(page_content='and use your energy somewhere else.', metadata={'source': 'data/marketing.txt', 'title': 'marketing.txt', 'topic': 'toys, gender bias', 'data_type': 'txt'}),\n",
       " Document(page_content='Just like you have to sell your resume and experience to a potential employer to land a job, the same applies to your writing.', metadata={'source': 'data/marketing.txt', 'title': 'marketing.txt', 'topic': 'toys, gender bias', 'data_type': 'txt'}),\n",
       " Document(page_content='Either sell your writing, or stay at a job and keep selling your resume to earn a non-writing salary. There’s no in-between.', metadata={'source': 'data/marketing.txt', 'title': 'marketing.txt', 'topic': 'toys, gender bias', 'data_type': 'txt'}),\n",
       " Document(page_content='Looking to grow online with writing? You could try trial and error. Or you could join 200K+ people who get the shortcuts from me.', metadata={'source': 'data/marketing.txt', 'title': 'marketing.txt', 'topic': 'toys, gender bias', 'data_type': 'txt'})]"
      ]
     },
     "execution_count": 5,
     "metadata": {},
     "output_type": "execute_result"
    }
   ],
   "source": [
    "filename = 'marketing.txt'\n",
    "file_path = path_data + filename\n",
    "\n",
    "metadata_test = {\n",
    "    'title': filename,\n",
    "    'topic': 'toys, gender bias', \n",
    "    'data_type': 'txt',\n",
    "}\n",
    "\n",
    "chunking_strategy = {\n",
    "    'key1': 'bla bla bla',\n",
    "    'chunk_size': 200,\n",
    "    'chunk_overlap': 20,\n",
    "}\n",
    "\n",
    "doc_w_md = Data2Docs.main(file_path, metadata_test, **chunking_strategy)\n",
    "len(doc_w_md)\n",
    "doc_w_md[0:4]\n",
    "doc_w_md[-4:]"
   ]
  },
  {
   "cell_type": "code",
   "execution_count": null,
   "id": "ccd9be97-470d-446f-a117-09d053e9b41a",
   "metadata": {},
   "outputs": [],
   "source": []
  },
  {
   "cell_type": "markdown",
   "id": "488949a5-9e31-462b-a424-22f40b17d680",
   "metadata": {},
   "source": [
    "## B. Docs to Vector DB\n",
    "**Expected Input:** List of Docs with metadata (from single or multiple document)\n",
    "\n",
    "```python\n",
    "embed_docs(chunk) -> embedding\n",
    "add_docs_to_vdb(embedding, index) -> none\n",
    "```\n",
    "**Expected Output:** None (Just a confirmation msg that docs have been added to vector db)"
   ]
  },
  {
   "cell_type": "code",
   "execution_count": 6,
   "id": "4e4356cb-6a34-4744-a359-0461755bf596",
   "metadata": {},
   "outputs": [],
   "source": [
    "from codes.file_to_docs import Docs2VectorDb"
   ]
  },
  {
   "cell_type": "markdown",
   "id": "17224b4f-9d91-4467-9ed5-e37aff5f222e",
   "metadata": {},
   "source": [
    "### If vector store needs to be:\n",
    "- created from scratch (`True`)\n",
    "- loaded from directory (`False`)"
   ]
  },
  {
   "cell_type": "code",
   "execution_count": 7,
   "id": "7d2a50ae-958e-425b-8199-c79ca4ef2522",
   "metadata": {},
   "outputs": [],
   "source": [
    "create_vector_db = True"
   ]
  },
  {
   "cell_type": "code",
   "execution_count": 8,
   "id": "9c049372-86bd-4773-93b0-ed4cf93f7ed4",
   "metadata": {},
   "outputs": [],
   "source": [
    "import os, shutil"
   ]
  },
  {
   "cell_type": "code",
   "execution_count": 9,
   "id": "16b8fe7e-fdb1-4d90-abb9-a9cbd2b2e1eb",
   "metadata": {},
   "outputs": [
    {
     "name": "stdout",
     "output_type": "stream",
     "text": [
      "vector store deleted from:\n",
      "/Users/pinaki/Downloads/models/vector-dbs/\n"
     ]
    },
    {
     "name": "stderr",
     "output_type": "stream",
     "text": [
      "/Library/Frameworks/Python.framework/Versions/3.10/lib/python3.10/site-packages/huggingface_hub/file_download.py:1132: FutureWarning: `resume_download` is deprecated and will be removed in version 1.0.0. Downloads always resume when possible. If you want to force a new download, use `force_download=True`.\n",
      "  warnings.warn(\n"
     ]
    },
    {
     "name": "stdout",
     "output_type": "stream",
     "text": [
      "vector store created and persists here:\n",
      "/Users/pinaki/Downloads/models/vector-dbs/\n"
     ]
    }
   ],
   "source": [
    "# deletes the vector store and creates the path again\n",
    "if create_vector_db:  # create vector store from scratch\n",
    "    shutil.rmtree(path_persist_db, ignore_errors=True)\n",
    "    os.mkdir(path_persist_db)\n",
    "    print(f'vector store deleted from:\\n{path_persist_db}')\n",
    "    vector_store_multi = Docs2VectorDb.main(doc_w_md, path_persist_db)\n",
    "    print(f'vector store created and persists here:\\n{path_persist_db}')\n",
    "else:  # load vector store\n",
    "    vector_store_multi = Docs2VectorDb.load_vector_store(path_persist_db)\n",
    "    print(f'vector store loaded and persists here:\\n{path_persist_db}')"
   ]
  },
  {
   "cell_type": "code",
   "execution_count": null,
   "id": "5e697674-83aa-43e4-b613-8b7c202d95b1",
   "metadata": {},
   "outputs": [],
   "source": []
  },
  {
   "cell_type": "code",
   "execution_count": null,
   "id": "e024185a-1990-46cc-931a-ad71e5b89969",
   "metadata": {},
   "outputs": [],
   "source": []
  },
  {
   "cell_type": "code",
   "execution_count": null,
   "id": "3610a095-6a00-473d-9058-5f143029a82d",
   "metadata": {},
   "outputs": [],
   "source": []
  },
  {
   "cell_type": "markdown",
   "id": "059564f6-22ce-4a50-b2c9-affcbf1dd8c4",
   "metadata": {},
   "source": [
    "### Add one file"
   ]
  },
  {
   "cell_type": "code",
   "execution_count": 10,
   "id": "f03130c8-9516-4fcd-b7e8-8badb4602d26",
   "metadata": {
    "scrolled": true
   },
   "outputs": [
    {
     "data": {
      "text/plain": [
       "251"
      ]
     },
     "execution_count": 10,
     "metadata": {},
     "output_type": "execute_result"
    },
    {
     "data": {
      "text/plain": [
       "[Document(page_content='5 habits to have better finances than 99% of people\\nHow to end up richer than your peers, on the long game', metadata={'source': 'data/personal_finance.txt', 'title': 'personal_finance.txt', 'topic': 'finance, investment, insurance', 'data_type': 'txt'}),\n",
       " Document(page_content='Finances are the only topic of conversation that never gets old. Everyone is always interested in making and managing money. And they always will!\\n\\nIt’s in our nature! Providing, being abundant.', metadata={'source': 'data/personal_finance.txt', 'title': 'personal_finance.txt', 'topic': 'finance, investment, insurance', 'data_type': 'txt'}),\n",
       " Document(page_content='There’s a reason our species was pre-historically called “hunter gatherers”. It’s because we like to gather, to collect, to have! It offers us security, safety and status.', metadata={'source': 'data/personal_finance.txt', 'title': 'personal_finance.txt', 'topic': 'finance, investment, insurance', 'data_type': 'txt'}),\n",
       " Document(page_content='And we all know how much we starve for those.', metadata={'source': 'data/personal_finance.txt', 'title': 'personal_finance.txt', 'topic': 'finance, investment, insurance', 'data_type': 'txt'})]"
      ]
     },
     "execution_count": 10,
     "metadata": {},
     "output_type": "execute_result"
    },
    {
     "data": {
      "text/plain": [
       "[Document(page_content='and unrealistic expectations.', metadata={'source': 'data/personal_finance.txt', 'title': 'personal_finance.txt', 'topic': 'finance, investment, insurance', 'data_type': 'txt'}),\n",
       " Document(page_content='That’s why things have gotten worse. Our expectations are no longer aligned with the reality we face.', metadata={'source': 'data/personal_finance.txt', 'title': 'personal_finance.txt', 'topic': 'finance, investment, insurance', 'data_type': 'txt'}),\n",
       " Document(page_content='The book is Nickel and Dimed by Barbara Ehrenreich. It highlights how hard it was for low-wage workers to get by at the turn of the century — and how much harder it’s become for professional workers', metadata={'source': 'data/personal_finance.txt', 'title': 'personal_finance.txt', 'topic': 'finance, investment, insurance', 'data_type': 'txt'}),\n",
       " Document(page_content='workers to get by today.', metadata={'source': 'data/personal_finance.txt', 'title': 'personal_finance.txt', 'topic': 'finance, investment, insurance', 'data_type': 'txt'})]"
      ]
     },
     "execution_count": 10,
     "metadata": {},
     "output_type": "execute_result"
    }
   ],
   "source": [
    "filename = 'personal_finance.txt'\n",
    "file_path = path_data + filename\n",
    "\n",
    "metadata_file = {\n",
    "    'title': filename,\n",
    "    'topic': 'finance, investment, insurance', \n",
    "    'data_type': 'txt',\n",
    "}\n",
    "\n",
    "chunking_strategy = {\n",
    "    'key1': 'bla bla bla',\n",
    "    'chunk_size': 200,\n",
    "    'chunk_overlap': 20,\n",
    "}\n",
    "\n",
    "doc_w_md = Data2Docs.main(file_path, metadata_file, **chunking_strategy)\n",
    "len(doc_w_md)\n",
    "doc_w_md[0:4]\n",
    "doc_w_md[-4:]"
   ]
  },
  {
   "cell_type": "code",
   "execution_count": 11,
   "id": "ed48767a-3f3c-432e-9ffc-adfc735d2cd8",
   "metadata": {},
   "outputs": [
    {
     "name": "stdout",
     "output_type": "stream",
     "text": [
      "added 251 indices to vector store\n",
      "sources available after insertion:\n",
      "{'source': {'data/marketing.txt', 'data/personal_finance.txt'}}\n"
     ]
    }
   ],
   "source": [
    "vector_store_multi = Docs2VectorDb.add_docs_to_vector_db(vector_store_multi, doc_w_md)"
   ]
  },
  {
   "cell_type": "code",
   "execution_count": null,
   "id": "d2fce37c-daae-41d5-bd2a-47aa578a2c63",
   "metadata": {},
   "outputs": [],
   "source": []
  },
  {
   "cell_type": "markdown",
   "id": "b80fa836-67ea-47b8-9402-c5a87b5b72ce",
   "metadata": {},
   "source": [
    "### Add one file"
   ]
  },
  {
   "cell_type": "code",
   "execution_count": 16,
   "id": "dcfe87f2-906a-46e9-89e1-a87a187724f9",
   "metadata": {},
   "outputs": [
    {
     "data": {
      "text/plain": [
       "41"
      ]
     },
     "execution_count": 16,
     "metadata": {},
     "output_type": "execute_result"
    },
    {
     "data": {
      "text/plain": [
       "[Document(page_content='questions,answers,level', metadata={'source': 'data/qna_ds.csv', 'title': 'qna_ds.csv', 'topic': 'data science', 'data_type': 'csv'}),\n",
       " Document(page_content='What is the difference between supervised and unsupervised learning?,\"Supervised learning uses', metadata={'source': 'data/qna_ds.csv', 'title': 'qna_ds.csv', 'topic': 'data science', 'data_type': 'csv'}),\n",
       " Document(page_content='uses labeled data to train models, while unsupervised learning uses unlabeled data to find patterns', metadata={'source': 'data/qna_ds.csv', 'title': 'qna_ds.csv', 'topic': 'data science', 'data_type': 'csv'}),\n",
       " Document(page_content='patterns and relationships.\",l0', metadata={'source': 'data/qna_ds.csv', 'title': 'qna_ds.csv', 'topic': 'data science', 'data_type': 'csv'})]"
      ]
     },
     "execution_count": 16,
     "metadata": {},
     "output_type": "execute_result"
    },
    {
     "data": {
      "text/plain": [
       "[Document(page_content='Can you explain the bias-variance tradeoff?,\"The bias-variance tradeoff is the balance between a', metadata={'source': 'data/qna_ds.csv', 'title': 'qna_ds.csv', 'topic': 'data science', 'data_type': 'csv'}),\n",
       " Document(page_content=\"between a model's simplicity and its ability to generalize. High bias means underfitting, while\", metadata={'source': 'data/qna_ds.csv', 'title': 'qna_ds.csv', 'topic': 'data science', 'data_type': 'csv'}),\n",
       " Document(page_content='while high variance means overfitting. The goal is to find a model with low bias and variance to', metadata={'source': 'data/qna_ds.csv', 'title': 'qna_ds.csv', 'topic': 'data science', 'data_type': 'csv'}),\n",
       " Document(page_content='to achieve good generalization.\",l1', metadata={'source': 'data/qna_ds.csv', 'title': 'qna_ds.csv', 'topic': 'data science', 'data_type': 'csv'})]"
      ]
     },
     "execution_count": 16,
     "metadata": {},
     "output_type": "execute_result"
    }
   ],
   "source": [
    "filename = 'qna_ds.csv'\n",
    "file_path = path_data + filename\n",
    "\n",
    "metadata_file = {\n",
    "    'title': filename,\n",
    "    'topic': 'data science', \n",
    "    'data_type': 'csv',\n",
    "}\n",
    "\n",
    "chunking_strategy = {\n",
    "    'key1': 'bla bla bla',\n",
    "    'chunk_size': 100,\n",
    "    'chunk_overlap': 10,\n",
    "}\n",
    "\n",
    "doc_w_md = Data2Docs.main(file_path, metadata_file, **chunking_strategy)\n",
    "len(doc_w_md)\n",
    "doc_w_md[0:4]\n",
    "doc_w_md[-4:]"
   ]
  },
  {
   "cell_type": "code",
   "execution_count": 17,
   "id": "d83e7191-0679-4ccc-8909-ec9a722d2233",
   "metadata": {},
   "outputs": [
    {
     "name": "stdout",
     "output_type": "stream",
     "text": [
      "added 41 indices to vector store\n",
      "sources available after insertion:\n",
      "{'source': {'data/qna_ds.csv', 'data/marketing.txt', 'data/personal_finance.txt'}}\n"
     ]
    }
   ],
   "source": [
    "vector_store_multi = Docs2VectorDb.add_docs_to_vector_db(vector_store_multi, doc_w_md)"
   ]
  },
  {
   "cell_type": "code",
   "execution_count": null,
   "id": "4f4383c6-6559-4980-9e44-57b62574fc53",
   "metadata": {},
   "outputs": [],
   "source": []
  },
  {
   "cell_type": "markdown",
   "id": "d15719b4-5076-4a49-8226-7b9fbf6d750f",
   "metadata": {},
   "source": [
    "### Update Doc from a Source\n",
    "- Create new docs from updated source\n",
    "- Delete all docs from the source in vector store\n",
    "- Ingest new docs to vector store"
   ]
  },
  {
   "cell_type": "code",
   "execution_count": 18,
   "id": "06723774-169f-4697-9511-e7b0afb66e14",
   "metadata": {},
   "outputs": [
    {
     "data": {
      "text/plain": [
       "{'source': {'data/marketing.txt',\n",
       "  'data/personal_finance.txt',\n",
       "  'data/qna_ds.csv'}}"
      ]
     },
     "execution_count": 18,
     "metadata": {},
     "output_type": "execute_result"
    }
   ],
   "source": [
    "sources = Docs2VectorDb.sources_from_vdb(vector_store_multi)\n",
    "sources"
   ]
  },
  {
   "cell_type": "markdown",
   "id": "80acf823-a64b-44f6-b8b1-58654b0e0bd2",
   "metadata": {},
   "source": [
    "#### Add a test file"
   ]
  },
  {
   "cell_type": "code",
   "execution_count": 19,
   "id": "e096f847-8e02-4a1a-a1bc-4f0fcf790c6a",
   "metadata": {},
   "outputs": [
    {
     "data": {
      "text/plain": [
       "25"
      ]
     },
     "execution_count": 19,
     "metadata": {},
     "output_type": "execute_result"
    },
    {
     "data": {
      "text/plain": [
       "[Document(page_content='In the quiet town of Eldoria, an old tailor named Ethan ran a small,', metadata={'source': 'data/garb_in_garb_out.pdf', 'page': 0, 'title': 'garb_in_garb_out.pdf', 'topic': 'philosophy', 'data_type': 'pdf'}),\n",
       " Document(page_content='Ethan ran a small, dimly lit shop. The sign above his door read \"Garb', metadata={'source': 'data/garb_in_garb_out.pdf', 'page': 0, 'title': 'garb_in_garb_out.pdf', 'topic': 'philosophy', 'data_type': 'pdf'}),\n",
       " Document(page_content='his door read \"Garb in, Garb out.\" For decades, townsfolk brought', metadata={'source': 'data/garb_in_garb_out.pdf', 'page': 0, 'title': 'garb_in_garb_out.pdf', 'topic': 'philosophy', 'data_type': 'pdf'}),\n",
       " Document(page_content='townsfolk brought their clothes to him, but Ethan’s work extended', metadata={'source': 'data/garb_in_garb_out.pdf', 'page': 0, 'title': 'garb_in_garb_out.pdf', 'topic': 'philosophy', 'data_type': 'pdf'})]"
      ]
     },
     "execution_count": 19,
     "metadata": {},
     "output_type": "execute_result"
    },
    {
     "data": {
      "text/plain": [
       "[Document(page_content='streets were filled with Ethan’s quiet influence. \"Garb in, Garb out\"', metadata={'source': 'data/garb_in_garb_out.pdf', 'page': 0, 'title': 'garb_in_garb_out.pdf', 'topic': 'philosophy', 'data_type': 'pdf'}),\n",
       " Document(page_content='\"Garb in, Garb out\" became a mantra for mindful living, a reminder', metadata={'source': 'data/garb_in_garb_out.pdf', 'page': 0, 'title': 'garb_in_garb_out.pdf', 'topic': 'philosophy', 'data_type': 'pdf'}),\n",
       " Document(page_content='living, a reminder that every action, like every thread, wove the', metadata={'source': 'data/garb_in_garb_out.pdf', 'page': 0, 'title': 'garb_in_garb_out.pdf', 'topic': 'philosophy', 'data_type': 'pdf'}),\n",
       " Document(page_content='thread, wove the fabric of their collective existence.', metadata={'source': 'data/garb_in_garb_out.pdf', 'page': 0, 'title': 'garb_in_garb_out.pdf', 'topic': 'philosophy', 'data_type': 'pdf'})]"
      ]
     },
     "execution_count": 19,
     "metadata": {},
     "output_type": "execute_result"
    }
   ],
   "source": [
    "filename = 'garb_in_garb_out.pdf'\n",
    "file_path = path_data + filename\n",
    "\n",
    "metadata_file = {\n",
    "    'title': filename,\n",
    "    'topic': 'philosophy', \n",
    "    'data_type': 'pdf',\n",
    "}\n",
    "\n",
    "chunking_strategy = {\n",
    "    'key1': 'bla bla bla',\n",
    "    'chunk_size': 70,\n",
    "    'chunk_overlap': 20,\n",
    "}\n",
    "\n",
    "doc_w_md = Data2Docs.main(file_path, metadata_file, **chunking_strategy)\n",
    "len(doc_w_md)\n",
    "doc_w_md[0:4]\n",
    "doc_w_md[-4:]"
   ]
  },
  {
   "cell_type": "code",
   "execution_count": 20,
   "id": "cf58ccc1-1d39-4707-8535-2857b103775a",
   "metadata": {},
   "outputs": [
    {
     "name": "stdout",
     "output_type": "stream",
     "text": [
      "added 25 indices to vector store\n",
      "sources available after insertion:\n",
      "{'source': {'data/garb_in_garb_out.pdf', 'data/qna_ds.csv', 'data/marketing.txt', 'data/personal_finance.txt'}}\n"
     ]
    }
   ],
   "source": [
    "vector_store_multi = Docs2VectorDb.add_docs_to_vector_db(vector_store_multi, doc_w_md)"
   ]
  },
  {
   "cell_type": "code",
   "execution_count": null,
   "id": "5ace9f05-ab3a-41b1-a3fb-b1ba69ee68db",
   "metadata": {},
   "outputs": [],
   "source": []
  },
  {
   "cell_type": "markdown",
   "id": "b08e3fa5-0966-48dc-988d-09266171e84f",
   "metadata": {},
   "source": [
    "#### Delete docs from existing source"
   ]
  },
  {
   "cell_type": "code",
   "execution_count": 21,
   "id": "b26c9c2e-1f47-4cf0-b163-81125112fa5b",
   "metadata": {},
   "outputs": [
    {
     "data": {
      "text/plain": [
       "26"
      ]
     },
     "execution_count": 21,
     "metadata": {},
     "output_type": "execute_result"
    },
    {
     "data": {
      "text/plain": [
       "[Document(page_content='In the quiet town of Eldoria, an old tailor named Ethan ran a small,', metadata={'source': 'data/garb_in_garb_out.txt', 'title': 'garb_in_garb_out.txt', 'topic': 'philosophy', 'data_type': 'txt'}),\n",
       " Document(page_content='Ethan ran a small, dimly lit shop. The sign above his door read \"Garb', metadata={'source': 'data/garb_in_garb_out.txt', 'title': 'garb_in_garb_out.txt', 'topic': 'philosophy', 'data_type': 'txt'}),\n",
       " Document(page_content='his door read \"Garb in, Garb out.\" For decades, townsfolk brought', metadata={'source': 'data/garb_in_garb_out.txt', 'title': 'garb_in_garb_out.txt', 'topic': 'philosophy', 'data_type': 'txt'}),\n",
       " Document(page_content='townsfolk brought their clothes to him, but Ethan’s work extended', metadata={'source': 'data/garb_in_garb_out.txt', 'title': 'garb_in_garb_out.txt', 'topic': 'philosophy', 'data_type': 'txt'})]"
      ]
     },
     "execution_count": 21,
     "metadata": {},
     "output_type": "execute_result"
    },
    {
     "data": {
      "text/plain": [
       "[Document(page_content='Eldoria’s streets were filled with Ethan’s quiet influence. \"Garb in,', metadata={'source': 'data/garb_in_garb_out.txt', 'title': 'garb_in_garb_out.txt', 'topic': 'philosophy', 'data_type': 'txt'}),\n",
       " Document(page_content='\"Garb in, Garb out\" became a mantra for mindful living, a reminder', metadata={'source': 'data/garb_in_garb_out.txt', 'title': 'garb_in_garb_out.txt', 'topic': 'philosophy', 'data_type': 'txt'}),\n",
       " Document(page_content='living, a reminder that every action, like every thread, wove the', metadata={'source': 'data/garb_in_garb_out.txt', 'title': 'garb_in_garb_out.txt', 'topic': 'philosophy', 'data_type': 'txt'}),\n",
       " Document(page_content='thread, wove the fabric of their collective existence.', metadata={'source': 'data/garb_in_garb_out.txt', 'title': 'garb_in_garb_out.txt', 'topic': 'philosophy', 'data_type': 'txt'})]"
      ]
     },
     "execution_count": 21,
     "metadata": {},
     "output_type": "execute_result"
    }
   ],
   "source": [
    "filename = 'garb_in_garb_out.txt'\n",
    "file_path = path_data + filename\n",
    "\n",
    "metadata_file = {\n",
    "    'title': filename,\n",
    "    'topic': 'philosophy', \n",
    "    'data_type': 'txt',\n",
    "}\n",
    "\n",
    "chunking_strategy = {\n",
    "    'key1': 'bla bla bla',\n",
    "    'chunk_size': 70,\n",
    "    'chunk_overlap': 20,\n",
    "}\n",
    "\n",
    "upd_doc_w_md = Data2Docs.main(file_path, metadata_file, **chunking_strategy)\n",
    "len(upd_doc_w_md)\n",
    "upd_doc_w_md[0:4]\n",
    "upd_doc_w_md[-4:]"
   ]
  },
  {
   "cell_type": "code",
   "execution_count": 22,
   "id": "e7357270-2aa4-4e7d-8a0c-57c75f94f3d1",
   "metadata": {},
   "outputs": [
    {
     "name": "stdout",
     "output_type": "stream",
     "text": [
      "deleted 25 indices from vector store\n",
      "sources available after deletion:\n",
      "{'source': {'data/qna_ds.csv', 'data/marketing.txt', 'data/personal_finance.txt'}}\n",
      "added 26 indices to vector store\n",
      "sources available after insertion:\n",
      "{'source': {'data/qna_ds.csv', 'data/garb_in_garb_out.txt', 'data/marketing.txt', 'data/personal_finance.txt'}}\n"
     ]
    }
   ],
   "source": [
    "metadata_file = {\n",
    "    'topic': 'philosophy',\n",
    "}\n",
    "\n",
    "vector_store_multi = Docs2VectorDb.update_docs_using_metadata(vector_store_multi, upd_doc_w_md, metadata_file)"
   ]
  },
  {
   "cell_type": "code",
   "execution_count": null,
   "id": "082bffe2-503c-4498-b8be-fb49ab8a0030",
   "metadata": {},
   "outputs": [],
   "source": []
  },
  {
   "cell_type": "code",
   "execution_count": null,
   "id": "f789558c-fb70-4bc7-8ece-bfa25e8474d8",
   "metadata": {},
   "outputs": [],
   "source": []
  },
  {
   "cell_type": "markdown",
   "id": "bf1555b7-5311-4f54-8513-0fb88e09fe9f",
   "metadata": {},
   "source": [
    "### What you can do with the vector store\n",
    "\n",
    "- get all documents\n",
    "- filter some documents based on a condition\n",
    "- add documents\n",
    "- delete documents\n",
    "- update documents"
   ]
  },
  {
   "cell_type": "code",
   "execution_count": null,
   "id": "5ca9ff96-1a14-445f-9acf-52a8457a02f6",
   "metadata": {},
   "outputs": [],
   "source": []
  },
  {
   "cell_type": "code",
   "execution_count": null,
   "id": "2ce3fedb-15eb-4dc1-a81b-41ed3eac052b",
   "metadata": {},
   "outputs": [],
   "source": []
  }
 ],
 "metadata": {
  "kernelspec": {
   "display_name": "Python 3 (ipykernel)",
   "language": "python",
   "name": "python3"
  },
  "language_info": {
   "codemirror_mode": {
    "name": "ipython",
    "version": 3
   },
   "file_extension": ".py",
   "mimetype": "text/x-python",
   "name": "python",
   "nbconvert_exporter": "python",
   "pygments_lexer": "ipython3",
   "version": "3.10.4"
  }
 },
 "nbformat": 4,
 "nbformat_minor": 5
}
