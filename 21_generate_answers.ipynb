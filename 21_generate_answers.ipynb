{
 "cells": [
  {
   "cell_type": "markdown",
   "id": "075c9141-ba1f-40f2-a44f-5af904c04300",
   "metadata": {},
   "source": [
    "# Load Vector Store"
   ]
  },
  {
   "cell_type": "code",
   "execution_count": 1,
   "id": "686743f8-3121-486b-a51c-89acacf5e522",
   "metadata": {},
   "outputs": [],
   "source": [
    "from codes.utils import set_ipynb_config, time_it\n",
    "set_ipynb_config()"
   ]
  },
  {
   "cell_type": "code",
   "execution_count": 2,
   "id": "33020527-2438-421a-8809-bb8d228a33ef",
   "metadata": {},
   "outputs": [
    {
     "data": {
      "text/plain": [
       "True"
      ]
     },
     "execution_count": 2,
     "metadata": {},
     "output_type": "execute_result"
    }
   ],
   "source": [
    "from dotenv import load_dotenv\n",
    "load_dotenv()"
   ]
  },
  {
   "cell_type": "code",
   "execution_count": 3,
   "id": "827b3533-2c84-4801-88bb-cbf1aea071ca",
   "metadata": {},
   "outputs": [],
   "source": [
    "import os"
   ]
  },
  {
   "cell_type": "code",
   "execution_count": 4,
   "id": "5e08af8e-3874-4771-a41b-796f59a51bde",
   "metadata": {},
   "outputs": [
    {
     "data": {
      "text/plain": [
       "'data/'"
      ]
     },
     "execution_count": 4,
     "metadata": {},
     "output_type": "execute_result"
    }
   ],
   "source": [
    "path_data = os.getenv('PATH_DATA')\n",
    "path_data"
   ]
  },
  {
   "cell_type": "code",
   "execution_count": 5,
   "id": "2532da01-72c8-4545-af5d-951c08d22c4d",
   "metadata": {},
   "outputs": [],
   "source": [
    "path_persist_db = os.getenv('PATH_PERSIST_DB')"
   ]
  },
  {
   "cell_type": "markdown",
   "id": "bd864af1-a013-4029-a261-d37d7eaf8637",
   "metadata": {},
   "source": [
    "## C. Retrieval Process\n",
    "**Expected Input:** Query from user\n",
    "\n",
    "```python\n",
    "get_query_topic(query) -> topics  \n",
    "get_filter_criterion(topics) -> filters\n",
    "retrieve_chunks(query, filters)  # based on filter criterion\n",
    "rerank_chunks(query, chunks) -> chunks\n",
    "```\n",
    "**Expected Output:** List of chunks (or docs)"
   ]
  },
  {
   "cell_type": "code",
   "execution_count": 6,
   "id": "5bd0e2c5-ebc8-44cd-b9d2-b2c0ad5182e7",
   "metadata": {},
   "outputs": [],
   "source": [
    "from codes.file_to_docs import Docs2VectorDb\n",
    "from codes.retrieve_docs import RetrieveDocs"
   ]
  },
  {
   "cell_type": "code",
   "execution_count": 7,
   "id": "98b9c04c-618c-4498-bc45-78399eb566e7",
   "metadata": {},
   "outputs": [
    {
     "name": "stderr",
     "output_type": "stream",
     "text": [
      "/Library/Frameworks/Python.framework/Versions/3.10/lib/python3.10/site-packages/huggingface_hub/file_download.py:1132: FutureWarning: `resume_download` is deprecated and will be removed in version 1.0.0. Downloads always resume when possible. If you want to force a new download, use `force_download=True`.\n",
      "  warnings.warn(\n"
     ]
    }
   ],
   "source": [
    "vector_store_multi = Docs2VectorDb.load_vector_store(path_persist_db)"
   ]
  },
  {
   "cell_type": "code",
   "execution_count": 8,
   "id": "91032951-29a7-45c9-bdd9-33d4c30f12df",
   "metadata": {},
   "outputs": [
    {
     "data": {
      "text/plain": [
       "{'source': {'data/garb_in_garb_out.txt',\n",
       "  'data/marketing.txt',\n",
       "  'data/qna_table.csv'}}"
      ]
     },
     "execution_count": 8,
     "metadata": {},
     "output_type": "execute_result"
    }
   ],
   "source": [
    "sources = Docs2VectorDb.sources_from_vdb(vector_store_multi)\n",
    "sources"
   ]
  },
  {
   "cell_type": "markdown",
   "id": "2c4ded51-e5d1-41bb-95b6-6d96fbadd6b1",
   "metadata": {},
   "source": [
    "# Generate Answers with LLM using RAG"
   ]
  },
  {
   "cell_type": "markdown",
   "id": "58a06d02-9a22-4119-bb72-8dc4297da96b",
   "metadata": {},
   "source": [
    "Approaches:\n",
    "\n",
    "1. Without using langchain:\n",
    "- Create Prompt = Context + Query\n",
    "    - Manually Retrieve Docs using metadata filter & retrieval method like 'mmr'\n",
    "    - If method is 'mmr', filter retrieved docs based on siml / relv threshold\n",
    "    - rerank if required\n",
    "- Pass prompt to LLM call\n",
    "\n",
    "2. With Langchain:\n",
    "- Create a base retrieval based on metadata filter & retrieval method like 'mmr'\n",
    "- Do reranking if rerank==True\n",
    "- invoke chain with query"
   ]
  },
  {
   "cell_type": "code",
   "execution_count": 9,
   "id": "fa1f7cc1-ddad-482d-a36e-3f5f028aec91",
   "metadata": {},
   "outputs": [],
   "source": [
    "from codes.retrieve_docs import RetrieveDocs, ReRanking\n",
    "from codes.generate_w_rag import LlmWithManualRag, LlmWithRag"
   ]
  },
  {
   "cell_type": "markdown",
   "id": "bf4e6224-c093-4f4a-b6ee-fbf8235c6990",
   "metadata": {},
   "source": [
    "## Query"
   ]
  },
  {
   "cell_type": "code",
   "execution_count": 10,
   "id": "d137cfcc-9cff-424f-b4b0-5795dade1e01",
   "metadata": {
    "scrolled": true
   },
   "outputs": [
    {
     "name": "stdout",
     "output_type": "stream",
     "text": [
      "\n",
      "\n",
      "{'title': {'qna_table.csv', 'garb_in_garb_out.txt', 'marketing.txt'}}\n",
      "\n",
      "\n",
      "{'source': {'data/garb_in_garb_out.txt', 'data/marketing.txt', 'data/qna_table.csv'}}\n",
      "\n",
      "\n",
      "{'data_type': {'txt', 'dataframe'}}\n",
      "\n",
      "\n",
      "{'topic': {'marketing, toys', 'philosophy', 'qna on topics like RB, luminate'}}\n"
     ]
    }
   ],
   "source": [
    "metadata_keys = ['title', 'source', 'data_type', 'topic']\n",
    "for key in metadata_keys: \n",
    "    metadata_key = Docs2VectorDb.sources_from_vdb(vector_store_multi, key)\n",
    "    print('\\n')\n",
    "    print(metadata_key)"
   ]
  },
  {
   "cell_type": "code",
   "execution_count": 11,
   "id": "86811122-9c23-4702-8f10-4bc454603502",
   "metadata": {},
   "outputs": [],
   "source": [
    "# query = 'How have the toy stores changed over the years?'\n",
    "query = 'What are the typical problems that writers face. Answer in bullet points?'"
   ]
  },
  {
   "cell_type": "code",
   "execution_count": null,
   "id": "e2160f16-3d30-4a93-9232-6adca1738f9f",
   "metadata": {},
   "outputs": [],
   "source": []
  },
  {
   "cell_type": "markdown",
   "id": "c5db20d2-6afc-4fbd-9192-71aec9b2f3ec",
   "metadata": {},
   "source": [
    "### Explicitly filter on metadata and generate response based on query"
   ]
  },
  {
   "cell_type": "markdown",
   "id": "ed2f377c-cf65-4101-98f7-4ca35b21a19d",
   "metadata": {},
   "source": [
    "#### Filter and retrieve documents based on query"
   ]
  },
  {
   "cell_type": "raw",
   "id": "1c747507-3117-4bf0-b781-4260fbcb190f",
   "metadata": {},
   "source": [
    "# single filter condition\n",
    "metadata_filt = {\n",
    "    'filter': {\n",
    "        'title': 'marketing.txt',\n",
    "        # 'data_type': 'txt',\n",
    "        # 'topic': 'RB, Luminate',\n",
    "    }\n",
    "}\n",
    "\n",
    "search_kwargs={\n",
    "        'k': 4,\n",
    "        'fetch_k': 20,\n",
    "}\n",
    "\n",
    "search_kwargs.update(metadata_filt)\n",
    "print(search_kwargs)"
   ]
  },
  {
   "cell_type": "code",
   "execution_count": 12,
   "id": "877bd506-1850-4229-9703-efcd79dca3c5",
   "metadata": {},
   "outputs": [
    {
     "name": "stdout",
     "output_type": "stream",
     "text": [
      "{'k': 20, 'fetch_k': 100, 'filter': {'$and': [{'title': {'$eq': 'marketing.txt'}}, {'data_type': {'$eq': 'txt'}}]}}\n"
     ]
    }
   ],
   "source": [
    "metadata_filt = {\n",
    "    'filter': {\n",
    "        '$and': [\n",
    "            {'title': {'$eq':'marketing.txt'}},\n",
    "            {'data_type': {'$eq':'txt'}},\n",
    "            # {'data_type': {'$in':['txt', 'dataframe']}},\n",
    "            # {'topic': {'$eq':'philosophy'}},\n",
    "            ]\n",
    "        }\n",
    "    }\n",
    "\n",
    "# search_kwargs={\n",
    "#         'k': 4,\n",
    "#         'fetch_k': 20,\n",
    "# }\n",
    "\n",
    "search_kwargs={\n",
    "        'k': 20,\n",
    "        'fetch_k': 100,\n",
    "}\n",
    "\n",
    "\n",
    "search_kwargs.update(metadata_filt)\n",
    "print(search_kwargs)"
   ]
  },
  {
   "cell_type": "code",
   "execution_count": null,
   "id": "feb0c8dd-8220-4e6d-95d4-c58f61da7488",
   "metadata": {},
   "outputs": [],
   "source": []
  },
  {
   "cell_type": "code",
   "execution_count": 13,
   "id": "f601ee98-a4b4-4be0-be38-a1c27df647a6",
   "metadata": {
    "scrolled": true
   },
   "outputs": [
    {
     "name": "stdout",
     "output_type": "stream",
     "text": [
      "------------------------------\n",
      "They’re perhaps just more insidious today.\n",
      "\n",
      "\n",
      "The #1 Problem All Writers Face Is They Suck at Sales and Marketing\n",
      "Which is why many of us are often broke and complain a lot\n",
      "{'data_type': 'txt', 'topic': 'marketing, toys'}\n",
      "\n",
      "\n",
      "The group of romantic writers that obsess over the writing, complain/blame a lot, and can never pay their bills.\n",
      "{'data_type': 'txt', 'topic': 'marketing, toys'}\n",
      "\n",
      "\n",
      "Transactional writers think about themselves first and do anything they can to score some sexy time with a reader. They think short term.\n",
      "{'data_type': 'txt', 'topic': 'marketing, toys'}\n",
      "\n",
      "\n",
      "These outliers are what delude most writers. They treat these rarer and rarer opportunities as a given, as long as they show up for enough years.\n",
      "{'data_type': 'txt', 'topic': 'marketing, toys'}\n",
      "\n",
      "\n",
      "When they get one hater they get all defensive and allow it to disrupt their entire writing empire. Successful writers don’t care about the 1% of haters that exist online and will find faults in\n",
      "{'data_type': 'txt', 'topic': 'marketing, toys'}\n",
      "\n",
      "\n",
      "The life of a writer often feels cursed.\n",
      "\n",
      "So many of us are starving artists. I’ve been writing online for 10 years and I have two distinct groups of writer friends:\n",
      "{'data_type': 'txt', 'topic': 'marketing, toys'}\n",
      "\n",
      "\n",
      "Writers who comfortably pay their bills embrace sales and marketing\n",
      "The traditional writers hate the word sales.\n",
      "{'data_type': 'txt', 'topic': 'marketing, toys'}\n",
      "\n",
      "\n",
      "Harsh Truth: Nobody else is going to promote your writing\n",
      "This is where the average writer goes wrong.\n",
      "{'data_type': 'txt', 'topic': 'marketing, toys'}\n",
      "\n",
      "\n",
      "Thinking that you can avoid self-promotion, sales, and marketing is forcing you to never be a successful writer. If you refuse to sell then that’s fine. But you should stop writing and use your\n",
      "{'data_type': 'txt', 'topic': 'marketing, toys'}\n",
      "\n",
      "\n",
      "In the meantime, you starve because of your refusal to promote your work, and you end up pissed off at the world that no one reads your writing.\n",
      "{'data_type': 'txt', 'topic': 'marketing, toys'}\n",
      "\n",
      "\n",
      "2. Expect readers to react in one of these predictable ways\n",
      "Every time you do sales and marketing readers will either:\n",
      "{'data_type': 'txt', 'topic': 'marketing, toys'}\n",
      "\n",
      "\n",
      "content ideas for future essays.\n",
      "{'data_type': 'txt', 'topic': 'marketing, toys'}\n",
      "\n",
      "\n",
      "Focus on your email list\n",
      "Too many writers try to sell too many things.\n",
      "{'data_type': 'txt', 'topic': 'marketing, toys'}\n",
      "\n",
      "\n",
      "Sell your online writing, not a book\n",
      "A lot of writers suck at sales and marketing because they’re selling the wrong thing. They’re stuck in pre-internet 1990s thinking.\n",
      "{'data_type': 'txt', 'topic': 'marketing, toys'}\n",
      "\n",
      "\n",
      "The middlemen of the writing world are disappearing. If you want to write in any form, you’ve got to do the promotion part yourself.\n",
      "{'data_type': 'txt', 'topic': 'marketing, toys'}\n",
      "\n",
      "\n",
      "Relational writers want to date a reader for a while and perhaps sell something later that leads to marriage. They think long term.\n",
      "{'data_type': 'txt', 'topic': 'marketing, toys'}\n",
      "\n",
      "\n",
      "In a world drowning in words, this is the least valuable way to earn a living. Because words themselves aren’t enough to attract people to your work. Successful digital writers have learned the\n",
      "{'data_type': 'txt', 'topic': 'marketing, toys'}\n",
      "\n",
      "\n",
      "Because of this limitation he had to find a different way to do sales and marketing as a writer. This is his approach:\n",
      "{'data_type': 'txt', 'topic': 'marketing, toys'}\n",
      "\n",
      "\n",
      "I have good news. There’s another way to do sales and marketing as a writer that won’t make you feel dirty and want to take a shower…\n",
      "{'data_type': 'txt', 'topic': 'marketing, toys'}\n",
      "\n",
      "\n",
      "Haters don’t pay a writer’s electricity bill. Read that again.\n",
      "{'data_type': 'txt', 'topic': 'marketing, toys'}\n",
      "\n",
      "\n"
     ]
    }
   ],
   "source": [
    "docs_retrvd_w_reranking = RetrieveDocs.main(query, \n",
    "                                            vector_store_multi, \n",
    "                                            method_search='mmr', \n",
    "                                            rerank=False,\n",
    "                                            **search_kwargs)\n",
    "RetrieveDocs.pprint_docs(docs_retrvd_w_reranking)"
   ]
  },
  {
   "cell_type": "markdown",
   "id": "5563da90-57ef-4454-89dc-f12a379a2f96",
   "metadata": {},
   "source": [
    "#### Filter retrieved docs based on relevance\n",
    "Remove docs that have similarity < threshold w.r.t query"
   ]
  },
  {
   "cell_type": "code",
   "execution_count": 14,
   "id": "57350bb0-12fa-409d-a65f-2c1ccac2cf0b",
   "metadata": {},
   "outputs": [
    {
     "name": "stdout",
     "output_type": "stream",
     "text": [
      "Starting to Embed texts ...\n"
     ]
    },
    {
     "name": "stderr",
     "output_type": "stream",
     "text": [
      "/Library/Frameworks/Python.framework/Versions/3.10/lib/python3.10/site-packages/huggingface_hub/file_download.py:1132: FutureWarning: `resume_download` is deprecated and will be removed in version 1.0.0. Downloads always resume when possible. If you want to force a new download, use `force_download=True`.\n",
      "  warnings.warn(\n"
     ]
    },
    {
     "name": "stdout",
     "output_type": "stream",
     "text": [
      "Starting to Embed texts ...\n",
      "[0.56264985 0.546083   0.5390084  0.45970762 0.4551007  0.43661135\n",
      " 0.42819524 0.42632252 0.42232603 0.41534993 0.4054547  0.3965654\n",
      " 0.39085037 0.38488102 0.3840184  0.3826279  0.37508386 0.37100586\n",
      " 0.36500105 0.351358  ]\n",
      "[ True  True  True False False False False False False False False False\n",
      " False False False False False False False False]\n"
     ]
    },
    {
     "data": {
      "text/plain": [
       "3"
      ]
     },
     "execution_count": 14,
     "metadata": {},
     "output_type": "execute_result"
    },
    {
     "name": "stdout",
     "output_type": "stream",
     "text": [
      "[Document(page_content='They’re perhaps just more insidious today.\\n\\n\\nThe #1 Problem All Writers Face Is They Suck at Sales and Marketing\\nWhich is why many of us are often broke and complain a lot', metadata={'data_type': 'txt', 'source': 'data/marketing.txt', 'title': 'marketing.txt', 'topic': 'marketing, toys'}), Document(page_content='The group of romantic writers that obsess over the writing, complain/blame a lot, and can never pay their bills.', metadata={'data_type': 'txt', 'source': 'data/marketing.txt', 'title': 'marketing.txt', 'topic': 'marketing, toys'}), Document(page_content='Transactional writers think about themselves first and do anything they can to score some sexy time with a reader. They think short term.', metadata={'data_type': 'txt', 'source': 'data/marketing.txt', 'title': 'marketing.txt', 'topic': 'marketing, toys'})]\n"
     ]
    }
   ],
   "source": [
    "docs_filtd_manual = LlmWithManualRag.filter_docs_on_siml(query, \n",
    "                                                         docs_retrvd_w_reranking, \n",
    "                                                         thresh=0.5, \n",
    "                                                         k=4)\n",
    "len(docs_filtd_manual)\n",
    "print(docs_filtd_manual)"
   ]
  },
  {
   "cell_type": "code",
   "execution_count": 15,
   "id": "4e28d4d1-e27c-4b19-ae18-eb539fef188d",
   "metadata": {},
   "outputs": [
    {
     "name": "stdout",
     "output_type": "stream",
     "text": [
      "------------------------------\n",
      "They’re perhaps just more insidious today.\n",
      "\n",
      "\n",
      "The #1 Problem All Writers Face Is They Suck at Sales and Marketing\n",
      "Which is why many of us are often broke and complain a lot\n",
      "{'data_type': 'txt', 'topic': 'marketing, toys'}\n",
      "\n",
      "\n",
      "The group of romantic writers that obsess over the writing, complain/blame a lot, and can never pay their bills.\n",
      "{'data_type': 'txt', 'topic': 'marketing, toys'}\n",
      "\n",
      "\n",
      "Transactional writers think about themselves first and do anything they can to score some sexy time with a reader. They think short term.\n",
      "{'data_type': 'txt', 'topic': 'marketing, toys'}\n",
      "\n",
      "\n"
     ]
    }
   ],
   "source": [
    "RetrieveDocs.pprint_docs(docs_filtd_manual)\n",
    "# RetrieveDocs.pprint_docs([doc[0] for doc in docs_filtd_manual])"
   ]
  },
  {
   "cell_type": "markdown",
   "id": "8191e9d6-498c-48a8-8e29-b5d09170e500",
   "metadata": {},
   "source": [
    "#### Create prompt inclusive of context"
   ]
  },
  {
   "cell_type": "code",
   "execution_count": 16,
   "id": "29480ae3-8b48-47fe-8fe6-c859ae5ea485",
   "metadata": {},
   "outputs": [
    {
     "name": "stdout",
     "output_type": "stream",
     "text": [
      "Context: They’re perhaps just more insidious today.\n",
      "\n",
      "\n",
      "The #1 Problem All Writers Face Is They Suck at Sales and Marketing\n",
      "Which is why many of us are often broke and complain a lot;The group of romantic writers that obsess over the writing, complain/blame a lot, and can never pay their bills.;Transactional writers think about themselves first and do anything they can to score some sexy time with a reader. They think short term.\n",
      "\n",
      "        Answer the question based only on the context provided. \n",
      "        If you don't know the answer, say you do not know. \n",
      "        Decide based on the question if answer can be made concise or not. \n",
      "        If so, keep answer within three sentences. Concise is better.\n",
      "        If answer needs to be elaborate, generate a very structured response.\n",
      "        Question: What are the typical problems that writers face. Answer in bullet points?\n",
      "        \n"
     ]
    },
    {
     "name": "stderr",
     "output_type": "stream",
     "text": [
      "/Library/Frameworks/Python.framework/Versions/3.10/lib/python3.10/site-packages/langchain_core/_api/deprecation.py:119: LangChainDeprecationWarning: The class `ChatOpenAI` was deprecated in LangChain 0.0.10 and will be removed in 0.3.0. An updated version of the class exists in the langchain-openai package and should be used instead. To use it run `pip install -U langchain-openai` and import as `from langchain_openai import ChatOpenAI`.\n",
      "  warn_deprecated(\n"
     ]
    }
   ],
   "source": [
    "prompt_upd_wo_rr = LlmWithManualRag.add_context_to_prompt(query, \n",
    "                                                    docs_filtd_manual, \n",
    "                                                    rerank=False)\n",
    "\n",
    "print(prompt_upd_wo_rr)"
   ]
  },
  {
   "cell_type": "code",
   "execution_count": 17,
   "id": "92a34a7e-cc55-4a5f-8cd2-dfd175462564",
   "metadata": {},
   "outputs": [
    {
     "name": "stdout",
     "output_type": "stream",
     "text": [
      "Context: They’re perhaps just more insidious today.\n",
      "\n",
      "\n",
      "The #1 Problem All Writers Face Is They Suck at Sales and Marketing\n",
      "Which is why many of us are often broke and complain a lot;Transactional writers think about themselves first and do anything they can to score some sexy time with a reader. They think short term.;The group of romantic writers that obsess over the writing, complain/blame a lot, and can never pay their bills.\n",
      "\n",
      "        Answer the question based only on the context provided. \n",
      "        If you don't know the answer, say you do not know. \n",
      "        Decide based on the question if answer can be made concise or not. \n",
      "        If so, keep answer within three sentences. Concise is better.\n",
      "        If answer needs to be elaborate, generate a very structured response.\n",
      "        Question: What are the typical problems that writers face. Answer in bullet points?\n",
      "        \n"
     ]
    }
   ],
   "source": [
    "prompt_upd_w_rr = LlmWithManualRag.add_context_to_prompt(query, \n",
    "                                                         docs_filtd_manual, \n",
    "                                                         rerank=True, \n",
    "                                                         rerank_method='simple')\n",
    "\n",
    "print(prompt_upd_w_rr)"
   ]
  },
  {
   "cell_type": "code",
   "execution_count": null,
   "id": "f9c8c542-5978-4a15-8287-a4d6b24d778f",
   "metadata": {},
   "outputs": [],
   "source": []
  },
  {
   "cell_type": "markdown",
   "id": "2da35c0b-f298-484d-973a-f2c0f7289474",
   "metadata": {},
   "source": [
    "### Use Langchain Retriever to filter on metadata and generate response "
   ]
  },
  {
   "cell_type": "code",
   "execution_count": 18,
   "id": "a28ba7f9-7752-48c1-bbdc-70cdff1f6c5a",
   "metadata": {},
   "outputs": [
    {
     "data": {
      "text/plain": [
       "{'k': 20,\n",
       " 'fetch_k': 100,\n",
       " 'filter': {'$and': [{'title': {'$eq': 'marketing.txt'}},\n",
       "   {'data_type': {'$eq': 'txt'}}]}}"
      ]
     },
     "execution_count": 18,
     "metadata": {},
     "output_type": "execute_result"
    }
   ],
   "source": [
    "search_kwargs"
   ]
  },
  {
   "cell_type": "code",
   "execution_count": 19,
   "id": "a6740598-2d86-4950-a8e2-ab30e13eab4e",
   "metadata": {},
   "outputs": [],
   "source": [
    "retriever_base = vector_store_multi.as_retriever(\n",
    "    \n",
    "    search_type='mmr', # \"similarity\" (default), \"mmr\", or \"similarity_score_threshold\"\n",
    "    search_kwargs=search_kwargs,\n",
    ")"
   ]
  },
  {
   "cell_type": "code",
   "execution_count": 20,
   "id": "8bfe5e44-b0f6-4519-8e4e-8201a6a64d7e",
   "metadata": {
    "scrolled": true
   },
   "outputs": [
    {
     "name": "stdout",
     "output_type": "stream",
     "text": [
      "What are the typical problems that writers face. Answer in bullet points?\n",
      "------------------------------\n",
      "They’re perhaps just more insidious today.\n",
      "\n",
      "\n",
      "The #1 Problem All Writers Face Is They Suck at Sales and Marketing\n",
      "Which is why many of us are often broke and complain a lot\n",
      "{'data_type': 'txt', 'topic': 'marketing, toys'}\n",
      "\n",
      "\n",
      "The group of romantic writers that obsess over the writing, complain/blame a lot, and can never pay their bills.\n",
      "{'data_type': 'txt', 'topic': 'marketing, toys'}\n",
      "\n",
      "\n",
      "Transactional writers think about themselves first and do anything they can to score some sexy time with a reader. They think short term.\n",
      "{'data_type': 'txt', 'topic': 'marketing, toys'}\n",
      "\n",
      "\n",
      "The life of a writer often feels cursed.\n",
      "\n",
      "So many of us are starving artists. I’ve been writing online for 10 years and I have two distinct groups of writer friends:\n",
      "{'data_type': 'txt', 'topic': 'marketing, toys'}\n",
      "\n",
      "\n",
      "Harsh Truth: Nobody else is going to promote your writing\n",
      "This is where the average writer goes wrong.\n",
      "{'data_type': 'txt', 'topic': 'marketing, toys'}\n",
      "\n",
      "\n",
      "In the meantime, you starve because of your refusal to promote your work, and you end up pissed off at the world that no one reads your writing.\n",
      "{'data_type': 'txt', 'topic': 'marketing, toys'}\n",
      "\n",
      "\n",
      "2. Expect readers to react in one of these predictable ways\n",
      "Every time you do sales and marketing readers will either:\n",
      "{'data_type': 'txt', 'topic': 'marketing, toys'}\n",
      "\n",
      "\n",
      "content ideas for future essays.\n",
      "{'data_type': 'txt', 'topic': 'marketing, toys'}\n",
      "\n",
      "\n",
      "Focus on your email list\n",
      "Too many writers try to sell too many things.\n",
      "{'data_type': 'txt', 'topic': 'marketing, toys'}\n",
      "\n",
      "\n",
      "Because of this limitation he had to find a different way to do sales and marketing as a writer. This is his approach:\n",
      "{'data_type': 'txt', 'topic': 'marketing, toys'}\n",
      "\n",
      "\n",
      "Haters don’t pay a writer’s electricity bill. Read that again.\n",
      "{'data_type': 'txt', 'topic': 'marketing, toys'}\n",
      "\n",
      "\n",
      "When you expect haters to read your writing and leave a stupid comment, it becomes an opportunity. They help you see where you may lack self-awareness. They also give you great content ideas for\n",
      "{'data_type': 'txt', 'topic': 'marketing, toys'}\n",
      "\n",
      "\n",
      "of their parents, older siblings and teachers and interactions with peers. And once these observations about gender start to solidify, their brains will skip any information that doesn’t match those\n",
      "{'data_type': 'txt', 'topic': 'marketing, toys'}\n",
      "\n",
      "\n",
      "The better approach is to email out quality pieces of writing and then place a gentle one-sentence “P.S.” at the end that says something like:\n",
      "{'data_type': 'txt', 'topic': 'marketing, toys'}\n",
      "\n",
      "\n",
      "The Justin Welsh formula that’s great for non-salesy writers\n",
      "Justin Welsh is a 7-figure writer.\n",
      "{'data_type': 'txt', 'topic': 'marketing, toys'}\n",
      "\n",
      "\n",
      "Writing platforms (features, columns, staff picks)\n",
      "Lottery-like social media algorithms\n",
      "Traditional book publishers that occasionally dish out advances\n",
      "{'data_type': 'txt', 'topic': 'marketing, toys'}\n",
      "\n",
      "\n",
      "will find faults in everything they do.\n",
      "{'data_type': 'txt', 'topic': 'marketing, toys'}\n",
      "\n",
      "\n",
      "even have long-term consequences on their lives — from defining what careers to pursue to whose job it is to shoulder most of the domestic and care duties.\n",
      "{'data_type': 'txt', 'topic': 'marketing, toys'}\n",
      "\n",
      "\n",
      "This is a fair question.\n",
      "{'data_type': 'txt', 'topic': 'marketing, toys'}\n",
      "\n",
      "\n",
      "the worst strategy in history.\n",
      "{'data_type': 'txt', 'topic': 'marketing, toys'}\n",
      "\n",
      "\n"
     ]
    }
   ],
   "source": [
    "# only for checking\n",
    "print(query)\n",
    "docs_filtd = retriever_base.invoke(query)\n",
    "RetrieveDocs.pprint_docs(docs_filtd)"
   ]
  },
  {
   "cell_type": "markdown",
   "id": "5b5ab404-3a33-4a33-b5be-a6aa24833fd5",
   "metadata": {},
   "source": [
    "#### Without Reranking"
   ]
  },
  {
   "cell_type": "code",
   "execution_count": 21,
   "id": "ccdb20fe-8b39-45f8-b9f5-581a30da6404",
   "metadata": {},
   "outputs": [],
   "source": [
    "chain_multi_docs_wo_rr = LlmWithRag.create_chain(retriever_base, \n",
    "                                                 rerank=False)"
   ]
  },
  {
   "cell_type": "code",
   "execution_count": null,
   "id": "7e1244a2-4049-4eb5-bc52-20d9ab3e6341",
   "metadata": {},
   "outputs": [],
   "source": []
  },
  {
   "cell_type": "markdown",
   "id": "0958bd95-cd53-436d-87cc-5b7b3c6be93c",
   "metadata": {},
   "source": [
    "#### With reranking"
   ]
  },
  {
   "cell_type": "code",
   "execution_count": 22,
   "id": "c4aecc9e-4c04-48ce-a691-a2afa08ef6b2",
   "metadata": {},
   "outputs": [
    {
     "name": "stderr",
     "output_type": "stream",
     "text": [
      "/Library/Frameworks/Python.framework/Versions/3.10/lib/python3.10/site-packages/huggingface_hub/file_download.py:1132: FutureWarning: `resume_download` is deprecated and will be removed in version 1.0.0. Downloads always resume when possible. If you want to force a new download, use `force_download=True`.\n",
      "  warnings.warn(\n"
     ]
    }
   ],
   "source": [
    "chain_multi_docs_w_rr = LlmWithRag.create_chain(retriever_base, \n",
    "                                                rerank=True, \n",
    "                                                rerank_method='hf_crossencoder')"
   ]
  },
  {
   "cell_type": "code",
   "execution_count": null,
   "id": "881e3ae1-7528-4ac4-ba96-f51e6f6660bd",
   "metadata": {},
   "outputs": [],
   "source": []
  },
  {
   "cell_type": "markdown",
   "id": "420b5ecd-bb51-4dac-9af7-59734110c832",
   "metadata": {},
   "source": [
    "# Generate Answers with LLMs\n",
    "> Switch on the VPN before running the below cells"
   ]
  },
  {
   "cell_type": "code",
   "execution_count": 23,
   "id": "2039889a-6d1e-4967-92c9-1c9d014eb4b3",
   "metadata": {},
   "outputs": [],
   "source": [
    "answers = []"
   ]
  },
  {
   "cell_type": "markdown",
   "id": "80bb366d-55f3-4ffc-ab1f-a7e5b49045cd",
   "metadata": {},
   "source": [
    "## Without Langchain"
   ]
  },
  {
   "cell_type": "markdown",
   "id": "ddca235b-ad52-4aee-9164-299fff69a073",
   "metadata": {},
   "source": [
    "### Without Reranking"
   ]
  },
  {
   "cell_type": "code",
   "execution_count": 24,
   "id": "b1763529-be26-41b3-ba85-5f5a34e532f0",
   "metadata": {},
   "outputs": [
    {
     "name": "stderr",
     "output_type": "stream",
     "text": [
      "huggingface/tokenizers: The current process just got forked, after parallelism has already been used. Disabling parallelism to avoid deadlocks...\n",
      "To disable this warning, you can either:\n",
      "\t- Avoid using `tokenizers` before the fork if possible\n",
      "\t- Explicitly set the environment variable TOKENIZERS_PARALLELISM=(true | false)\n"
     ]
    }
   ],
   "source": [
    "response_wo_lc = LlmWithManualRag.invoke_chain(prompt_upd_wo_rr)"
   ]
  },
  {
   "cell_type": "code",
   "execution_count": 25,
   "id": "dad6378c-21fe-440e-85ee-c9662450c3f9",
   "metadata": {},
   "outputs": [
    {
     "name": "stdout",
     "output_type": "stream",
     "text": [
      "- They struggle with sales and marketing of their work.\n",
      "- They often face financial difficulties.\n",
      "- They tend to complain and blame a lot.\n",
      "- They may prioritize their own needs and short-term gains over long-term success.\n"
     ]
    }
   ],
   "source": [
    "answer = response_wo_lc.content\n",
    "print(answer)\n",
    "answers.append(answer)"
   ]
  },
  {
   "cell_type": "markdown",
   "id": "fb618882-b0a8-4b3f-8263-148f5f890238",
   "metadata": {},
   "source": [
    "### With Reranking"
   ]
  },
  {
   "cell_type": "code",
   "execution_count": 26,
   "id": "0966b610-0f96-4970-af00-84b3c0d9970a",
   "metadata": {},
   "outputs": [],
   "source": [
    "response_wo_lc_pl_rr = LlmWithManualRag.invoke_chain(prompt_upd_wo_rr)"
   ]
  },
  {
   "cell_type": "code",
   "execution_count": 27,
   "id": "69ec5afe-1e89-4b2c-96cb-a344efedb064",
   "metadata": {},
   "outputs": [
    {
     "name": "stdout",
     "output_type": "stream",
     "text": [
      "- They struggle with sales and marketing of their work.\n",
      "- Many writers are often broke due to lack of income.\n",
      "- They tend to complain and blame a lot.\n",
      "- Some writers obsess over the writing process and struggle to pay their bills.\n",
      "- Transactional writers often think about themselves first and focus on short-term gains.\n"
     ]
    }
   ],
   "source": [
    "answer = response_wo_lc_pl_rr.content\n",
    "print(answer)\n",
    "answers.append(answer)"
   ]
  },
  {
   "cell_type": "markdown",
   "id": "2a6fbe8c-2428-455a-b513-32400ddbc73a",
   "metadata": {},
   "source": [
    "## With Langchain"
   ]
  },
  {
   "cell_type": "markdown",
   "id": "fe8a7b46-d118-4b75-8588-06c2632b4675",
   "metadata": {},
   "source": [
    "### Without Ranking"
   ]
  },
  {
   "cell_type": "code",
   "execution_count": 28,
   "id": "8c6202be-52b5-499d-8ce6-68426eeb57d4",
   "metadata": {},
   "outputs": [],
   "source": [
    "response_w_lc = chain_multi_docs_wo_rr.invoke({'input':query})"
   ]
  },
  {
   "cell_type": "code",
   "execution_count": 29,
   "id": "9e5f939a-665d-456f-ad5c-549a6cbf0fb2",
   "metadata": {},
   "outputs": [
    {
     "name": "stdout",
     "output_type": "stream",
     "text": [
      "- They struggle with sales and marketing of their work.\n",
      "- Many writers are often financially unstable.\n",
      "- They face the challenge of self-promotion.\n",
      "- They have to deal with negative feedback or 'haters'.\n",
      "- They often try to sell too many things at once.\n",
      "- They struggle with finding a balance between writing quality pieces and promoting their work.\n",
      "- They face the unpredictability of writing platforms and social media algorithms.\n",
      "- They have to deal with traditional book publishers that occasionally give out advances.\n"
     ]
    }
   ],
   "source": [
    "answer = response_w_lc['answer']\n",
    "print(answer)\n",
    "answers.append(answer)"
   ]
  },
  {
   "cell_type": "code",
   "execution_count": null,
   "id": "cba9c024-8171-49ba-920d-0ee50ca58d48",
   "metadata": {},
   "outputs": [],
   "source": []
  },
  {
   "cell_type": "markdown",
   "id": "70c4eda2-ce83-42c2-9943-c4a17d1b50d7",
   "metadata": {},
   "source": [
    "### With Reranking"
   ]
  },
  {
   "cell_type": "code",
   "execution_count": 30,
   "id": "f55fbf6f-c4ba-47a6-9008-18315ea24722",
   "metadata": {},
   "outputs": [],
   "source": [
    "response_w_lc_pl_rr = chain_multi_docs_w_rr.invoke({'input':query})"
   ]
  },
  {
   "cell_type": "code",
   "execution_count": 31,
   "id": "2d1fa388-add4-4d3e-a30f-9b70f7c88e55",
   "metadata": {},
   "outputs": [
    {
     "name": "stdout",
     "output_type": "stream",
     "text": [
      "- They struggle with sales and marketing of their work.\n",
      "- Many writers often face financial difficulties.\n",
      "- They often feel frustrated and complain a lot.\n",
      "- They may refuse to promote their work, leading to less readership.\n",
      "- They may feel upset with the world when their writing is not read by many.\n"
     ]
    }
   ],
   "source": [
    "answer = response_w_lc_pl_rr['answer']\n",
    "print(answer)\n",
    "answers.append(answer)"
   ]
  },
  {
   "cell_type": "code",
   "execution_count": null,
   "id": "f79a88c3-7941-4bd1-a688-f1302ac425d1",
   "metadata": {},
   "outputs": [],
   "source": []
  },
  {
   "cell_type": "code",
   "execution_count": null,
   "id": "17b95c58-d775-4d15-8ed4-80fbfc55c2c7",
   "metadata": {},
   "outputs": [],
   "source": []
  },
  {
   "cell_type": "markdown",
   "id": "c579d141-a995-4ab6-9296-e05c939a0300",
   "metadata": {},
   "source": [
    "## All Answers Analysis"
   ]
  },
  {
   "cell_type": "code",
   "execution_count": 32,
   "id": "b9b9760f-ae05-4d3e-a216-399224bdd9a2",
   "metadata": {},
   "outputs": [
    {
     "data": {
      "text/plain": [
       "['wo_lc', 'wo_lc_pl_rr', 'w_lc', 'w_lc_pl_rr']"
      ]
     },
     "execution_count": 32,
     "metadata": {},
     "output_type": "execute_result"
    }
   ],
   "source": [
    "methods = ['wo_lc', 'wo_lc_pl_rr', 'w_lc', 'w_lc_pl_rr']\n",
    "methods"
   ]
  },
  {
   "cell_type": "code",
   "execution_count": 33,
   "id": "0860b345-7a69-41b3-b44a-19f6ff598eef",
   "metadata": {},
   "outputs": [
    {
     "name": "stdout",
     "output_type": "stream",
     "text": [
      "wo_lc:\n",
      "- They struggle with sales and marketing of their work.\n",
      "- They often face financial difficulties.\n",
      "- They tend to complain and blame a lot.\n",
      "- They may prioritize their own needs and short-term gains over long-term success. \n",
      "\n",
      "wo_lc_pl_rr:\n",
      "- They struggle with sales and marketing of their work.\n",
      "- Many writers are often broke due to lack of income.\n",
      "- They tend to complain and blame a lot.\n",
      "- Some writers obsess over the writing process and struggle to pay their bills.\n",
      "- Transactional writers often think about themselves first and focus on short-term gains. \n",
      "\n",
      "w_lc:\n",
      "- They struggle with sales and marketing of their work.\n",
      "- Many writers are often financially unstable.\n",
      "- They face the challenge of self-promotion.\n",
      "- They have to deal with negative feedback or 'haters'.\n",
      "- They often try to sell too many things at once.\n",
      "- They struggle with finding a balance between writing quality pieces and promoting their work.\n",
      "- They face the unpredictability of writing platforms and social media algorithms.\n",
      "- They have to deal with traditional book publishers that occasionally give out advances. \n",
      "\n",
      "w_lc_pl_rr:\n",
      "- They struggle with sales and marketing of their work.\n",
      "- Many writers often face financial difficulties.\n",
      "- They often feel frustrated and complain a lot.\n",
      "- They may refuse to promote their work, leading to less readership.\n",
      "- They may feel upset with the world when their writing is not read by many. \n",
      "\n"
     ]
    }
   ],
   "source": [
    "for method, answer in zip(methods, answers[-6:]):\n",
    "    print(f\"{method}:\")\n",
    "    print(answer, '\\n')"
   ]
  },
  {
   "cell_type": "code",
   "execution_count": null,
   "id": "7082dcd1-38cf-47c7-9518-456f584ecbef",
   "metadata": {},
   "outputs": [],
   "source": []
  },
  {
   "cell_type": "code",
   "execution_count": null,
   "id": "1445e2ab-f9d1-40a3-a314-f6ad4516b955",
   "metadata": {},
   "outputs": [],
   "source": []
  },
  {
   "cell_type": "code",
   "execution_count": null,
   "id": "316b3323-ffce-485a-a9fa-70e4592c6453",
   "metadata": {},
   "outputs": [],
   "source": []
  }
 ],
 "metadata": {
  "kernelspec": {
   "display_name": "Python 3 (ipykernel)",
   "language": "python",
   "name": "python3"
  },
  "language_info": {
   "codemirror_mode": {
    "name": "ipython",
    "version": 3
   },
   "file_extension": ".py",
   "mimetype": "text/x-python",
   "name": "python",
   "nbconvert_exporter": "python",
   "pygments_lexer": "ipython3",
   "version": "3.10.4"
  }
 },
 "nbformat": 4,
 "nbformat_minor": 5
}
