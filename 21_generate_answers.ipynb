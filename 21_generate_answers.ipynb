{
 "cells": [
  {
   "cell_type": "markdown",
   "id": "2c4ded51-e5d1-41bb-95b6-6d96fbadd6b1",
   "metadata": {},
   "source": [
    "# Generate Answers with LLM using RAG"
   ]
  },
  {
   "cell_type": "markdown",
   "id": "58a06d02-9a22-4119-bb72-8dc4297da96b",
   "metadata": {},
   "source": [
    "Approaches:\n",
    "\n",
    "1. Without using langchain:\n",
    "- Create Prompt = Context + Query\n",
    "    - Manually Retrieve Docs using metadata filter & retrieval method like 'mmr'\n",
    "    - If method is 'mmr', filter retrieved docs based on siml / relv threshold\n",
    "    - rerank if required\n",
    "- Pass prompt to LLM call\n",
    "\n",
    "2. With Langchain:\n",
    "- Create a base retrieval based on metadata filter & retrieval method like 'mmr'\n",
    "- Do reranking if rerank==True\n",
    "- invoke chain with query"
   ]
  },
  {
   "cell_type": "code",
   "execution_count": 12,
   "id": "fa1f7cc1-ddad-482d-a36e-3f5f028aec91",
   "metadata": {},
   "outputs": [],
   "source": [
    "from codes.retrieve_docs import RetrieveDocs, ReRanking\n",
    "from codes.generate_w_rag import LlmWithManualRag, LlmWithRag"
   ]
  },
  {
   "cell_type": "code",
   "execution_count": null,
   "id": "89cd03c2-c2f6-4497-9653-f369d29487e4",
   "metadata": {},
   "outputs": [],
   "source": []
  },
  {
   "cell_type": "markdown",
   "id": "bf4e6224-c093-4f4a-b6ee-fbf8235c6990",
   "metadata": {},
   "source": [
    "## Query"
   ]
  },
  {
   "cell_type": "code",
   "execution_count": 13,
   "id": "d137cfcc-9cff-424f-b4b0-5795dade1e01",
   "metadata": {
    "scrolled": true
   },
   "outputs": [
    {
     "name": "stdout",
     "output_type": "stream",
     "text": [
      "\n",
      "\n",
      "{'title': {'marketing.txt', 'qna_table.csv', 'Luminate Report Builder.pdf', 'Luminate Report Builder.docx'}}\n",
      "\n",
      "\n",
      "{'source': {'data/multi_docs/Luminate Report Builder.docx', 'data/multi_docs/qna_table.csv', 'data/multi_docs/marketing.txt', 'data/multi_docs/Luminate Report Builder.pdf'}}\n",
      "\n",
      "\n",
      "{'data_type': {'dataframe', 'word document', 'pdf', 'txt'}}\n",
      "\n",
      "\n",
      "{'topic': {'marketing, toys', 'RB, Luminate', 'qna on topics like RB, luminate'}}\n"
     ]
    }
   ],
   "source": [
    "metadata_keys = ['title', 'source', 'data_type', 'topic']\n",
    "for key in metadata_keys: \n",
    "    metadata_key = Docs2VectorDb.sources_from_vdb(vector_store_multi, key)\n",
    "    print('\\n')\n",
    "    print(metadata_key)"
   ]
  },
  {
   "cell_type": "code",
   "execution_count": 14,
   "id": "86811122-9c23-4702-8f10-4bc454603502",
   "metadata": {},
   "outputs": [],
   "source": [
    "query = 'How have the toy stores changed over the years?'"
   ]
  },
  {
   "cell_type": "code",
   "execution_count": null,
   "id": "e2160f16-3d30-4a93-9232-6adca1738f9f",
   "metadata": {},
   "outputs": [],
   "source": []
  },
  {
   "cell_type": "markdown",
   "id": "c5db20d2-6afc-4fbd-9192-71aec9b2f3ec",
   "metadata": {},
   "source": [
    "### Explicitly filter on metadata and generate response based on query"
   ]
  },
  {
   "cell_type": "markdown",
   "id": "ed2f377c-cf65-4101-98f7-4ca35b21a19d",
   "metadata": {},
   "source": [
    "#### Filter and retrieve documents based on query"
   ]
  },
  {
   "cell_type": "raw",
   "id": "1c747507-3117-4bf0-b781-4260fbcb190f",
   "metadata": {},
   "source": [
    "# single filter condition\n",
    "metadata_filt = {\n",
    "    'filter': {\n",
    "        'title': 'marketing.txt',\n",
    "        # 'data_type': 'txt',\n",
    "        # 'topic': 'RB, Luminate',\n",
    "    }\n",
    "}\n",
    "\n",
    "search_kwargs={\n",
    "        'k': 4,\n",
    "        'fetch_k': 20,\n",
    "}\n",
    "\n",
    "search_kwargs.update(metadata_filt)\n",
    "print(search_kwargs)"
   ]
  },
  {
   "cell_type": "code",
   "execution_count": 15,
   "id": "877bd506-1850-4229-9703-efcd79dca3c5",
   "metadata": {},
   "outputs": [
    {
     "name": "stdout",
     "output_type": "stream",
     "text": [
      "{'k': 20, 'fetch_k': 100, 'filter': {'$and': [{'title': {'$eq': 'marketing.txt'}}, {'data_type': {'$eq': 'txt'}}]}}\n"
     ]
    }
   ],
   "source": [
    "metadata_filt = {\n",
    "    'filter': {\n",
    "        '$and': [\n",
    "            {'title': {'$eq':'marketing.txt'}},\n",
    "            {'data_type': {'$eq':'txt'}},\n",
    "            # {'data_type': {'$in':['txt', 'dataframe']}},\n",
    "            # {'topic': {'$eq':'RB, Luminate'}},\n",
    "            ]\n",
    "        }\n",
    "    }\n",
    "\n",
    "# search_kwargs={\n",
    "#         'k': 4,\n",
    "#         'fetch_k': 20,\n",
    "# }\n",
    "\n",
    "search_kwargs={\n",
    "        'k': 20,\n",
    "        'fetch_k': 100,\n",
    "}\n",
    "\n",
    "\n",
    "search_kwargs.update(metadata_filt)\n",
    "print(search_kwargs)"
   ]
  },
  {
   "cell_type": "code",
   "execution_count": null,
   "id": "feb0c8dd-8220-4e6d-95d4-c58f61da7488",
   "metadata": {},
   "outputs": [],
   "source": []
  },
  {
   "cell_type": "code",
   "execution_count": 16,
   "id": "f601ee98-a4b4-4be0-be38-a1c27df647a6",
   "metadata": {
    "scrolled": true
   },
   "outputs": [
    {
     "name": "stdout",
     "output_type": "stream",
     "text": [
      "------------------------------\n",
      "Still, a visit to a toy store or the toys section of a grocery store in most places will make you feel that not much has changed in the past few decades.\n",
      "{'data_type': 'txt', 'topic': 'marketing, toys'}\n",
      "\n",
      "\n",
      "All in all, toy ads haven’t really evolved much over time in terms of the social messages they convey about gender. Most toys still have clearly gendered associations, with dolls being targeted\n",
      "{'data_type': 'txt', 'topic': 'marketing, toys'}\n",
      "\n",
      "\n",
      "To this end, Norgaard and Wider analysed 175 television commercials for toys listed as ‘best selling’ for children ages five through eleven years old by the top three toy retailers — Target, Walmart,\n",
      "{'data_type': 'txt', 'topic': 'marketing, toys'}\n",
      "\n",
      "\n",
      "What’s more, the study also found that the toy industry’s marketing techniques continue to forge gendered associations in more subtle ways, such as through the use of colour — pink for girls, blue\n",
      "{'data_type': 'txt', 'topic': 'marketing, toys'}\n",
      "\n",
      "\n",
      "Here’s the thing, though. Overall, progress in dismantling gender stereotypes has been painfully slow. And while children today might have more freedom to choose their toys, that doesn’t mean the toy\n",
      "{'data_type': 'txt', 'topic': 'marketing, toys'}\n",
      "\n",
      "\n",
      "Toys are simply learning tools that communicate to children how they should move through the world and the kinds of things they might be interested in and aspire to.\n",
      "{'data_type': 'txt', 'topic': 'marketing, toys'}\n",
      "\n",
      "\n",
      "mean the toy industry — especially its marketing departments — has completely abandoned heavily gendered products and advertising strategies.\n",
      "{'data_type': 'txt', 'topic': 'marketing, toys'}\n",
      "\n",
      "\n",
      "Today, there are at least some toy companies that have decided to move beyond the gender binary and that market their toys as suitable for any gender, like the Danish construction toy brand Lego.\n",
      "{'data_type': 'txt', 'topic': 'marketing, toys'}\n",
      "\n",
      "\n",
      "figures, and sports equipment. Meanwhile, girls got dolls, dollhouses, beauty sets and… toy kitchen appliances.\n",
      "{'data_type': 'txt', 'topic': 'marketing, toys'}\n",
      "\n",
      "\n",
      "freedom to choose their toys?\n",
      "{'data_type': 'txt', 'topic': 'marketing, toys'}\n",
      "\n",
      "\n",
      "The good news is that contemporary toy advertisements show both girls and boys playing with a variety of toys, as opposed to strictly with typically ‘girl’ or ‘boy’ toys. Also, all children are shown\n",
      "{'data_type': 'txt', 'topic': 'marketing, toys'}\n",
      "\n",
      "\n",
      "toy brand Lego. Some places, like California, have also introduced laws requiring larger retailers to feature designated sections for gender-neutral toys.\n",
      "{'data_type': 'txt', 'topic': 'marketing, toys'}\n",
      "\n",
      "\n",
      "Previous research has also shown that toys were heavily gendered through the use of colour — pink for girls, blue for boys — and that typical boys’ toys encouraged more fantasy play, largely removed\n",
      "{'data_type': 'txt', 'topic': 'marketing, toys'}\n",
      "\n",
      "\n",
      "In line with previous research, toys marketed to girls were also a whopping 18 times more likely to be shown demonstrating nurturing or domestic skills than toys marketed to boys, whereas the latter\n",
      "{'data_type': 'txt', 'topic': 'marketing, toys'}\n",
      "\n",
      "\n",
      "Association DEI, Jodi Bondi Norgaard and Laurel Wider, that set out to examine the prevalence of gendered norms and other stereotypes in the toy industry.\n",
      "{'data_type': 'txt', 'topic': 'marketing, toys'}\n",
      "\n",
      "\n",
      "In the not-so-distant past, toys were marketed to either boys or girls, but rarely both. Boys got traditionally ‘masculine’ toys like miniature cars, weapons, toolboxes, action figures, and sports\n",
      "{'data_type': 'txt', 'topic': 'marketing, toys'}\n",
      "\n",
      "\n",
      "whereas the latter were twice as likely to show them in imaginative settings of play and significantly more likely to convey themes of violence and aggression. Overall, 75% of toys that were shown\n",
      "{'data_type': 'txt', 'topic': 'marketing, toys'}\n",
      "\n",
      "\n",
      "But the reality is, gender-inclusive products and marketing strategies for toys still tend to be the exception rather than the rule.\n",
      "{'data_type': 'txt', 'topic': 'marketing, toys'}\n",
      "\n",
      "\n",
      "The recent Geena Davis Institute report found something similar regarding colour. While both girls and boys in toy ads were more frequently shown playing with pink and blue toys, respectively, girls\n",
      "{'data_type': 'txt', 'topic': 'marketing, toys'}\n",
      "\n",
      "\n",
      "Girls Are Caring, Boys Are Violent: How Toys’ Marketing Reinforces Gender Norms\n",
      "And why its impact on children’s development shouldn’t be dismissed\n",
      "{'data_type': 'txt', 'topic': 'marketing, toys'}\n",
      "\n",
      "\n"
     ]
    }
   ],
   "source": [
    "docs_retrvd_w_reranking = RetrieveDocs.main(query, \n",
    "                                            vector_store_multi, \n",
    "                                            method_search='mmr', \n",
    "                                            rerank=False,\n",
    "                                            **search_kwargs)\n",
    "RetrieveDocs.pprint_docs(docs_retrvd_w_reranking)"
   ]
  },
  {
   "cell_type": "markdown",
   "id": "5563da90-57ef-4454-89dc-f12a379a2f96",
   "metadata": {},
   "source": [
    "#### Filter retrieved docs based on relevance\n",
    "Remove docs that have similarity < threshold w.r.t query"
   ]
  },
  {
   "cell_type": "code",
   "execution_count": 17,
   "id": "57350bb0-12fa-409d-a65f-2c1ccac2cf0b",
   "metadata": {},
   "outputs": [
    {
     "name": "stdout",
     "output_type": "stream",
     "text": [
      "Starting to Embed texts ...\n"
     ]
    },
    {
     "name": "stderr",
     "output_type": "stream",
     "text": [
      "/opt/miniconda3/envs/suppbot-langchain/lib/python3.12/site-packages/huggingface_hub/file_download.py:1132: FutureWarning: `resume_download` is deprecated and will be removed in version 1.0.0. Downloads always resume when possible. If you want to force a new download, use `force_download=True`.\n",
      "  warnings.warn(\n"
     ]
    },
    {
     "name": "stdout",
     "output_type": "stream",
     "text": [
      "Starting to Embed texts ...\n",
      "[0.758124   0.52594703 0.51659364 0.5138917  0.5136213  0.512375\n",
      " 0.5077028  0.49675336 0.49260297 0.4850593  0.48138386 0.4783549\n",
      " 0.46552876 0.46435118 0.46306083 0.46000752 0.4561665  0.4402113\n",
      " 0.42687887 0.4218801 ]\n",
      "[ True  True  True  True  True  True  True False False False False False\n",
      " False False False False False False False False]\n"
     ]
    },
    {
     "data": {
      "text/plain": [
       "4"
      ]
     },
     "execution_count": 17,
     "metadata": {},
     "output_type": "execute_result"
    },
    {
     "name": "stdout",
     "output_type": "stream",
     "text": [
      "[Document(page_content='Still, a visit to a toy store or the toys section of a grocery store in most places will make you feel that not much has changed in the past few decades.', metadata={'data_type': 'txt', 'source': 'data/multi_docs/marketing.txt', 'title': 'marketing.txt', 'topic': 'marketing, toys'}), Document(page_content='All in all, toy ads haven’t really evolved much over time in terms of the social messages they convey about gender. Most toys still have clearly gendered associations, with dolls being targeted', metadata={'data_type': 'txt', 'source': 'data/multi_docs/marketing.txt', 'title': 'marketing.txt', 'topic': 'marketing, toys'}), Document(page_content='To this end, Norgaard and Wider analysed 175 television commercials for toys listed as ‘best selling’ for children ages five through eleven years old by the top three toy retailers — Target, Walmart,', metadata={'data_type': 'txt', 'source': 'data/multi_docs/marketing.txt', 'title': 'marketing.txt', 'topic': 'marketing, toys'}), Document(page_content='What’s more, the study also found that the toy industry’s marketing techniques continue to forge gendered associations in more subtle ways, such as through the use of colour — pink for girls, blue', metadata={'data_type': 'txt', 'source': 'data/multi_docs/marketing.txt', 'title': 'marketing.txt', 'topic': 'marketing, toys'})]\n"
     ]
    }
   ],
   "source": [
    "docs_filtd_manual = LlmWithManualRag.filter_docs_on_siml(query, \n",
    "                                                         docs_retrvd_w_reranking, \n",
    "                                                         thresh=0.5, \n",
    "                                                         k=4)\n",
    "len(docs_filtd_manual)\n",
    "print(docs_filtd_manual)"
   ]
  },
  {
   "cell_type": "code",
   "execution_count": 18,
   "id": "4e28d4d1-e27c-4b19-ae18-eb539fef188d",
   "metadata": {},
   "outputs": [
    {
     "name": "stdout",
     "output_type": "stream",
     "text": [
      "------------------------------\n",
      "Still, a visit to a toy store or the toys section of a grocery store in most places will make you feel that not much has changed in the past few decades.\n",
      "{'data_type': 'txt', 'topic': 'marketing, toys'}\n",
      "\n",
      "\n",
      "All in all, toy ads haven’t really evolved much over time in terms of the social messages they convey about gender. Most toys still have clearly gendered associations, with dolls being targeted\n",
      "{'data_type': 'txt', 'topic': 'marketing, toys'}\n",
      "\n",
      "\n",
      "To this end, Norgaard and Wider analysed 175 television commercials for toys listed as ‘best selling’ for children ages five through eleven years old by the top three toy retailers — Target, Walmart,\n",
      "{'data_type': 'txt', 'topic': 'marketing, toys'}\n",
      "\n",
      "\n",
      "What’s more, the study also found that the toy industry’s marketing techniques continue to forge gendered associations in more subtle ways, such as through the use of colour — pink for girls, blue\n",
      "{'data_type': 'txt', 'topic': 'marketing, toys'}\n",
      "\n",
      "\n"
     ]
    }
   ],
   "source": [
    "RetrieveDocs.pprint_docs(docs_filtd_manual)\n",
    "# RetrieveDocs.pprint_docs([doc[0] for doc in docs_filtd_manual])"
   ]
  },
  {
   "cell_type": "markdown",
   "id": "8191e9d6-498c-48a8-8e29-b5d09170e500",
   "metadata": {},
   "source": [
    "#### Create prompt inclusive of context"
   ]
  },
  {
   "cell_type": "code",
   "execution_count": 19,
   "id": "29480ae3-8b48-47fe-8fe6-c859ae5ea485",
   "metadata": {},
   "outputs": [
    {
     "name": "stdout",
     "output_type": "stream",
     "text": [
      "Context: Still, a visit to a toy store or the toys section of a grocery store in most places will make you feel that not much has changed in the past few decades.;All in all, toy ads haven’t really evolved much over time in terms of the social messages they convey about gender. Most toys still have clearly gendered associations, with dolls being targeted;To this end, Norgaard and Wider analysed 175 television commercials for toys listed as ‘best selling’ for children ages five through eleven years old by the top three toy retailers — Target, Walmart,;What’s more, the study also found that the toy industry’s marketing techniques continue to forge gendered associations in more subtle ways, such as through the use of colour — pink for girls, blue\n",
      "\n",
      "        Answer the question based only on the context provided. \n",
      "        If you don't know the answer, say you do not know. \n",
      "        Decide based on the question if answer can be made concise or not. \n",
      "        If so, keep answer within three sentences. Concise is better.\n",
      "        If answer needs to be elaborate, generate a very structured response.\n",
      "        Question: How have the toy stores changed over the years?\n",
      "        \n"
     ]
    },
    {
     "name": "stderr",
     "output_type": "stream",
     "text": [
      "/opt/miniconda3/envs/suppbot-langchain/lib/python3.12/site-packages/langchain_core/_api/deprecation.py:119: LangChainDeprecationWarning: The class `AzureChatOpenAI` was deprecated in LangChain 0.0.10 and will be removed in 0.3.0. An updated version of the class exists in the langchain-openai package and should be used instead. To use it run `pip install -U langchain-openai` and import as `from langchain_openai import AzureChatOpenAI`.\n",
      "  warn_deprecated(\n"
     ]
    }
   ],
   "source": [
    "prompt_upd_wo_rr = LlmWithManualRag.add_context_to_prompt(query, \n",
    "                                                    docs_filtd_manual, \n",
    "                                                    rerank=False)\n",
    "\n",
    "print(prompt_upd_wo_rr)"
   ]
  },
  {
   "cell_type": "code",
   "execution_count": 20,
   "id": "92a34a7e-cc55-4a5f-8cd2-dfd175462564",
   "metadata": {},
   "outputs": [
    {
     "name": "stdout",
     "output_type": "stream",
     "text": [
      "Context: Still, a visit to a toy store or the toys section of a grocery store in most places will make you feel that not much has changed in the past few decades.;To this end, Norgaard and Wider analysed 175 television commercials for toys listed as ‘best selling’ for children ages five through eleven years old by the top three toy retailers — Target, Walmart,;What’s more, the study also found that the toy industry’s marketing techniques continue to forge gendered associations in more subtle ways, such as through the use of colour — pink for girls, blue;All in all, toy ads haven’t really evolved much over time in terms of the social messages they convey about gender. Most toys still have clearly gendered associations, with dolls being targeted\n",
      "\n",
      "        Answer the question based only on the context provided. \n",
      "        If you don't know the answer, say you do not know. \n",
      "        Decide based on the question if answer can be made concise or not. \n",
      "        If so, keep answer within three sentences. Concise is better.\n",
      "        If answer needs to be elaborate, generate a very structured response.\n",
      "        Question: How have the toy stores changed over the years?\n",
      "        \n"
     ]
    }
   ],
   "source": [
    "prompt_upd_w_rr = LlmWithManualRag.add_context_to_prompt(query, \n",
    "                                                         docs_filtd_manual, \n",
    "                                                         rerank=True, \n",
    "                                                         rerank_method='simple')\n",
    "\n",
    "print(prompt_upd_w_rr)"
   ]
  },
  {
   "cell_type": "code",
   "execution_count": null,
   "id": "f9c8c542-5978-4a15-8287-a4d6b24d778f",
   "metadata": {},
   "outputs": [],
   "source": []
  },
  {
   "cell_type": "markdown",
   "id": "2da35c0b-f298-484d-973a-f2c0f7289474",
   "metadata": {},
   "source": [
    "### Use Langchain Retriever to filter on metadata and generate response "
   ]
  },
  {
   "cell_type": "code",
   "execution_count": 21,
   "id": "a28ba7f9-7752-48c1-bbdc-70cdff1f6c5a",
   "metadata": {},
   "outputs": [
    {
     "data": {
      "text/plain": [
       "{'k': 20,\n",
       " 'fetch_k': 100,\n",
       " 'filter': {'$and': [{'title': {'$eq': 'marketing.txt'}},\n",
       "   {'data_type': {'$eq': 'txt'}}]}}"
      ]
     },
     "execution_count": 21,
     "metadata": {},
     "output_type": "execute_result"
    }
   ],
   "source": [
    "search_kwargs"
   ]
  },
  {
   "cell_type": "code",
   "execution_count": 22,
   "id": "a6740598-2d86-4950-a8e2-ab30e13eab4e",
   "metadata": {},
   "outputs": [],
   "source": [
    "retriever_base = vector_store_multi.as_retriever(\n",
    "    \n",
    "    search_type='mmr', # \"similarity\" (default), \"mmr\", or \"similarity_score_threshold\"\n",
    "    search_kwargs=search_kwargs,\n",
    ")"
   ]
  },
  {
   "cell_type": "code",
   "execution_count": 23,
   "id": "8bfe5e44-b0f6-4519-8e4e-8201a6a64d7e",
   "metadata": {
    "scrolled": true
   },
   "outputs": [
    {
     "name": "stdout",
     "output_type": "stream",
     "text": [
      "How have the toy stores changed over the years?\n",
      "------------------------------\n",
      "Still, a visit to a toy store or the toys section of a grocery store in most places will make you feel that not much has changed in the past few decades.\n",
      "{'data_type': 'txt', 'topic': 'marketing, toys'}\n",
      "\n",
      "\n",
      "To this end, Norgaard and Wider analysed 175 television commercials for toys listed as ‘best selling’ for children ages five through eleven years old by the top three toy retailers — Target, Walmart,\n",
      "{'data_type': 'txt', 'topic': 'marketing, toys'}\n",
      "\n",
      "\n",
      "What’s more, the study also found that the toy industry’s marketing techniques continue to forge gendered associations in more subtle ways, such as through the use of colour — pink for girls, blue\n",
      "{'data_type': 'txt', 'topic': 'marketing, toys'}\n",
      "\n",
      "\n",
      "Toys are simply learning tools that communicate to children how they should move through the world and the kinds of things they might be interested in and aspire to.\n",
      "{'data_type': 'txt', 'topic': 'marketing, toys'}\n",
      "\n",
      "\n",
      "figures, and sports equipment. Meanwhile, girls got dolls, dollhouses, beauty sets and… toy kitchen appliances.\n",
      "{'data_type': 'txt', 'topic': 'marketing, toys'}\n",
      "\n",
      "\n",
      "freedom to choose their toys?\n",
      "{'data_type': 'txt', 'topic': 'marketing, toys'}\n",
      "\n",
      "\n",
      "toy brand Lego. Some places, like California, have also introduced laws requiring larger retailers to feature designated sections for gender-neutral toys.\n",
      "{'data_type': 'txt', 'topic': 'marketing, toys'}\n",
      "\n",
      "\n",
      "whereas the latter were twice as likely to show them in imaginative settings of play and significantly more likely to convey themes of violence and aggression. Overall, 75% of toys that were shown\n",
      "{'data_type': 'txt', 'topic': 'marketing, toys'}\n",
      "\n",
      "\n",
      "— Target, Walmart, and Amazon. Across these advertisements, they collected data on 544 actors — 406 children ages infant through seventeen and 138 adults — and 528 toys, 351 of which child actors\n",
      "{'data_type': 'txt', 'topic': 'marketing, toys'}\n",
      "\n",
      "\n",
      "prevalent in recent years.\n",
      "{'data_type': 'txt', 'topic': 'marketing, toys'}\n",
      "\n",
      "\n",
      "have learned the basics of sales and marketing.\n",
      "{'data_type': 'txt', 'topic': 'marketing, toys'}\n",
      "\n",
      "\n",
      "encourage them to ‘stay home.’ Meanwhile, t-shirts for boys feature slogans like ‘explore the world,’ ‘stay wild’ and ‘be unstoppable.’\n",
      "{'data_type': 'txt', 'topic': 'marketing, toys'}\n",
      "\n",
      "\n",
      "The media children consume is another prominent example. One recent study used a machine learning method to analyse over 240 popular contemporary books for children ages five and above and found that\n",
      "{'data_type': 'txt', 'topic': 'marketing, toys'}\n",
      "\n",
      "\n",
      "Unsuccessful writers suck at sales because they want everyone to like them. They’re secretly people pleasers.\n",
      "{'data_type': 'txt', 'topic': 'marketing, toys'}\n",
      "\n",
      "\n",
      "parenting approaches.\n",
      "{'data_type': 'txt', 'topic': 'marketing, toys'}\n",
      "\n",
      "\n",
      "of a way to make money.\n",
      "{'data_type': 'txt', 'topic': 'marketing, toys'}\n",
      "\n",
      "\n",
      "This is a fair question.\n",
      "{'data_type': 'txt', 'topic': 'marketing, toys'}\n",
      "\n",
      "\n",
      "will find faults in everything they do.\n",
      "{'data_type': 'txt', 'topic': 'marketing, toys'}\n",
      "\n",
      "\n",
      "And that’s hardly the only area where this is the case.\n",
      "{'data_type': 'txt', 'topic': 'marketing, toys'}\n",
      "\n",
      "\n",
      "the worst strategy in history.\n",
      "{'data_type': 'txt', 'topic': 'marketing, toys'}\n",
      "\n",
      "\n"
     ]
    }
   ],
   "source": [
    "# only for checking\n",
    "print(query)\n",
    "docs_filtd = retriever_base.invoke(query)\n",
    "RetrieveDocs.pprint_docs(docs_filtd)"
   ]
  },
  {
   "cell_type": "markdown",
   "id": "5b5ab404-3a33-4a33-b5be-a6aa24833fd5",
   "metadata": {},
   "source": [
    "#### Without Reranking"
   ]
  },
  {
   "cell_type": "code",
   "execution_count": 24,
   "id": "ccdb20fe-8b39-45f8-b9f5-581a30da6404",
   "metadata": {},
   "outputs": [],
   "source": [
    "chain_multi_docs_wo_rr = LlmWithRag.create_chain(retriever_base, \n",
    "                                                 rerank=False)"
   ]
  },
  {
   "cell_type": "code",
   "execution_count": null,
   "id": "7e1244a2-4049-4eb5-bc52-20d9ab3e6341",
   "metadata": {},
   "outputs": [],
   "source": []
  },
  {
   "cell_type": "markdown",
   "id": "0958bd95-cd53-436d-87cc-5b7b3c6be93c",
   "metadata": {},
   "source": [
    "#### With reranking"
   ]
  },
  {
   "cell_type": "code",
   "execution_count": 25,
   "id": "c4aecc9e-4c04-48ce-a691-a2afa08ef6b2",
   "metadata": {},
   "outputs": [
    {
     "name": "stderr",
     "output_type": "stream",
     "text": [
      "/opt/miniconda3/envs/suppbot-langchain/lib/python3.12/site-packages/huggingface_hub/file_download.py:1132: FutureWarning: `resume_download` is deprecated and will be removed in version 1.0.0. Downloads always resume when possible. If you want to force a new download, use `force_download=True`.\n",
      "  warnings.warn(\n"
     ]
    }
   ],
   "source": [
    "chain_multi_docs_w_rr = LlmWithRag.create_chain(retriever_base, \n",
    "                                                rerank=True, \n",
    "                                                rerank_method='hf_crossencoder')"
   ]
  },
  {
   "cell_type": "code",
   "execution_count": null,
   "id": "881e3ae1-7528-4ac4-ba96-f51e6f6660bd",
   "metadata": {},
   "outputs": [],
   "source": []
  },
  {
   "cell_type": "markdown",
   "id": "420b5ecd-bb51-4dac-9af7-59734110c832",
   "metadata": {},
   "source": [
    "# Generate Answers with LLMs\n",
    "> Switch on the VPN before running the below cells"
   ]
  },
  {
   "cell_type": "code",
   "execution_count": 26,
   "id": "2039889a-6d1e-4967-92c9-1c9d014eb4b3",
   "metadata": {},
   "outputs": [],
   "source": [
    "answers = []"
   ]
  },
  {
   "cell_type": "markdown",
   "id": "80bb366d-55f3-4ffc-ab1f-a7e5b49045cd",
   "metadata": {},
   "source": [
    "## Without Langchain"
   ]
  },
  {
   "cell_type": "markdown",
   "id": "ddca235b-ad52-4aee-9164-299fff69a073",
   "metadata": {},
   "source": [
    "### Without Reranking"
   ]
  },
  {
   "cell_type": "code",
   "execution_count": 27,
   "id": "b1763529-be26-41b3-ba85-5f5a34e532f0",
   "metadata": {},
   "outputs": [
    {
     "name": "stderr",
     "output_type": "stream",
     "text": [
      "huggingface/tokenizers: The current process just got forked, after parallelism has already been used. Disabling parallelism to avoid deadlocks...\n",
      "To disable this warning, you can either:\n",
      "\t- Avoid using `tokenizers` before the fork if possible\n",
      "\t- Explicitly set the environment variable TOKENIZERS_PARALLELISM=(true | false)\n"
     ]
    }
   ],
   "source": [
    "response_wo_lc = LlmWithManualRag.invoke_chain(prompt_upd_wo_rr)"
   ]
  },
  {
   "cell_type": "code",
   "execution_count": 28,
   "id": "dad6378c-21fe-440e-85ee-c9662450c3f9",
   "metadata": {},
   "outputs": [
    {
     "name": "stdout",
     "output_type": "stream",
     "text": [
      "Based on the context provided, toy stores have not significantly changed over the years in terms of the social messages they convey about gender. Toys still have clearly gendered associations, and marketing techniques continue to use strategies like color-coding to reinforce these associations.\n"
     ]
    }
   ],
   "source": [
    "answer = response_wo_lc.content\n",
    "print(answer)\n",
    "answers.append(answer)"
   ]
  },
  {
   "cell_type": "markdown",
   "id": "fb618882-b0a8-4b3f-8263-148f5f890238",
   "metadata": {},
   "source": [
    "### With Reranking"
   ]
  },
  {
   "cell_type": "code",
   "execution_count": 29,
   "id": "0966b610-0f96-4970-af00-84b3c0d9970a",
   "metadata": {},
   "outputs": [],
   "source": [
    "response_wo_lc_pl_rr = LlmWithManualRag.invoke_chain(prompt_upd_wo_rr)"
   ]
  },
  {
   "cell_type": "code",
   "execution_count": 30,
   "id": "69ec5afe-1e89-4b2c-96cb-a344efedb064",
   "metadata": {},
   "outputs": [
    {
     "name": "stdout",
     "output_type": "stream",
     "text": [
      "Based on the context provided, toy stores have not significantly changed over the years in terms of gendered marketing. Toys still have clearly gendered associations, such as dolls for girls and different colors like pink for girls and blue for boys being used to target children. The social messages about gender in toy advertising also remain relatively unchanged.\n"
     ]
    }
   ],
   "source": [
    "answer = response_wo_lc_pl_rr.content\n",
    "print(answer)\n",
    "answers.append(answer)"
   ]
  },
  {
   "cell_type": "markdown",
   "id": "2a6fbe8c-2428-455a-b513-32400ddbc73a",
   "metadata": {},
   "source": [
    "## With Langchain"
   ]
  },
  {
   "cell_type": "markdown",
   "id": "fe8a7b46-d118-4b75-8588-06c2632b4675",
   "metadata": {},
   "source": [
    "### Without Ranking"
   ]
  },
  {
   "cell_type": "code",
   "execution_count": 31,
   "id": "8c6202be-52b5-499d-8ce6-68426eeb57d4",
   "metadata": {},
   "outputs": [],
   "source": [
    "response_w_lc = chain_multi_docs_wo_rr.invoke({'input':query})"
   ]
  },
  {
   "cell_type": "code",
   "execution_count": 32,
   "id": "9e5f939a-665d-456f-ad5c-549a6cbf0fb2",
   "metadata": {},
   "outputs": [
    {
     "name": "stdout",
     "output_type": "stream",
     "text": [
      "The provided context does not contain specific information about the changes in toy stores over the years. It mentions that a visit to a toy store may give the impression that not much has changed, and it discusses the persistence of gendered marketing in the toy industry, as well as some recent shifts towards gender-neutral toys in certain places. However, detailed changes in toy stores are not described in the given text.\n"
     ]
    }
   ],
   "source": [
    "answer = response_w_lc['answer']\n",
    "print(answer)\n",
    "answers.append(answer)"
   ]
  },
  {
   "cell_type": "code",
   "execution_count": null,
   "id": "cba9c024-8171-49ba-920d-0ee50ca58d48",
   "metadata": {},
   "outputs": [],
   "source": []
  },
  {
   "cell_type": "markdown",
   "id": "70c4eda2-ce83-42c2-9943-c4a17d1b50d7",
   "metadata": {},
   "source": [
    "### With Reranking"
   ]
  },
  {
   "cell_type": "code",
   "execution_count": 33,
   "id": "f55fbf6f-c4ba-47a6-9008-18315ea24722",
   "metadata": {},
   "outputs": [],
   "source": [
    "response_w_lc_pl_rr = chain_multi_docs_w_rr.invoke({'input':query})"
   ]
  },
  {
   "cell_type": "code",
   "execution_count": 34,
   "id": "2d1fa388-add4-4d3e-a30f-9b70f7c88e55",
   "metadata": {},
   "outputs": [
    {
     "name": "stdout",
     "output_type": "stream",
     "text": [
      "Based on the context provided, it appears that toy stores have not significantly changed their marketing techniques over the years, as they continue to promote gendered associations with toys, particularly through the use of color coding (pink for girls, blue for boys). Despite the study's findings on subtle changes in marketing, the general observation suggests that the toy industry's approach remains much the same as it has been in past decades.\n"
     ]
    }
   ],
   "source": [
    "answer = response_w_lc_pl_rr['answer']\n",
    "print(answer)\n",
    "answers.append(answer)"
   ]
  },
  {
   "cell_type": "code",
   "execution_count": null,
   "id": "f79a88c3-7941-4bd1-a688-f1302ac425d1",
   "metadata": {},
   "outputs": [],
   "source": []
  },
  {
   "cell_type": "code",
   "execution_count": null,
   "id": "17b95c58-d775-4d15-8ed4-80fbfc55c2c7",
   "metadata": {},
   "outputs": [],
   "source": []
  },
  {
   "cell_type": "markdown",
   "id": "c579d141-a995-4ab6-9296-e05c939a0300",
   "metadata": {},
   "source": [
    "## All Answers Analysis"
   ]
  },
  {
   "cell_type": "code",
   "execution_count": 35,
   "id": "b9b9760f-ae05-4d3e-a216-399224bdd9a2",
   "metadata": {},
   "outputs": [
    {
     "data": {
      "text/plain": [
       "['wo_lc', 'wo_lc_pl_rr', 'w_lc', 'w_lc_pl_rr']"
      ]
     },
     "execution_count": 35,
     "metadata": {},
     "output_type": "execute_result"
    }
   ],
   "source": [
    "methods = ['wo_lc', 'wo_lc_pl_rr', 'w_lc', 'w_lc_pl_rr']\n",
    "methods"
   ]
  },
  {
   "cell_type": "code",
   "execution_count": 36,
   "id": "0860b345-7a69-41b3-b44a-19f6ff598eef",
   "metadata": {},
   "outputs": [
    {
     "name": "stdout",
     "output_type": "stream",
     "text": [
      "wo_lc:\n",
      "Based on the context provided, toy stores have not significantly changed over the years in terms of the social messages they convey about gender. Toys still have clearly gendered associations, and marketing techniques continue to use strategies like color-coding to reinforce these associations. \n",
      "\n",
      "wo_lc_pl_rr:\n",
      "Based on the context provided, toy stores have not significantly changed over the years in terms of gendered marketing. Toys still have clearly gendered associations, such as dolls for girls and different colors like pink for girls and blue for boys being used to target children. The social messages about gender in toy advertising also remain relatively unchanged. \n",
      "\n",
      "w_lc:\n",
      "The provided context does not contain specific information about the changes in toy stores over the years. It mentions that a visit to a toy store may give the impression that not much has changed, and it discusses the persistence of gendered marketing in the toy industry, as well as some recent shifts towards gender-neutral toys in certain places. However, detailed changes in toy stores are not described in the given text. \n",
      "\n",
      "w_lc_pl_rr:\n",
      "Based on the context provided, it appears that toy stores have not significantly changed their marketing techniques over the years, as they continue to promote gendered associations with toys, particularly through the use of color coding (pink for girls, blue for boys). Despite the study's findings on subtle changes in marketing, the general observation suggests that the toy industry's approach remains much the same as it has been in past decades. \n",
      "\n"
     ]
    }
   ],
   "source": [
    "for method, answer in zip(methods, answers[-6:]):\n",
    "    print(f\"{method}:\")\n",
    "    print(answer, '\\n')"
   ]
  },
  {
   "cell_type": "code",
   "execution_count": null,
   "id": "7082dcd1-38cf-47c7-9518-456f584ecbef",
   "metadata": {},
   "outputs": [],
   "source": []
  },
  {
   "cell_type": "code",
   "execution_count": null,
   "id": "1445e2ab-f9d1-40a3-a314-f6ad4516b955",
   "metadata": {},
   "outputs": [],
   "source": []
  },
  {
   "cell_type": "code",
   "execution_count": null,
   "id": "316b3323-ffce-485a-a9fa-70e4592c6453",
   "metadata": {},
   "outputs": [],
   "source": []
  }
 ],
 "metadata": {
  "kernelspec": {
   "display_name": "Python 3 (ipykernel)",
   "language": "python",
   "name": "python3"
  },
  "language_info": {
   "codemirror_mode": {
    "name": "ipython",
    "version": 3
   },
   "file_extension": ".py",
   "mimetype": "text/x-python",
   "name": "python",
   "nbconvert_exporter": "python",
   "pygments_lexer": "ipython3",
   "version": "3.12.3"
  }
 },
 "nbformat": 4,
 "nbformat_minor": 5
}
