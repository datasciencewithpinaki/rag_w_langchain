{
 "cells": [
  {
   "cell_type": "code",
   "execution_count": 1,
   "id": "bdb89753-999f-4aeb-b87d-cfe4fc7eb314",
   "metadata": {},
   "outputs": [],
   "source": [
    "from codes.utils import set_ipynb_config, time_it\n",
    "set_ipynb_config()"
   ]
  },
  {
   "cell_type": "code",
   "execution_count": 2,
   "id": "328e7038-a6c6-46f3-a77b-a84ba60d7820",
   "metadata": {},
   "outputs": [
    {
     "data": {
      "text/plain": [
       "True"
      ]
     },
     "execution_count": 2,
     "metadata": {},
     "output_type": "execute_result"
    }
   ],
   "source": [
    "from dotenv import load_dotenv\n",
    "load_dotenv()"
   ]
  },
  {
   "cell_type": "code",
   "execution_count": 3,
   "id": "21e87755-447d-4b4e-862a-97219d0f9994",
   "metadata": {},
   "outputs": [],
   "source": [
    "import os"
   ]
  },
  {
   "cell_type": "code",
   "execution_count": 4,
   "id": "527f5a8b-5a3b-4899-83fd-3282ec73193c",
   "metadata": {},
   "outputs": [
    {
     "data": {
      "text/plain": [
       "'data/multi_docs/'"
      ]
     },
     "execution_count": 4,
     "metadata": {},
     "output_type": "execute_result"
    }
   ],
   "source": [
    "path_data = os.getenv('PATH_DATA')\n",
    "path_data"
   ]
  },
  {
   "cell_type": "code",
   "execution_count": 5,
   "id": "0241782e-7357-4f3c-93d3-c2becad6a927",
   "metadata": {},
   "outputs": [],
   "source": [
    "path_persist_db = os.getenv('PATH_PERSIST_DB')"
   ]
  },
  {
   "cell_type": "markdown",
   "id": "e961101e-c802-416b-847f-eaf5ebb97bd9",
   "metadata": {},
   "source": [
    "## C. Retrieval Process\n",
    "**Expected Input:** Query from user\n",
    "\n",
    "```python\n",
    "get_query_topic(query) -> topics  \n",
    "get_filter_criterion(topics) -> filters\n",
    "retrieve_chunks(query, filters)  # based on filter criterion\n",
    "rerank_chunks(query, chunks) -> chunks\n",
    "```\n",
    "**Expected Output:** List of chunks (or docs)"
   ]
  },
  {
   "cell_type": "code",
   "execution_count": 6,
   "id": "baa17b86-6a66-4702-b063-9a98cfae2fa7",
   "metadata": {},
   "outputs": [
    {
     "name": "stderr",
     "output_type": "stream",
     "text": [
      "/opt/miniconda3/envs/suppbot-langchain/lib/python3.12/site-packages/tqdm/auto.py:21: TqdmWarning: IProgress not found. Please update jupyter and ipywidgets. See https://ipywidgets.readthedocs.io/en/stable/user_install.html\n",
      "  from .autonotebook import tqdm as notebook_tqdm\n"
     ]
    }
   ],
   "source": [
    "from codes.file_to_docs import Docs2VectorDb\n",
    "from codes.retrieve_docs import RetrieveDocs"
   ]
  },
  {
   "cell_type": "code",
   "execution_count": 7,
   "id": "51324c7d-5be6-4ad7-8d04-4be43b1292f3",
   "metadata": {},
   "outputs": [
    {
     "name": "stderr",
     "output_type": "stream",
     "text": [
      "/opt/miniconda3/envs/suppbot-langchain/lib/python3.12/site-packages/huggingface_hub/file_download.py:1132: FutureWarning: `resume_download` is deprecated and will be removed in version 1.0.0. Downloads always resume when possible. If you want to force a new download, use `force_download=True`.\n",
      "  warnings.warn(\n"
     ]
    }
   ],
   "source": [
    "vector_store_multi = Docs2VectorDb.load_vector_store(path_persist_db)"
   ]
  },
  {
   "cell_type": "code",
   "execution_count": 8,
   "id": "48797ec8-e783-4726-9e62-f014c1cf9082",
   "metadata": {},
   "outputs": [
    {
     "data": {
      "text/plain": [
       "{'source': {'data/multi_docs/Luminate Report Builder.docx',\n",
       "  'data/multi_docs/Luminate Report Builder.pdf',\n",
       "  'data/multi_docs/marketing.txt',\n",
       "  'data/multi_docs/qna_table.csv'}}"
      ]
     },
     "execution_count": 8,
     "metadata": {},
     "output_type": "execute_result"
    }
   ],
   "source": [
    "sources = Docs2VectorDb.sources_from_vdb(vector_store_multi)\n",
    "sources"
   ]
  },
  {
   "cell_type": "code",
   "execution_count": null,
   "id": "de19a57d-bbb3-4128-91a0-d50f92db54fd",
   "metadata": {},
   "outputs": [],
   "source": []
  },
  {
   "cell_type": "code",
   "execution_count": 9,
   "id": "e805f038-a6d3-4d9a-88b7-b25d3bc2c423",
   "metadata": {},
   "outputs": [],
   "source": [
    "query = 'How have the toy stores changed over the years?'"
   ]
  },
  {
   "cell_type": "raw",
   "id": "b635b805-a617-4bc9-a334-6555814d00a6",
   "metadata": {},
   "source": [
    "# single filter condition\n",
    "metadata_filt = {\n",
    "    'filter': {\n",
    "        'title': 'marketing.txt',\n",
    "        # 'data_type': 'txt',\n",
    "        # 'topic': 'RB, Luminate',\n",
    "    }\n",
    "}\n",
    "\n",
    "search_kwargs={\n",
    "        'k': 4,\n",
    "        'fetch_k': 20,\n",
    "}\n",
    "\n",
    "search_kwargs.update(metadata_filt)\n",
    "print(search_kwargs)"
   ]
  },
  {
   "cell_type": "code",
   "execution_count": 10,
   "id": "9d562d19-98ab-4140-a611-5249a5636778",
   "metadata": {},
   "outputs": [
    {
     "name": "stdout",
     "output_type": "stream",
     "text": [
      "{'k': 4, 'fetch_k': 20, 'filter': {'$and': [{'title': {'$eq': 'marketing.txt'}}, {'data_type': {'$eq': 'txt'}}]}}\n"
     ]
    }
   ],
   "source": [
    "metadata_filt = {\n",
    "    'filter': {\n",
    "        '$and': [\n",
    "            {'title': {'$eq':'marketing.txt'}},\n",
    "            {'data_type': {'$eq':'txt'}},\n",
    "            # {'data_type': {'$in':['txt', 'dataframe']}},\n",
    "            # {'topic': {'$eq':'RB, Luminate'}},\n",
    "            ]\n",
    "        }\n",
    "    }\n",
    "\n",
    "search_kwargs={\n",
    "        'k': 4,\n",
    "        'fetch_k': 20,\n",
    "}\n",
    "\n",
    "\n",
    "search_kwargs.update(metadata_filt)\n",
    "print(search_kwargs)"
   ]
  },
  {
   "cell_type": "code",
   "execution_count": 11,
   "id": "5b981523-376a-4cfd-b8c3-21e7df4509b6",
   "metadata": {},
   "outputs": [
    {
     "name": "stdout",
     "output_type": "stream",
     "text": [
      "------------------------------\n",
      "Still, a visit to a toy store or the toys section of a grocery store in most places will make you feel that not much has changed in the past few decades.\n",
      "{'data_type': 'txt', 'topic': 'marketing, toys'}\n",
      "\n",
      "\n",
      "To this end, Norgaard and Wider analysed 175 television commercials for toys listed as ‘best selling’ for children ages five through eleven years old by the top three toy retailers — Target, Walmart,\n",
      "{'data_type': 'txt', 'topic': 'marketing, toys'}\n",
      "\n",
      "\n",
      "figures, and sports equipment. Meanwhile, girls got dolls, dollhouses, beauty sets and… toy kitchen appliances.\n",
      "{'data_type': 'txt', 'topic': 'marketing, toys'}\n",
      "\n",
      "\n",
      "freedom to choose their toys?\n",
      "{'data_type': 'txt', 'topic': 'marketing, toys'}\n",
      "\n",
      "\n"
     ]
    }
   ],
   "source": [
    "docs_retrvd_w_reranking = RetrieveDocs.main(query, vector_store_multi, **search_kwargs)\n",
    "RetrieveDocs.pprint_docs(docs_retrvd_w_reranking)"
   ]
  },
  {
   "cell_type": "code",
   "execution_count": null,
   "id": "0b7f3dde-6c3e-4bf0-8c98-96ec70614ced",
   "metadata": {},
   "outputs": [],
   "source": []
  },
  {
   "cell_type": "code",
   "execution_count": null,
   "id": "3cdf1a32-1551-4977-a1a4-c1c24e046326",
   "metadata": {},
   "outputs": [],
   "source": []
  },
  {
   "cell_type": "code",
   "execution_count": null,
   "id": "fe81a399-6da0-46a1-8b3b-408c8a4ac6f7",
   "metadata": {},
   "outputs": [],
   "source": []
  },
  {
   "cell_type": "markdown",
   "id": "73ca2c36-18c5-4142-be4d-878ba80c2493",
   "metadata": {},
   "source": [
    "## To check\n",
    "\n",
    "- chunk overlap > word size, will the word get split into two chunks\n",
    "- mmr >> does it already incorporate reranking >> handle it in code"
   ]
  },
  {
   "cell_type": "code",
   "execution_count": null,
   "id": "e1ecee25-c4c8-4b56-a74c-60c33bb812bf",
   "metadata": {},
   "outputs": [],
   "source": []
  },
  {
   "cell_type": "code",
   "execution_count": null,
   "id": "90f715da-5b90-451d-89d6-b6667f16bd41",
   "metadata": {},
   "outputs": [],
   "source": []
  }
 ],
 "metadata": {
  "kernelspec": {
   "display_name": "Python 3 (ipykernel)",
   "language": "python",
   "name": "python3"
  },
  "language_info": {
   "codemirror_mode": {
    "name": "ipython",
    "version": 3
   },
   "file_extension": ".py",
   "mimetype": "text/x-python",
   "name": "python",
   "nbconvert_exporter": "python",
   "pygments_lexer": "ipython3",
   "version": "3.12.3"
  }
 },
 "nbformat": 4,
 "nbformat_minor": 5
}
