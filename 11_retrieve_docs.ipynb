{
 "cells": [
  {
   "cell_type": "code",
   "execution_count": 1,
   "id": "bdb89753-999f-4aeb-b87d-cfe4fc7eb314",
   "metadata": {},
   "outputs": [],
   "source": [
    "from codes.utils import set_ipynb_config, time_it\n",
    "set_ipynb_config()"
   ]
  },
  {
   "cell_type": "code",
   "execution_count": 2,
   "id": "527f5a8b-5a3b-4899-83fd-3282ec73193c",
   "metadata": {},
   "outputs": [],
   "source": [
    "path_data = 'data/multi_docs/'"
   ]
  },
  {
   "cell_type": "code",
   "execution_count": 3,
   "id": "0241782e-7357-4f3c-93d3-c2becad6a927",
   "metadata": {},
   "outputs": [],
   "source": [
    "path_persist_db = '/Users/prb000j/Downloads/downloaded_models/vector_dbs/'"
   ]
  },
  {
   "cell_type": "markdown",
   "id": "e961101e-c802-416b-847f-eaf5ebb97bd9",
   "metadata": {},
   "source": [
    "## C. Retrieval Process\n",
    "**Expected Input:** Query from user\n",
    "\n",
    "```python\n",
    "get_query_topic(query) -> topics  \n",
    "get_filter_criterion(topics) -> filters\n",
    "retrieve_chunks(query, filters)  # based on filter criterion\n",
    "rerank_chunks(query, chunks) -> chunks\n",
    "```\n",
    "**Expected Output:** List of chunks (or docs)"
   ]
  },
  {
   "cell_type": "code",
   "execution_count": 4,
   "id": "baa17b86-6a66-4702-b063-9a98cfae2fa7",
   "metadata": {},
   "outputs": [],
   "source": [
    "from codes.file_to_docs import Docs2VectorDb"
   ]
  },
  {
   "cell_type": "code",
   "execution_count": 5,
   "id": "23240285-269e-471e-9043-93e478dab880",
   "metadata": {},
   "outputs": [],
   "source": [
    "from langchain_core.documents.base import Document  # required to add additional metadata\n",
    "from langchain_community.vectorstores.chroma import Chroma"
   ]
  },
  {
   "cell_type": "code",
   "execution_count": 6,
   "id": "813f9f81-9db4-4592-bc57-67e3d8f7bb9e",
   "metadata": {},
   "outputs": [],
   "source": [
    "class RetrieveDocs:\n",
    "\n",
    "    def main(query:str, vector_store:Chroma, method_search:str='mmr', method_rerank:str='simple', **kwargs)->list[Document]:\n",
    "        '''\n",
    "        Retrieve documents from vector store based on given query\n",
    "        Arguments:\n",
    "            query <str>: user query\n",
    "            vector_store <Chroma>: chroma vector database,\n",
    "            method <str>: choose one out of ['mmr', 'siml', 'siml_w_relvscore', 'siml_w_score'],\n",
    "            kwargs <dict>: includes a filter based on metadata\n",
    "        '''\n",
    "        docs_retrieved = RetrieveDocs.retrieve_docs(query, vector_store, method_search, **kwargs)\n",
    "        print(\"docs_retrieved:\\n\")\n",
    "        RetrieveDocs.pprint_docs(docs_retrieved)\n",
    "        docs_reranked = RetrieveDocs.rerank_docs(query, docs_retrieved, method_rerank)\n",
    "        return docs_reranked\n",
    "\n",
    "    def retrieve_docs(query:str, vector_store:Chroma, method:str='mmr', **kwargs)->list[Document]:\n",
    "        '''\n",
    "        Retrieve documents from vector store based on given query\n",
    "        Arguments:\n",
    "            query <str>: user query\n",
    "            vector_store <Chroma>: chroma vector database,\n",
    "            method <str>: choose one out of ['mmr', 'siml', 'siml_w_relvscore', 'siml_w_score'],\n",
    "            kwargs <dict>: includes a filter based on metadata\n",
    "        '''\n",
    "        # parameters\n",
    "        k = kwargs.get('k')\n",
    "        k = 4 if not k else k\n",
    "        metadata_filter = kwargs.get('metadata')\n",
    "        metadata_filter = {} if not metadata_filter else metadata_filter\n",
    "        methods = ['mmr', 'siml', 'siml_w_relvscore', 'siml_w_score']\n",
    "        # criteria\n",
    "        if method=='mmr':\n",
    "            docs_retrieved = vector_store.max_marginal_relevance_search(query, k=k, filter=metadata_filter)\n",
    "        elif method=='siml':\n",
    "            docs_retrieved = vector_store.similarity_search(query, k=k, filter=metadata_filter)\n",
    "        elif method=='siml_w_relvscore':\n",
    "            docs_retrieved = vector_store.similarity_search_with_relevance_scores(query, k=k, filter=metadata_filter)\n",
    "        elif method=='siml_w_score':\n",
    "            docs_retrieved = vector_store.similarity_search_with_score(query, k=k, filter=metadata_filter)\n",
    "        else:\n",
    "            print(f'method is incorrect. method needs to be out of {methods}')\n",
    "            raise NotImplementedError\n",
    "\n",
    "        return docs_retrieved\n",
    "\n",
    "    def rerank_docs(query:str, docs:list[Document], method:str='simple')->list[Document]:\n",
    "        '''\n",
    "        Rerank documents based on given query and chosen strategy\n",
    "        Arguments:\n",
    "            query <str>: user query\n",
    "            method <str>: choose one out of ['simple', 'multi-model'],\n",
    "        '''\n",
    "        methods = ['pass', 'simple', 'multi-model']\n",
    "        if method not in methods:\n",
    "            print(f'method is incorrect. method needs to be out of {methods}')\n",
    "            docs_reranked = docs[:]\n",
    "        elif method=='simple':  # Example: [1,2,3,4,5,6] --> [1,3,5] + [6,4,2]\n",
    "            docs_even = [doc for idx, doc in enumerate(docs) if idx%2==0]\n",
    "            docs_odd = [doc for idx, doc in enumerate(docs) if idx%2!=0]\n",
    "            docs_odd_reversed = docs_odd[::-1]\n",
    "            docs_reranked = docs_even + docs_odd_reversed\n",
    "        return docs_reranked\n",
    "\n",
    "\n",
    "    def pprint_docs(docs:list[Document])->None:\n",
    "        '''\n",
    "        print docs one by one\n",
    "        '''\n",
    "        print(\"-\"*30)\n",
    "        for doc in docs:\n",
    "            print(doc.page_content)\n",
    "            metadata_to_be_printed = {k:v for k,v in doc.metadata.items() if k in ['data_type', 'topic']}\n",
    "            print(metadata_to_be_printed)\n",
    "            print('\\n')"
   ]
  },
  {
   "cell_type": "code",
   "execution_count": 7,
   "id": "51324c7d-5be6-4ad7-8d04-4be43b1292f3",
   "metadata": {},
   "outputs": [
    {
     "name": "stderr",
     "output_type": "stream",
     "text": [
      "/opt/miniconda3/envs/suppbot-langchain/lib/python3.12/site-packages/tqdm/auto.py:21: TqdmWarning: IProgress not found. Please update jupyter and ipywidgets. See https://ipywidgets.readthedocs.io/en/stable/user_install.html\n",
      "  from .autonotebook import tqdm as notebook_tqdm\n",
      "/opt/miniconda3/envs/suppbot-langchain/lib/python3.12/site-packages/huggingface_hub/file_download.py:1132: FutureWarning: `resume_download` is deprecated and will be removed in version 1.0.0. Downloads always resume when possible. If you want to force a new download, use `force_download=True`.\n",
      "  warnings.warn(\n"
     ]
    }
   ],
   "source": [
    "vector_store_multi = Docs2VectorDb.load_vector_store(path_persist_db)"
   ]
  },
  {
   "cell_type": "code",
   "execution_count": 8,
   "id": "48797ec8-e783-4726-9e62-f014c1cf9082",
   "metadata": {},
   "outputs": [
    {
     "data": {
      "text/plain": [
       "{'source': {'data/multi_docs/Luminate Report Builder.docx',\n",
       "  'data/multi_docs/Luminate Report Builder.pdf',\n",
       "  'data/multi_docs/dataframe.csv',\n",
       "  'data/multi_docs/marketing.txt'}}"
      ]
     },
     "execution_count": 8,
     "metadata": {},
     "output_type": "execute_result"
    }
   ],
   "source": [
    "sources = Docs2VectorDb.sources_from_vdb(vector_store_multi)\n",
    "sources"
   ]
  },
  {
   "cell_type": "code",
   "execution_count": null,
   "id": "de19a57d-bbb3-4128-91a0-d50f92db54fd",
   "metadata": {},
   "outputs": [],
   "source": []
  },
  {
   "cell_type": "code",
   "execution_count": 12,
   "id": "07a188f8-1fa4-4f60-a69b-85f429035bc7",
   "metadata": {
    "scrolled": true
   },
   "outputs": [
    {
     "name": "stdout",
     "output_type": "stream",
     "text": [
      "{'k': 4, 'metadata': {'title': 'dataframe.csv'}}\n",
      "docs_retrieved:\n",
      "\n",
      "------------------------------\n",
      "to follow along the\n",
      "{'data_type': 'dataframe', 'topic': 'qna on topics like RB, luminate'}\n",
      "\n",
      "\n",
      "you look at reports from\n",
      "{'data_type': 'dataframe', 'topic': 'qna on topics like RB, luminate'}\n",
      "\n",
      "\n",
      "how do I log in ,you can\n",
      "{'data_type': 'dataframe', 'topic': 'qna on topics like RB, luminate'}\n",
      "\n",
      "\n",
      "domains,testsource1\n",
      "{'data_type': 'dataframe', 'topic': 'qna on topics like RB, luminate'}\n",
      "\n",
      "\n",
      "------------------------------\n",
      "to follow along the\n",
      "{'data_type': 'dataframe', 'topic': 'qna on topics like RB, luminate'}\n",
      "\n",
      "\n",
      "how do I log in ,you can\n",
      "{'data_type': 'dataframe', 'topic': 'qna on topics like RB, luminate'}\n",
      "\n",
      "\n",
      "domains,testsource1\n",
      "{'data_type': 'dataframe', 'topic': 'qna on topics like RB, luminate'}\n",
      "\n",
      "\n",
      "you look at reports from\n",
      "{'data_type': 'dataframe', 'topic': 'qna on topics like RB, luminate'}\n",
      "\n",
      "\n"
     ]
    }
   ],
   "source": [
    "query = 'aspires'\n",
    "metadata_filt = {}\n",
    "# metadata_filt['metadata'] = {'topic': 'introduction and background to RB, Luminate'}\n",
    "# metadata_filt['metadata'] = {{'data_type': 'dataframe'}\n",
    "# metadata_filt['metadata'] = {'data_type': {'$in':['txt']}}\n",
    "metadata_filt['metadata'] = {'title': 'dataframe.csv'}\n",
    "# metadata_filt['metadata'] = {'data_type': {'$in':['dataframe', 'word document']}}\n",
    "\n",
    "dict_parameters = {'k': 4}\n",
    "\n",
    "dict_all_params = dict_parameters\n",
    "dict_all_params.update(metadata_filt)\n",
    "print(dict_all_params)\n",
    "\n",
    "docs_retrvd_w_reranking = RetrieveDocs.main(query, vector_store_multi, **dict_all_params)\n",
    "RetrieveDocs.pprint_docs(docs_retrvd_w_reranking)"
   ]
  },
  {
   "cell_type": "code",
   "execution_count": null,
   "id": "0b7f3dde-6c3e-4bf0-8c98-96ec70614ced",
   "metadata": {},
   "outputs": [],
   "source": []
  },
  {
   "cell_type": "code",
   "execution_count": null,
   "id": "3cdf1a32-1551-4977-a1a4-c1c24e046326",
   "metadata": {},
   "outputs": [],
   "source": []
  },
  {
   "cell_type": "code",
   "execution_count": null,
   "id": "fe81a399-6da0-46a1-8b3b-408c8a4ac6f7",
   "metadata": {},
   "outputs": [],
   "source": []
  },
  {
   "cell_type": "markdown",
   "id": "73ca2c36-18c5-4142-be4d-878ba80c2493",
   "metadata": {},
   "source": [
    "## To check\n",
    "\n",
    "- chunk overlap > word size, will the word get split into two chunks\n",
    "- mmr >> does it already incorporate reranking >> handle it in code"
   ]
  },
  {
   "cell_type": "code",
   "execution_count": null,
   "id": "e1ecee25-c4c8-4b56-a74c-60c33bb812bf",
   "metadata": {},
   "outputs": [],
   "source": []
  },
  {
   "cell_type": "code",
   "execution_count": null,
   "id": "90f715da-5b90-451d-89d6-b6667f16bd41",
   "metadata": {},
   "outputs": [],
   "source": []
  }
 ],
 "metadata": {
  "kernelspec": {
   "display_name": "Python 3 (ipykernel)",
   "language": "python",
   "name": "python3"
  },
  "language_info": {
   "codemirror_mode": {
    "name": "ipython",
    "version": 3
   },
   "file_extension": ".py",
   "mimetype": "text/x-python",
   "name": "python",
   "nbconvert_exporter": "python",
   "pygments_lexer": "ipython3",
   "version": "3.12.3"
  }
 },
 "nbformat": 4,
 "nbformat_minor": 5
}
