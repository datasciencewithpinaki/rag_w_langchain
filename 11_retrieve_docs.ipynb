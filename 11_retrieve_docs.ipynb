{
 "cells": [
  {
   "cell_type": "code",
   "execution_count": 1,
   "id": "bdb89753-999f-4aeb-b87d-cfe4fc7eb314",
   "metadata": {},
   "outputs": [],
   "source": [
    "from codes.utils import set_ipynb_config, time_it\n",
    "set_ipynb_config()"
   ]
  },
  {
   "cell_type": "code",
   "execution_count": 4,
   "id": "595e7f7c-ff2b-4654-869a-3c6a1871b2d3",
   "metadata": {},
   "outputs": [],
   "source": [
    "import os\n",
    "from dotenv import load_dotenv"
   ]
  },
  {
   "cell_type": "code",
   "execution_count": 3,
   "id": "fca9a183-95f8-493e-b96e-8d85149afaf4",
   "metadata": {},
   "outputs": [
    {
     "data": {
      "text/plain": [
       "True"
      ]
     },
     "execution_count": 3,
     "metadata": {},
     "output_type": "execute_result"
    }
   ],
   "source": [
    "load_dotenv()"
   ]
  },
  {
   "cell_type": "code",
   "execution_count": 2,
   "id": "527f5a8b-5a3b-4899-83fd-3282ec73193c",
   "metadata": {},
   "outputs": [],
   "source": [
    "path_data = 'data/multi_docs/'"
   ]
  },
  {
   "cell_type": "code",
   "execution_count": 5,
   "id": "0241782e-7357-4f3c-93d3-c2becad6a927",
   "metadata": {},
   "outputs": [],
   "source": [
    "path_persist_db = os.getenv('PATH_PERSIST_DB')"
   ]
  },
  {
   "cell_type": "raw",
   "id": "2e4f75b8-047b-413b-bd83-cb5f8f98dc4f",
   "metadata": {},
   "source": [
    "path_persist_db"
   ]
  },
  {
   "cell_type": "markdown",
   "id": "e961101e-c802-416b-847f-eaf5ebb97bd9",
   "metadata": {},
   "source": [
    "## C. Retrieval Process\n",
    "**Expected Input:** Query from user\n",
    "\n",
    "```python\n",
    "get_query_topic(query) -> topics  \n",
    "get_filter_criterion(topics) -> filters\n",
    "retrieve_chunks(query, filters)  # based on filter criterion\n",
    "rerank_chunks(query, chunks) -> chunks\n",
    "```\n",
    "**Expected Output:** List of chunks (or docs)"
   ]
  },
  {
   "cell_type": "code",
   "execution_count": 7,
   "id": "baa17b86-6a66-4702-b063-9a98cfae2fa7",
   "metadata": {},
   "outputs": [],
   "source": [
    "from codes.file_to_docs import Docs2VectorDb"
   ]
  },
  {
   "cell_type": "code",
   "execution_count": 8,
   "id": "f0936183-4fe5-4e24-bee1-1d14c75fc254",
   "metadata": {},
   "outputs": [],
   "source": [
    "from codes.retrieve_docs import RetrieveDocs"
   ]
  },
  {
   "cell_type": "code",
   "execution_count": 5,
   "id": "23240285-269e-471e-9043-93e478dab880",
   "metadata": {},
   "outputs": [],
   "source": [
    "from langchain_core.documents.base import Document  # required to add additional metadata\n",
    "from langchain_community.vectorstores.chroma import Chroma"
   ]
  },
  {
   "cell_type": "code",
   "execution_count": 9,
   "id": "51324c7d-5be6-4ad7-8d04-4be43b1292f3",
   "metadata": {},
   "outputs": [
    {
     "name": "stderr",
     "output_type": "stream",
     "text": [
      "/Library/Frameworks/Python.framework/Versions/3.10/lib/python3.10/site-packages/huggingface_hub/file_download.py:1132: FutureWarning: `resume_download` is deprecated and will be removed in version 1.0.0. Downloads always resume when possible. If you want to force a new download, use `force_download=True`.\n",
      "  warnings.warn(\n"
     ]
    }
   ],
   "source": [
    "vector_store_multi = Docs2VectorDb.load_vector_store(path_persist_db)"
   ]
  },
  {
   "cell_type": "code",
   "execution_count": 10,
   "id": "48797ec8-e783-4726-9e62-f014c1cf9082",
   "metadata": {},
   "outputs": [
    {
     "data": {
      "text/plain": [
       "{'source': {'data/garb_in_garb_out.txt',\n",
       "  'data/marketing.txt',\n",
       "  'data/personal_finance.txt',\n",
       "  'data/qna_ds.csv'}}"
      ]
     },
     "execution_count": 10,
     "metadata": {},
     "output_type": "execute_result"
    }
   ],
   "source": [
    "sources = Docs2VectorDb.sources_from_vdb(vector_store_multi)\n",
    "sources"
   ]
  },
  {
   "cell_type": "code",
   "execution_count": null,
   "id": "de19a57d-bbb3-4128-91a0-d50f92db54fd",
   "metadata": {},
   "outputs": [],
   "source": []
  },
  {
   "cell_type": "code",
   "execution_count": 12,
   "id": "07a188f8-1fa4-4f60-a69b-85f429035bc7",
   "metadata": {
    "scrolled": true
   },
   "outputs": [
    {
     "name": "stdout",
     "output_type": "stream",
     "text": [
      "{'k': 4, 'metadata': {'topic': 'philosophy'}}\n",
      "docs_retrieved:\n",
      "\n",
      "------------------------------\n",
      "The clothes we wear are more than fabric. They carry our stories, our\n",
      "{'data_type': 'txt', 'topic': 'philosophy'}\n",
      "\n",
      "\n",
      "philosophy extended beyond mere clothing. It was a reflection on life\n",
      "{'data_type': 'txt', 'topic': 'philosophy'}\n",
      "\n",
      "\n",
      "work extended beyond mere stitching and hemming. His garments seemed\n",
      "{'data_type': 'txt', 'topic': 'philosophy'}\n",
      "\n",
      "\n",
      "shop, seeking a new coat. \"What does 'Garb in, Garb out' mean?\" she\n",
      "{'data_type': 'txt', 'topic': 'philosophy'}\n",
      "\n",
      "\n",
      "------------------------------\n",
      "The clothes we wear are more than fabric. They carry our stories, our\n",
      "{'data_type': 'txt', 'topic': 'philosophy'}\n",
      "\n",
      "\n",
      "work extended beyond mere stitching and hemming. His garments seemed\n",
      "{'data_type': 'txt', 'topic': 'philosophy'}\n",
      "\n",
      "\n",
      "shop, seeking a new coat. \"What does 'Garb in, Garb out' mean?\" she\n",
      "{'data_type': 'txt', 'topic': 'philosophy'}\n",
      "\n",
      "\n",
      "philosophy extended beyond mere clothing. It was a reflection on life\n",
      "{'data_type': 'txt', 'topic': 'philosophy'}\n",
      "\n",
      "\n"
     ]
    }
   ],
   "source": [
    "query = 'clothing'\n",
    "metadata_filt = {}\n",
    "metadata_filt['metadata'] = {'topic': 'philosophy'}\n",
    "# metadata_filt['metadata'] = {{'data_type': 'dataframe'}\n",
    "# metadata_filt['metadata'] = {'data_type': {'$in':['txt']}}\n",
    "# metadata_filt['metadata'] = {'title': 'marketing.txt'}\n",
    "# metadata_filt['metadata'] = {'data_type': {'$in':['dataframe', 'word document']}}\n",
    "\n",
    "dict_parameters = {'k': 4}\n",
    "\n",
    "dict_all_params = dict_parameters\n",
    "dict_all_params.update(metadata_filt)\n",
    "print(dict_all_params)\n",
    "\n",
    "docs_retrvd_w_reranking = RetrieveDocs.main(query, vector_store_multi, **dict_all_params)\n",
    "RetrieveDocs.pprint_docs(docs_retrvd_w_reranking)"
   ]
  },
  {
   "cell_type": "code",
   "execution_count": null,
   "id": "0b7f3dde-6c3e-4bf0-8c98-96ec70614ced",
   "metadata": {},
   "outputs": [],
   "source": []
  },
  {
   "cell_type": "code",
   "execution_count": null,
   "id": "3cdf1a32-1551-4977-a1a4-c1c24e046326",
   "metadata": {},
   "outputs": [],
   "source": []
  },
  {
   "cell_type": "code",
   "execution_count": null,
   "id": "fe81a399-6da0-46a1-8b3b-408c8a4ac6f7",
   "metadata": {},
   "outputs": [],
   "source": []
  },
  {
   "cell_type": "markdown",
   "id": "73ca2c36-18c5-4142-be4d-878ba80c2493",
   "metadata": {},
   "source": [
    "## To check\n",
    "\n",
    "- chunk overlap > word size, will the word get split into two chunks\n",
    "- mmr >> does it already incorporate reranking >> handle it in code"
   ]
  },
  {
   "cell_type": "code",
   "execution_count": null,
   "id": "e1ecee25-c4c8-4b56-a74c-60c33bb812bf",
   "metadata": {},
   "outputs": [],
   "source": []
  },
  {
   "cell_type": "code",
   "execution_count": null,
   "id": "90f715da-5b90-451d-89d6-b6667f16bd41",
   "metadata": {},
   "outputs": [],
   "source": []
  }
 ],
 "metadata": {
  "kernelspec": {
   "display_name": "Python 3 (ipykernel)",
   "language": "python",
   "name": "python3"
  },
  "language_info": {
   "codemirror_mode": {
    "name": "ipython",
    "version": 3
   },
   "file_extension": ".py",
   "mimetype": "text/x-python",
   "name": "python",
   "nbconvert_exporter": "python",
   "pygments_lexer": "ipython3",
   "version": "3.10.4"
  }
 },
 "nbformat": 4,
 "nbformat_minor": 5
}
